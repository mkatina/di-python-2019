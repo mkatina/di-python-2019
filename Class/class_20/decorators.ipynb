{
 "cells": [
  {
   "cell_type": "markdown",
   "metadata": {},
   "source": [
    "# Decorators"
   ]
  },
  {
   "cell_type": "markdown",
   "metadata": {},
   "source": [
    "## What is a decorator \n",
    "\n",
    "Decorators are wrappers for functions, it allows us to modify the behaviour of a function without modifying it permanently."
   ]
  },
  {
   "cell_type": "markdown",
   "metadata": {},
   "source": [
    "## Syntax\n",
    "\n",
    "The decorator takes a function as an argument, and then define a wrapper function, which contains the arguments of the function.<br>\n",
    "It return the wrapper address.<br>\n",
    "<pre><code>\n",
    "def <name_of_the_decorator>(called_function):        # Define a decorator\n",
    "    def wrapper(<args_of_the_function>):             # Define the wrapper\n",
    "        <Additional_code>                            # Add some code\n",
    "        called_function(<args_of_the_function>)      # Call the original function\n",
    "        <Additional_code>                            # Add some more code\n",
    "        return <returning_value>                     # This will be the value returned by the function call\n",
    "    return wrapper                                   # Return the \"new function\"\n",
    "\n",
    "@<name_of_the_decorator>                             # Activate the decorator on my_function\n",
    "def myfunction(<args_of_the_function>):\n",
    "    CODE...\n",
    "</pre></code>\n",
    "__Example:__"
   ]
  },
  {
   "cell_type": "code",
   "execution_count": 37,
   "metadata": {
    "scrolled": true
   },
   "outputs": [],
   "source": [
    "def print_helloworld():\n",
    "    print(\"Hello world from the function\")"
   ]
  },
  {
   "cell_type": "markdown",
   "metadata": {},
   "source": [
    "__Decorated to add a message:__"
   ]
  },
  {
   "cell_type": "code",
   "execution_count": 1,
   "metadata": {},
   "outputs": [
    {
     "name": "stdout",
     "output_type": "stream",
     "text": [
      "Hello world from the decorator\n",
      "Hello world from the function\n"
     ]
    }
   ],
   "source": [
    "def my_decorator(called_function):\n",
    "    def new_function():\n",
    "        print(\"Hello world from the decorator\")\n",
    "        called_function()\n",
    "    return new_function\n",
    "\n",
    "@my_decorator\n",
    "def print_helloworld():\n",
    "    print(\"Hello world from the function\")\n",
    "\n",
    "print_helloworld()"
   ]
  },
  {
   "cell_type": "markdown",
   "metadata": {},
   "source": [
    "### On a function with arguments"
   ]
  },
  {
   "cell_type": "code",
   "execution_count": 39,
   "metadata": {},
   "outputs": [
    {
     "name": "stdout",
     "output_type": "stream",
     "text": [
      "Hello world from Eyal\n",
      "Hello to Eyal\n"
     ]
    }
   ],
   "source": [
    "def cap_decorator(func):\n",
    "    \n",
    "    def wrapper(name):\n",
    "        name = name.capitalize()\n",
    "        func(name)\n",
    "        \n",
    "    return wrapper\n",
    "\n",
    "@cap_decorator\n",
    "def print_my_name(name):\n",
    "    print(\"Hello world from\",name)\n",
    "\n",
    "@cap_decorator\n",
    "def say_hello_to_me(name):\n",
    "    print(\"Hello to\",name)\n",
    "    \n",
    "print_my_name(\"eyal\")\n",
    "say_hello_to_me(\"eyal\")"
   ]
  },
  {
   "cell_type": "markdown",
   "metadata": {},
   "source": [
    "## On a function with an unknown number of arguments"
   ]
  },
  {
   "cell_type": "code",
   "execution_count": 40,
   "metadata": {
    "scrolled": false
   },
   "outputs": [
    {
     "name": "stdout",
     "output_type": "stream",
     "text": [
      "I am John Ricotta and I love Coding\n",
      "The name of my father is John\n",
      "The name of my mother is Valentina\n",
      "The name of my brother is Mario\n",
      "The name of my sister is Luigi\n"
     ]
    }
   ],
   "source": [
    "def cap_decorator(func):\n",
    "    def wrapper(*args, **kwargs):\n",
    "        args = [arg.capitalize() for arg in args]\n",
    "        func(*args, **kwargs)\n",
    "    return wrapper\n",
    "\n",
    "@cap_decorator\n",
    "def describe_me(first_name, last_name, favourite_activity):\n",
    "    print(\"I am {} {} and I love {}\".format(first_name, last_name, favourite_activity))\n",
    "    \n",
    "@cap_decorator\n",
    "def describe_my_family(father_name, mother_name, brother_name, sister_name):\n",
    "    print(\"The name of my father is\", father_name)\n",
    "    print(\"The name of my mother is\", mother_name)\n",
    "    print(\"The name of my brother is\", brother_name)\n",
    "    print(\"The name of my sister is\", sister_name)\n",
    "    \n",
    "describe_me(\"john\", \"ricotta\", \"coding\")\n",
    "describe_my_family(\"John\",\"Valentina\",\"mario\",\"luigi\")"
   ]
  },
  {
   "cell_type": "markdown",
   "metadata": {},
   "source": [
    "# Add arguments to decorator"
   ]
  },
  {
   "cell_type": "code",
   "execution_count": 8,
   "metadata": {},
   "outputs": [
    {
     "name": "stdout",
     "output_type": "stream",
     "text": [
      "Hello world from Little dec\n",
      "Hello from my function\n"
     ]
    }
   ],
   "source": [
    "def decorator_creator(name):\n",
    "    def decorator(function):\n",
    "        \n",
    "        def new_function(*args, **kwargs):\n",
    "            print(\"Hello world from\", name)\n",
    "            return function(*args, **kwargs)\n",
    "        \n",
    "        return new_function\n",
    "    \n",
    "    return decorator\n",
    "\n",
    "@decorator_creator(\"Little dec\")\n",
    "def my_function():  \n",
    "    print(\"Hello from my function\")\n",
    "\n",
    "my_function()"
   ]
  },
  {
   "cell_type": "code",
   "execution_count": 14,
   "metadata": {},
   "outputs": [
    {
     "name": "stdout",
     "output_type": "stream",
     "text": [
      "\n",
      "    <html>\n",
      "    <body>\n",
      "        <h1>Hello world</h1>\n",
      "    </body>\n",
      "    </html>\n",
      "    \n"
     ]
    }
   ],
   "source": [
    "list_of_functions = []\n",
    "routes = {}\n",
    "\n",
    "def add_to_list(function):\n",
    "    list_of_functions.append(function)\n",
    "    return function\n",
    "\n",
    "#### YOUR CODE\n",
    "def route(function_name): # A decorator maker\n",
    "    \n",
    "    def decorator(function):\n",
    "        routes[function_name] = function\n",
    "        return function\n",
    "    \n",
    "    return decorator\n",
    "\n",
    "#### END OF YOUR CODE\n",
    "\n",
    "@add_to_list\n",
    "@route(\"function1\")\n",
    "def my_function1():\n",
    "    print(\"Function 1\")\n",
    "\n",
    "@add_to_list\n",
    "@route(\"multiply\")\n",
    "def multiply(n1, n2):\n",
    "    return n1*n2\n",
    "\n",
    "@add_to_dict(\"hello_world\")\n",
    "def my_function2():\n",
    "    print(\"Hello world\")\n",
    "    \n",
    "@route(\"/home\")\n",
    "def homepage():\n",
    "    print(\"\"\"\n",
    "    <html>\n",
    "    <body>\n",
    "        <h1>Hello world</h1>\n",
    "    </body>\n",
    "    </html>\n",
    "    \"\"\")\n",
    "\n",
    "def mapper(url):\n",
    "    function = routes[url]\n",
    "    function()\n",
    "    \n",
    "mapper(\"/home\")"
   ]
  },
  {
   "cell_type": "markdown",
   "metadata": {},
   "source": [
    "****\n",
    "# Exercises"
   ]
  },
  {
   "cell_type": "markdown",
   "metadata": {},
   "source": [
    "### 1\n",
    "Make a decorator that run the function in loop 3 times"
   ]
  },
  {
   "cell_type": "markdown",
   "metadata": {},
   "source": [
    "### 2 \n",
    "Create a decorator that run the function and then ask the user if he wants to run it one more time, until the user say no"
   ]
  },
  {
   "cell_type": "markdown",
   "metadata": {},
   "source": [
    "### 3\n",
    "Create a decorator that print the execution time of a function"
   ]
  },
  {
   "cell_type": "markdown",
   "metadata": {},
   "source": [
    "### 4 \n",
    "Create a decorator that wait 5 seconds before running the function"
   ]
  },
  {
   "cell_type": "markdown",
   "metadata": {},
   "source": [
    "---\n",
    "# Order of decorator execution\n",
    "\n",
    "The decorators are executed in the same order than they appear in the file"
   ]
  },
  {
   "cell_type": "code",
   "execution_count": 5,
   "metadata": {},
   "outputs": [
    {
     "name": "stdout",
     "output_type": "stream",
     "text": [
      "Hello from decorator\n",
      "Hello from decorator 2\n",
      "Hello world!\n"
     ]
    }
   ],
   "source": [
    "def first_decorator(f):\n",
    "    def wrapper():\n",
    "        print(\"Hello from decorator\")\n",
    "        f()\n",
    "    return wrapper\n",
    "\n",
    "def second_decorator(f):\n",
    "    def wrapper():\n",
    "        print(\"Hello from decorator 2\")\n",
    "        f()\n",
    "    return wrapper\n",
    "\n",
    "@first_decorator\n",
    "@second_decorator\n",
    "def simple_function():\n",
    "    print(\"Hello world!\")\n",
    "    \n",
    "simple_function()"
   ]
  },
  {
   "cell_type": "code",
   "execution_count": null,
   "metadata": {},
   "outputs": [],
   "source": []
  }
 ],
 "metadata": {
  "kernelspec": {
   "display_name": "Python 3",
   "language": "python",
   "name": "python3"
  },
  "language_info": {
   "codemirror_mode": {
    "name": "ipython",
    "version": 3
   },
   "file_extension": ".py",
   "mimetype": "text/x-python",
   "name": "python",
   "nbconvert_exporter": "python",
   "pygments_lexer": "ipython3",
   "version": "3.7.3"
  }
 },
 "nbformat": 4,
 "nbformat_minor": 2
}
