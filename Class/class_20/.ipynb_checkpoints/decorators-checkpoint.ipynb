{
 "cells": [
  {
   "cell_type": "markdown",
   "metadata": {},
   "source": [
    "# Decorators"
   ]
  },
  {
   "cell_type": "markdown",
   "metadata": {},
   "source": [
    "## What is a decorator \n",
    "\n",
    "Decorators are wrappers for functions, it allows us to modify the behaviour of a function without modifying it permanently."
   ]
  },
  {
   "cell_type": "markdown",
   "metadata": {},
   "source": [
    "## Syntax\n",
    "\n",
    "The decorator takes a function as an argument, and then define a wrapper function, which contains the arguments of the function.<br>\n",
    "It return the wrapper address.<br>\n",
    "<pre><code>\n",
    "def <name_of_the_decorator>(called_function):        # Define a decorator\n",
    "    def wrapper(<args_of_the_function>):             # Define the wrapper\n",
    "        <Additional_code>                            # Add some code\n",
    "        called_function(<args_of_the_function>)      # Call the original function\n",
    "        <Additional_code>                            # Add some more code\n",
    "        return <returning_value>                     # This will be the value returned by the function call\n",
    "    return wrapper                                   # Return the \"new function\"\n",
    "\n",
    "@<name_of_the_decorator>                             # Activate the decorator on my_function\n",
    "def myfunction(<args_of_the_function>):\n",
    "    CODE...\n",
    "</pre></code>\n",
    "__Example:__"
   ]
  },
  {
   "cell_type": "code",
   "execution_count": 37,
   "metadata": {
    "scrolled": true
   },
   "outputs": [],
   "source": [
    "def print_helloworld():\n",
    "    print(\"Hello world from the function\")"
   ]
  },
  {
   "cell_type": "markdown",
   "metadata": {},
   "source": [
    "__Decorated to add a message:__"
   ]
  },
  {
   "cell_type": "code",
   "execution_count": 38,
   "metadata": {},
   "outputs": [
    {
     "name": "stdout",
     "output_type": "stream",
     "text": [
      "Hello world from the decorator\n",
      "Hello world from the function\n"
     ]
    }
   ],
   "source": [
    "def my_decorator(called_function):\n",
    "    def new_function():\n",
    "        print(\"Hello world from the decorator\")\n",
    "        called_function()\n",
    "    return new_function\n",
    "\n",
    "@my_decorator\n",
    "def print_helloworld():\n",
    "    print(\"Hello world from the function\")\n",
    "\n",
    "print_helloworld()"
   ]
  },
  {
   "cell_type": "markdown",
   "metadata": {},
   "source": [
    "### On a function with arguments"
   ]
  },
  {
   "cell_type": "code",
   "execution_count": 39,
   "metadata": {},
   "outputs": [
    {
     "name": "stdout",
     "output_type": "stream",
     "text": [
      "Hello world from Eyal\n",
      "Hello to Eyal\n"
     ]
    }
   ],
   "source": [
    "def cap_decorator(func):\n",
    "    \n",
    "    def wrapper(name):\n",
    "        name = name.capitalize()\n",
    "        func(name)\n",
    "        \n",
    "    return wrapper\n",
    "\n",
    "@cap_decorator\n",
    "def print_my_name(name):\n",
    "    print(\"Hello world from\",name)\n",
    "\n",
    "@cap_decorator\n",
    "def say_hello_to_me(name):\n",
    "    print(\"Hello to\",name)\n",
    "    \n",
    "print_my_name(\"eyal\")\n",
    "say_hello_to_me(\"eyal\")"
   ]
  },
  {
   "cell_type": "markdown",
   "metadata": {},
   "source": [
    "## On a function with an unknown number of arguments"
   ]
  },
  {
   "cell_type": "code",
   "execution_count": 40,
   "metadata": {},
   "outputs": [
    {
     "name": "stdout",
     "output_type": "stream",
     "text": [
      "I am John Ricotta and I love Coding\n",
      "The name of my father is John\n",
      "The name of my mother is Valentina\n",
      "The name of my brother is Mario\n",
      "The name of my sister is Luigi\n"
     ]
    }
   ],
   "source": [
    "def cap_decorator(func):\n",
    "    def wrapper(*args, **kwargs):\n",
    "        args = [arg.capitalize() for arg in args]\n",
    "        func(*args, **kwargs)\n",
    "    return wrapper\n",
    "\n",
    "@cap_decorator\n",
    "def describe_me(first_name, last_name, favourite_activity):\n",
    "    print(\"I am {} {} and I love {}\".format(first_name, last_name, favourite_activity))\n",
    "    \n",
    "@cap_decorator\n",
    "def describe_my_family(father_name, mother_name, brother_name, sister_name):\n",
    "    print(\"The name of my father is\", father_name)\n",
    "    print(\"The name of my mother is\", mother_name)\n",
    "    print(\"The name of my brother is\", brother_name)\n",
    "    print(\"The name of my sister is\", sister_name)\n",
    "    \n",
    "describe_me(\"john\", \"ricotta\", \"coding\")\n",
    "describe_my_family(\"John\",\"Valentina\",\"mario\",\"luigi\")"
   ]
  },
  {
   "cell_type": "markdown",
   "metadata": {},
   "source": [
    "****\n",
    "# Exercises"
   ]
  },
  {
   "cell_type": "markdown",
   "metadata": {},
   "source": [
    "### 1\n",
    "Make a decorator that run the function in loop 3 times"
   ]
  },
  {
   "cell_type": "code",
   "execution_count": 41,
   "metadata": {},
   "outputs": [
    {
     "name": "stdout",
     "output_type": "stream",
     "text": [
      "Hello world !\n",
      "Hello world !\n",
      "Hello world !\n"
     ]
    }
   ],
   "source": [
    "def mydecorator(func):\n",
    "    def wrapper():\n",
    "        func()\n",
    "        func()\n",
    "        func()\n",
    "    return wrapper \n",
    "\n",
    "@mydecorator\n",
    "def myfunction():\n",
    "    print(\"Hello world !\")\n",
    "    \n",
    "myfunction()"
   ]
  },
  {
   "cell_type": "markdown",
   "metadata": {},
   "source": [
    "### 2 \n",
    "Create a decorator that run the function and then ask the user if he wants to run it one more time, until the user say no"
   ]
  },
  {
   "cell_type": "code",
   "execution_count": 42,
   "metadata": {},
   "outputs": [],
   "source": [
    "def mydecorator(func):\n",
    "    def wrapper(*args, **kwargs):\n",
    "        while True:\n",
    "            func()\n",
    "            userinput = input(\"Run one more time?[yes/no]\")\n",
    "            if userinput.lower != 'yes':\n",
    "                break\n",
    "        return wrapper\n",
    "    \n",
    "@mydecorator\n",
    "def myfunction():\n",
    "    print(\"Hello world !\")"
   ]
  },
  {
   "cell_type": "markdown",
   "metadata": {},
   "source": [
    "### 3\n",
    "Create a decorator that print the execution time of a function"
   ]
  },
  {
   "cell_type": "code",
   "execution_count": 43,
   "metadata": {
    "scrolled": true
   },
   "outputs": [
    {
     "name": "stdout",
     "output_type": "stream",
     "text": [
      "function myfunction took 0.02692127227783203 seconds to execute\n"
     ]
    }
   ],
   "source": [
    "import time\n",
    "def time_decorator(func):\n",
    "    def wrapper(*args, **kwargs):\n",
    "        before = time.time()\n",
    "        func(*args, **kwargs)\n",
    "        after = time.time()\n",
    "        exec_time = after - before\n",
    "        \n",
    "        print(\"function {} took {} seconds to execute\".format(func.__name__, exec_time))\n",
    "    return wrapper\n",
    "\n",
    "@time_decorator\n",
    "def myfunction():\n",
    "    for i in range(500000):\n",
    "        i += i\n",
    "        \n",
    "myfunction()"
   ]
  },
  {
   "cell_type": "markdown",
   "metadata": {},
   "source": [
    "### 4 \n",
    "Create a decorator that wait 5 seconds before running the function"
   ]
  }
 ],
 "metadata": {
  "kernelspec": {
   "display_name": "Python 3",
   "language": "python",
   "name": "python3"
  },
  "language_info": {
   "codemirror_mode": {
    "name": "ipython",
    "version": 3
   },
   "file_extension": ".py",
   "mimetype": "text/x-python",
   "name": "python",
   "nbconvert_exporter": "python",
   "pygments_lexer": "ipython3",
   "version": "3.7.3"
  }
 },
 "nbformat": 4,
 "nbformat_minor": 2
}
