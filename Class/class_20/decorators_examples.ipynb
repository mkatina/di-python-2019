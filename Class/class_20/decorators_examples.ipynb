{
 "cells": [
  {
   "cell_type": "markdown",
   "metadata": {},
   "source": [
    "\n",
    "## Decorators"
   ]
  },
  {
   "cell_type": "code",
   "execution_count": 1,
   "metadata": {},
   "outputs": [
    {
     "name": "stdout",
     "output_type": "stream",
     "text": [
      "Hey, this is the decorator\n",
      "This is the function of eyal\n"
     ]
    }
   ],
   "source": [
    "def my_first_decorator(f):\n",
    "    def wrapper():\n",
    "        print(\"Hey, this is the decorator\")\n",
    "        result = f()\n",
    "        return result\n",
    "    return wrapper\n",
    "\n",
    "@my_first_decorator\n",
    "def function_of_eyal():\n",
    "    print(\"This is the function of eyal\")\n",
    "\n",
    "function_of_eyal()"
   ]
  },
  {
   "cell_type": "code",
   "execution_count": 6,
   "metadata": {},
   "outputs": [
    {
     "name": "stdout",
     "output_type": "stream",
     "text": [
      "Hey, this is the decorator\n",
      "How old are you?\n",
      ">>> 3\n",
      "4\n"
     ]
    }
   ],
   "source": [
    "def return_int(func):\n",
    "    def wrapper():\n",
    "        result = func()\n",
    "        result = int(result)\n",
    "        return result\n",
    "    return wrapper\n",
    "\n",
    "\n",
    "@return_int\n",
    "@my_first_decorator\n",
    "def get_user_age():\n",
    "    print(\"How old are you?\")\n",
    "    usr_input = input(\">>> \")\n",
    "    return usr_input\n",
    "\n",
    "@return_int\n",
    "def get_number_of_years_in_israel():\n",
    "    print(\"How many years are you in israel?\")\n",
    "    usr_input = input(\">>> \")\n",
    "    return usr_input\n",
    "\n",
    "@return_int\n",
    "def get_family_size():\n",
    "    print(\"How many brothers/sisters do you have?\")\n",
    "    usr_input = input(\">>> \")\n",
    "    return usr_input\n",
    "\n",
    "print(get_user_age() + 1 )"
   ]
  },
  {
   "cell_type": "code",
   "execution_count": 2,
   "metadata": {},
   "outputs": [
    {
     "ename": "NameError",
     "evalue": "name 'my_functions' is not defined",
     "output_type": "error",
     "traceback": [
      "\u001b[0;31m---------------------------------------------------------------------------\u001b[0m",
      "\u001b[0;31mNameError\u001b[0m                                 Traceback (most recent call last)",
      "\u001b[0;32m<ipython-input-2-9a0e1de67fe4>\u001b[0m in \u001b[0;36m<module>\u001b[0;34m\u001b[0m\n\u001b[1;32m     29\u001b[0m     \u001b[0;32mreturn\u001b[0m \u001b[0musr_input\u001b[0m\u001b[0;34m\u001b[0m\u001b[0;34m\u001b[0m\u001b[0m\n\u001b[1;32m     30\u001b[0m \u001b[0;34m\u001b[0m\u001b[0m\n\u001b[0;32m---> 31\u001b[0;31m \u001b[0mprint\u001b[0m\u001b[0;34m(\u001b[0m\u001b[0mmy_functions\u001b[0m\u001b[0;34m[\u001b[0m\u001b[0;36m0\u001b[0m\u001b[0;34m]\u001b[0m\u001b[0;34m(\u001b[0m\u001b[0;34m)\u001b[0m\u001b[0;34m)\u001b[0m\u001b[0;34m\u001b[0m\u001b[0;34m\u001b[0m\u001b[0m\n\u001b[0m",
      "\u001b[0;31mNameError\u001b[0m: name 'my_functions' is not defined"
     ]
    }
   ],
   "source": [
    "\n",
    "\n",
    "def add_to_list(func):\n",
    "    my_functions = []\n",
    "    my_functions.append(func)\n",
    "    \n",
    "    def wrapper():\n",
    "        result = func()\n",
    "        return result\n",
    "    \n",
    "    return wrapper\n",
    "\n",
    "@add_to_list\n",
    "def get_user_age():\n",
    "    print(\"How old are you?\")\n",
    "    usr_input = input(\">>> \")\n",
    "    return usr_input\n",
    "\n",
    "@add_to_list\n",
    "def get_number_of_years_in_israel():\n",
    "    print(\"How many years are you in israel?\")\n",
    "    usr_input = input(\">>> \")\n",
    "    return usr_input\n",
    "\n",
    "@add_to_list\n",
    "def get_family_size():\n",
    "    print(\"How many brothers/sisters do you have?\")\n",
    "    usr_input = input(\">>> \")\n",
    "    return usr_input\n",
    "\n",
    "print(my_functions[0]())"
   ]
  },
  {
   "cell_type": "code",
   "execution_count": null,
   "metadata": {},
   "outputs": [],
   "source": []
  }
 ],
 "metadata": {
  "kernelspec": {
   "display_name": "Python 3",
   "language": "python",
   "name": "python3"
  },
  "language_info": {
   "codemirror_mode": {
    "name": "ipython",
    "version": 3
   },
   "file_extension": ".py",
   "mimetype": "text/x-python",
   "name": "python",
   "nbconvert_exporter": "python",
   "pygments_lexer": "ipython3",
   "version": "3.7.3"
  }
 },
 "nbformat": 4,
 "nbformat_minor": 2
}
