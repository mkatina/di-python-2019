{
 "cells": [
  {
   "cell_type": "markdown",
   "metadata": {},
   "source": [
    "# Files"
   ]
  },
  {
   "cell_type": "markdown",
   "metadata": {},
   "source": [
    "open(filename, mode) ==> File Object, mode can be 'r', 'w', 'a'<br>\n",
    "r --> read the file<br>\n",
    "w --> erase everything and then write<br>\n",
    "a --> appending something to the file<br><br>\n",
    "\n",
    "FileObject.close ==> closing the file<br>\n",
    "\n",
    "FileObject.read() ==> Return a string with the content of the file<br>\n",
    "FileObject.readlines() ==> Returns a list with the lines of the file<br>"
   ]
  },
  {
   "cell_type": "markdown",
   "metadata": {},
   "source": [
    "# os Module"
   ]
  },
  {
   "cell_type": "markdown",
   "metadata": {},
   "source": [
    "import os ==> import the module<br>\n",
    "list(os.scandir(directory)) ==> return the list of every file in directory (default is working directory), the results are DirEntry objects<br>\n",
    "os.mkdir(dirname) ==> Create a dir called dirname\n",
    "\n",
    "### DirEntry\n",
    "DirEntry.name --> name of the file<br>\n",
    "DirEntry.path --> Relative path of the file<br>\n",
    "DirEntry.is_file() --> True if the entry is a file, else False<br>\n",
    "DirEntry.is_dir()  --> True if the entry is a directory, else False<br>\n",
    "\n",
    "\n"
   ]
  },
  {
   "cell_type": "markdown",
   "metadata": {},
   "source": [
    "## Examples:"
   ]
  },
  {
   "cell_type": "markdown",
   "metadata": {},
   "source": [
    "### Search for a number in a file"
   ]
  },
  {
   "cell_type": "code",
   "execution_count": null,
   "metadata": {
    "scrolled": true
   },
   "outputs": [],
   "source": [
    "searched_number = 1000 # The number we want to search\n",
    "f = open(\"myfile.txt\", 'r') # Open the file in readable mode\n",
    "lines = f.readlines() # Get the lines\n",
    "f.close() # Close the file\n",
    "\n",
    "for line in lines:\n",
    "    line = line.strip() # Remove white spaces and \\n\n",
    "    line = int(line) # Get the number as int\n",
    "    if line == searched_number:\n",
    "        print(\"Found !\")\n"
   ]
  },
  {
   "cell_type": "markdown",
   "metadata": {},
   "source": [
    "### Write every numbers from 0 to 1000 in a file"
   ]
  },
  {
   "cell_type": "code",
   "execution_count": 5,
   "metadata": {},
   "outputs": [],
   "source": [
    "f = open(\"myfile.txt\", 'w') #Open file in Writable mode\n",
    "\n",
    "for n in range(1001): #Get numbers from 0 to 1000\n",
    "    f.write(str(n)+\"\\n\") # Don't forget to convert n to string and add a new line\n",
    "\n",
    "f.close() # Close file"
   ]
  },
  {
   "cell_type": "markdown",
   "metadata": {},
   "source": [
    "### Copy the content of a file to another"
   ]
  },
  {
   "cell_type": "code",
   "execution_count": null,
   "metadata": {
    "scrolled": true
   },
   "outputs": [],
   "source": [
    "# Retrieve the content of the old file\n",
    "old_file = open(\"myoldfile.txt\", 'r') \n",
    "old_lines = old_file.readlines()\n",
    "old_file.close()\n",
    "\n",
    "# Copy every line to the new file\n",
    "new_file = open(\"mynewfile.txt\", 'w')\n",
    "for line in old_lines:\n",
    "    new_file.write(line+\"\\n\")\n",
    "new_file.close()"
   ]
  },
  {
   "cell_type": "markdown",
   "metadata": {},
   "source": [
    "### Print every files and directories in a folder\n"
   ]
  },
  {
   "cell_type": "code",
   "execution_count": null,
   "metadata": {},
   "outputs": [],
   "source": [
    "import os\n",
    "for entry in os.scandir():\n",
    "    print(entry.name)"
   ]
  }
 ],
 "metadata": {
  "kernelspec": {
   "display_name": "Python 3",
   "language": "python",
   "name": "python3"
  },
  "language_info": {
   "codemirror_mode": {
    "name": "ipython",
    "version": 3
   },
   "file_extension": ".py",
   "mimetype": "text/x-python",
   "name": "python",
   "nbconvert_exporter": "python",
   "pygments_lexer": "ipython3",
   "version": "3.6.5"
  }
 },
 "nbformat": 4,
 "nbformat_minor": 2
}
