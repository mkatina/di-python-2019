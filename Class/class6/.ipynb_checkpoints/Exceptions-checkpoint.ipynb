{
 "cells": [
  {
   "cell_type": "markdown",
   "metadata": {},
   "source": [
    "# Exceptions"
   ]
  },
  {
   "cell_type": "code",
   "execution_count": null,
   "metadata": {},
   "outputs": [],
   "source": [
    "def age(): \n",
    "    user_age = input(\"How old are you?\\n>>> \")\n",
    "    user_age = int(user_age)\n",
    "    print(\"Next year, you will be {} years old\".format(user_age+1))\n",
    "\n",
    "age()"
   ]
  },
  {
   "cell_type": "markdown",
   "metadata": {},
   "source": [
    "## Handling an exception"
   ]
  },
  {
   "cell_type": "markdown",
   "metadata": {},
   "source": [
    "### The try-catch block\n",
    "\n",
    "Try catch helps protect a block of code from crashing. If the code inside the try block crashes, then the program will continue to the except block instead of stopping.<br>\n",
    "__Syntax:__<br>\n",
    "<pre><code>\n",
    "try:\n",
    "    PROBLEMATIC CODE\n",
    "    ADDITIONAL CODE\n",
    "except:\n",
    "    EMERGENCY CODE\n",
    "</pre></code>\n",
    "*if the program crashes on PROBLEMATIC CODE, then ADDITIONAL CODE won't be reached*"
   ]
  },
  {
   "cell_type": "code",
   "execution_count": 6,
   "metadata": {},
   "outputs": [
    {
     "name": "stdout",
     "output_type": "stream",
     "text": [
      "How old are you?\n",
      ">>> 3weqf\n",
      "Your age is not a real age\n",
      "Next year, you will be 1 years old\n"
     ]
    }
   ],
   "source": [
    "def age():\n",
    "    user_age = input(\"How old are you?\\n>>> \")\n",
    "    #######\n",
    "    try:\n",
    "        user_age = int(user_age)\n",
    "        print(\"I AM AFTER USER_AGE\")\n",
    "    except:\n",
    "        print(\"Your age is not a real age\")\n",
    "        user_age = 0\n",
    "    #######\n",
    "    print(\"Next year, you will be {} years old\".format(user_age+1))\n",
    "\n",
    "age()"
   ]
  },
  {
   "cell_type": "code",
   "execution_count": null,
   "metadata": {},
   "outputs": [],
   "source": [
    "valid_flag = False\n",
    "while not valid_flag:\n",
    "    userage = input(\"How old are you?\")\n",
    "    try:\n",
    "        userage = int(userage)\n",
    "        valid_flag = True\n",
    "    except:\n",
    "        print(\"Please enter a real age\")\n",
    "\n",
    "print(\"Next year, your age will be\",userage+1)"
   ]
  },
  {
   "cell_type": "code",
   "execution_count": null,
   "metadata": {
    "scrolled": true
   },
   "outputs": [],
   "source": [
    "valid_flag = False\n",
    "while not valid_flag:\n",
    "    userage = input(\"How old are you?\")\n",
    "    try:\n",
    "        userage    = int(userage)\n",
    "        valid_flag = True\n",
    "    except:\n",
    "        pass\n",
    "\n",
    "print(\"Next year, your age will be\",userage+1)"
   ]
  },
  {
   "cell_type": "markdown",
   "metadata": {},
   "source": [
    "****\n",
    "# Exercise\n",
    "\n",
    "Given a list of numbers, write a function that return the sum of every number. BUT you can have a malicious string inside the list."
   ]
  },
  {
   "cell_type": "code",
   "execution_count": 18,
   "metadata": {},
   "outputs": [
    {
     "data": {
      "text/plain": [
       "59"
      ]
     },
     "execution_count": 18,
     "metadata": {},
     "output_type": "execute_result"
    }
   ],
   "source": [
    "my_list = [2,3,1,2,\"four\",42,1,5,3,\"imanumber\"]\n",
    "def sum_numbers(my_list):\n",
    "    my_sum = 0\n",
    "    for element in my_list:\n",
    "        try:\n",
    "            my_sum += element\n",
    "        except:\n",
    "            pass\n",
    "    return my_sum\n",
    "sum_numbers(my_list)"
   ]
  },
  {
   "cell_type": "markdown",
   "metadata": {},
   "source": [
    "### The else statement"
   ]
  },
  {
   "cell_type": "code",
   "execution_count": 22,
   "metadata": {},
   "outputs": [
    {
     "name": "stdout",
     "output_type": "stream",
     "text": [
      "How old are you?3\n",
      "Next year, your age will be 4\n"
     ]
    }
   ],
   "source": [
    "valid_flag = False\n",
    "while not valid_flag:\n",
    "    userage = input(\"How old are you?\")\n",
    "    try:    # TRY THIS\n",
    "        userage    = int(userage)\n",
    "    except: # IF YOU GOT AN ERROR\n",
    "        print(\"Wrong age!\")\n",
    "    else:   # ELSE\n",
    "        valid_flag = True\n",
    "\n",
    "print(\"Next year, your age will be\",userage+1)"
   ]
  },
  {
   "cell_type": "markdown",
   "metadata": {},
   "source": [
    "### The finally statement"
   ]
  },
  {
   "cell_type": "code",
   "execution_count": null,
   "metadata": {},
   "outputs": [],
   "source": [
    "valid_flag = False\n",
    "while not valid_flag:\n",
    "    userage = input(\"How old are you?\")\n",
    "    try:    # TRY THIS\n",
    "        userage    = int(userage)\n",
    "    except: # IF YOU GOT AN ERROR\n",
    "        print(\"Wrong age!\")\n",
    "    else:   # ELSE\n",
    "        valid_flag = True\n",
    "\n",
    "print(\"Next year, your age will be\",userage+1)"
   ]
  },
  {
   "cell_type": "markdown",
   "metadata": {},
   "source": [
    "## Raising an exception"
   ]
  },
  {
   "cell_type": "code",
   "execution_count": null,
   "metadata": {},
   "outputs": [],
   "source": [
    "try:\n",
    "    assert 1 == 4\n",
    "except AssertionError:\n",
    "    print(\"Those are not equals\")"
   ]
  },
  {
   "cell_type": "markdown",
   "metadata": {},
   "source": [
    "****"
   ]
  },
  {
   "cell_type": "markdown",
   "metadata": {},
   "source": [
    "# Exercises:"
   ]
  },
  {
   "cell_type": "markdown",
   "metadata": {},
   "source": [
    "# 1 : User input checking\n",
    "\n",
    "Write a function that ask two persons for their ages, and then returns who is older.\n",
    "Don't let them input something that is not an integer."
   ]
  }
 ],
 "metadata": {
  "kernelspec": {
   "display_name": "Python 3",
   "language": "python",
   "name": "python3"
  },
  "language_info": {
   "codemirror_mode": {
    "name": "ipython",
    "version": 3
   },
   "file_extension": ".py",
   "mimetype": "text/x-python",
   "name": "python",
   "nbconvert_exporter": "python",
   "pygments_lexer": "ipython3",
   "version": "3.6.5"
  }
 },
 "nbformat": 4,
 "nbformat_minor": 2
}
