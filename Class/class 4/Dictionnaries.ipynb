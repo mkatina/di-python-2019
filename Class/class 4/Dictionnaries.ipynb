{
 "cells": [
  {
   "cell_type": "markdown",
   "metadata": {},
   "source": [
    "# Defining a dictionnary"
   ]
  },
  {
   "cell_type": "code",
   "execution_count": 30,
   "metadata": {},
   "outputs": [],
   "source": [
    "mydict = {\n",
    "          \"name\":\"Eyal\", \n",
    "          \"age\": 20,\n",
    "          \"email\":\"eyal@chocron.eu\"\n",
    "         }"
   ]
  },
  {
   "cell_type": "markdown",
   "metadata": {},
   "source": [
    "# Accessing a value"
   ]
  },
  {
   "cell_type": "code",
   "execution_count": 31,
   "metadata": {},
   "outputs": [
    {
     "name": "stdout",
     "output_type": "stream",
     "text": [
      "20\n"
     ]
    }
   ],
   "source": [
    "print(mydict[\"age\"])"
   ]
  },
  {
   "cell_type": "markdown",
   "metadata": {},
   "source": [
    "# Adding a new entry\n"
   ]
  },
  {
   "cell_type": "code",
   "execution_count": 27,
   "metadata": {},
   "outputs": [],
   "source": [
    "mydict[\"mykey\"] = \"myvalue\""
   ]
  },
  {
   "cell_type": "markdown",
   "metadata": {},
   "source": [
    "# Getting all the keys"
   ]
  },
  {
   "cell_type": "code",
   "execution_count": 28,
   "metadata": {},
   "outputs": [],
   "source": [
    "keys = mydict.keys()"
   ]
  },
  {
   "cell_type": "markdown",
   "metadata": {},
   "source": [
    "***\n",
    "# Examples"
   ]
  },
  {
   "cell_type": "code",
   "execution_count": null,
   "metadata": {},
   "outputs": [],
   "source": [
    "mydict = {\n",
    "          \"name\":\"Eyal\", \n",
    "          \"age\": 20,\n",
    "          \"email\":\"eyal@chocron.eu\"\n",
    "         }\n",
    "\n",
    "mydict[\"family name\"] = \"Chocron\"\n",
    "\n",
    "mydict = {\n",
    "    \"name\":\"John\",\n",
    "    \"age\":30,\n",
    "    \"email\":\"john@gmail.com\"\n",
    "}"
   ]
  },
  {
   "cell_type": "code",
   "execution_count": null,
   "metadata": {},
   "outputs": [],
   "source": [
    "print(\"My name is {}, i am {} years old and my mail is {}\".format(mydict[\"name\"], mydict['age'], mydict['email']))"
   ]
  },
  {
   "cell_type": "markdown",
   "metadata": {},
   "source": [
    "***"
   ]
  },
  {
   "cell_type": "code",
   "execution_count": null,
   "metadata": {},
   "outputs": [],
   "source": [
    "mydict = {\n",
    "    \"name\":\"John\",\n",
    "    \"age\":30,\n",
    "    \"email\":\"john@gmail.com\"\n",
    "}\n",
    "\n",
    "keys = mydict.keys()\n",
    "\n",
    "for key in keys:\n",
    "    print(\"my {} is {}\".format(key,mydict[key]))\n"
   ]
  },
  {
   "cell_type": "markdown",
   "metadata": {},
   "source": [
    "***"
   ]
  },
  {
   "cell_type": "code",
   "execution_count": null,
   "metadata": {},
   "outputs": [],
   "source": [
    "keys = [\"name\", \"email\", \"hair\"]\n",
    "values = [\"Eyal\", \"eyal@chocro.eu\", \"black\"]\n",
    "\n",
    "mydict = {}\n",
    "i = 0\n",
    "while i < len(keys):\n",
    "    mydict[keys[i]] = values[i]\n",
    "    i+=1\n",
    "    \n",
    "print(mydict)"
   ]
  }
 ],
 "metadata": {
  "kernelspec": {
   "display_name": "Python 3",
   "language": "python",
   "name": "python3"
  },
  "language_info": {
   "codemirror_mode": {
    "name": "ipython",
    "version": 3
   },
   "file_extension": ".py",
   "mimetype": "text/x-python",
   "name": "python",
   "nbconvert_exporter": "python",
   "pygments_lexer": "ipython3",
   "version": "3.6.5"
  }
 },
 "nbformat": 4,
 "nbformat_minor": 2
}
