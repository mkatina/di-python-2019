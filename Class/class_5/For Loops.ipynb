{
 "cells": [
  {
   "cell_type": "markdown",
   "metadata": {},
   "source": [
    "# For Loop"
   ]
  },
  {
   "cell_type": "markdown",
   "metadata": {},
   "source": [
    "### The for loop iterate through an element\n",
    "#### Syntax:\n",
    "`for <variable_name> in <element>:` \n",
    "#### Example:\n",
    "<pre><code>\n",
    "    mylist = [1,3,5,7,9]\n",
    "    for mynumber in mylist:\n",
    "        print(mynumber)\n",
    "</pre></code>\n",
    "`mynumber` is a variable that take the value of the next element in `mylist` at each iteration"
   ]
  },
  {
   "cell_type": "markdown",
   "metadata": {},
   "source": [
    "## Iterating through a range\n",
    "### Range object can be used to get a range of numbers\n",
    "#### Syntax:\n",
    "-  `for mynumber in range(stop):`<br>\n",
    "    Will return a range of numbers from 0 to *stop*\n",
    "-  `for mynumber in range(start,stop)`<br>\n",
    "    Will return a range of numbers from *start* to *stop*\n",
    "-  `for mynumber in range(start,stop,step):`<br>\n",
    "    Will return a range of numbers from *start* to *stop* with a step of *step*<br>\n",
    "    *****\n",
    "-  *start* limit is ALWAYS included\n",
    "-  *stop* limit is NEVER included\n",
    "-  *step* can be negative, the range will decrease in numbers\n",
    "\n",
    "    *****\n",
    "#### Examples:\n",
    "<pre><code>for mynumber in range(5):\n",
    "         print(mynumber) \n",
    "</code></pre>\n",
    "Output:\n",
    "<pre>\n",
    "    0\n",
    "    1\n",
    "    2\n",
    "    3\n",
    "    4\n",
    "</pre>\n",
    "<br><br>\n",
    "<pre><code>for mynumber in range(5,10):\n",
    "         print(mynumber) \n",
    "</code></pre>\n",
    "Output:\n",
    "<pre>\n",
    "    5\n",
    "    6\n",
    "    7\n",
    "    8\n",
    "    9\n",
    "</pre>\n",
    "<br><br>\n",
    "<pre><code>for mynumber in range(0,10,2):\n",
    "         print(mynumber) \n",
    "</code></pre>\n",
    "Output:\n",
    "<pre>\n",
    "    0\n",
    "    2\n",
    "    4\n",
    "    6\n",
    "    8\n",
    "</pre>"
   ]
  },
  {
   "cell_type": "code",
   "execution_count": null,
   "metadata": {},
   "outputs": [],
   "source": []
  }
 ],
 "metadata": {
  "kernelspec": {
   "display_name": "Python 3",
   "language": "python",
   "name": "python3"
  },
  "language_info": {
   "codemirror_mode": {
    "name": "ipython",
    "version": 3
   },
   "file_extension": ".py",
   "mimetype": "text/x-python",
   "name": "python",
   "nbconvert_exporter": "python",
   "pygments_lexer": "ipython3",
   "version": "3.6.5"
  }
 },
 "nbformat": 4,
 "nbformat_minor": 2
}
