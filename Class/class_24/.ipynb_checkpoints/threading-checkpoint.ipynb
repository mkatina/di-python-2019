{
 "cells": [
  {
   "cell_type": "markdown",
   "metadata": {},
   "source": [
    "# Threading"
   ]
  },
  {
   "cell_type": "markdown",
   "metadata": {},
   "source": [
    "## What is a thread\n",
    "Threading mean running two (or more) parts of code in parallel"
   ]
  },
  {
   "cell_type": "markdown",
   "metadata": {},
   "source": [
    "## threading module"
   ]
  },
  {
   "cell_type": "code",
   "execution_count": 2,
   "metadata": {},
   "outputs": [],
   "source": [
    "import threading"
   ]
  },
  {
   "cell_type": "markdown",
   "metadata": {},
   "source": [
    "## Thread class"
   ]
  },
  {
   "cell_type": "code",
   "execution_count": null,
   "metadata": {
    "scrolled": true
   },
   "outputs": [],
   "source": [
    "import time\n",
    "import threading\n",
    "\n",
    "def first_function(): # 5 seconds\n",
    "    for i in range(5):\n",
    "        print(\"I am function 1\")\n",
    "        time.sleep(1)\n",
    "    thread3 = threading.Thread(target=third_function)\n",
    "    thread3.start()\n",
    "    \n",
    "def second_function(): # 7.5 seconds\n",
    "    for i in range(5):\n",
    "        print(\"I am function 2\")\n",
    "        time.sleep(1.5)\n",
    "\n",
    "def third_function():\n",
    "    for i in range(5):\n",
    "        print(\"I am function 3\")\n",
    "        time.sleep(1)\n",
    "        \n",
    "# Create a thread for each function\n",
    "first_thread = threading.Thread(target=first_function)\n",
    "thread2      = threading.Thread(target=second_function)\n",
    "\n",
    "# Run the thread\n",
    "first_thread.start()\n",
    "thread2.start()\n",
    "\n",
    "# The program will get here before the two functions end\n",
    "print(\"I am after the two starts\")"
   ]
  },
  {
   "cell_type": "markdown",
   "metadata": {},
   "source": [
    "### With some arguments:"
   ]
  },
  {
   "cell_type": "code",
   "execution_count": null,
   "metadata": {
    "scrolled": false
   },
   "outputs": [],
   "source": [
    "import time \n",
    "\n",
    "def eating(name, food):\n",
    "    for _ in range(10):\n",
    "        print(\"{} is eating {}\".format(name, food))\n",
    "        time.sleep(2)\n",
    "\n",
    "# Create two threads\n",
    "dog_thread = threading.Thread(target=eating, args=[], kwargs={'name':\"dog\", 'food':\"bones\"})\n",
    "\n",
    "cat_thread = threading.Thread(target=eating, args=['cat', 'fish'])\n",
    "dog_thread.start()\n",
    "cat_thread.start()"
   ]
  },
  {
   "cell_type": "markdown",
   "metadata": {},
   "source": [
    "# Make an `@as_thread` decorator"
   ]
  },
  {
   "cell_type": "code",
   "execution_count": 2,
   "metadata": {},
   "outputs": [
    {
     "name": "stdout",
     "output_type": "stream",
     "text": [
      "Dog is eating bones\n",
      "Started eating as thread\n",
      "Something\n"
     ]
    },
    {
     "name": "stderr",
     "output_type": "stream",
     "text": [
      "Exception in thread Thread-4:\n",
      "Traceback (most recent call last):\n",
      "  File \"/usr/lib/python3.7/threading.py\", line 917, in _bootstrap_inner\n",
      "    self.run()\n",
      "  File \"/usr/lib/python3.7/threading.py\", line 865, in run\n",
      "    self._target(*self._args, **self._kwargs)\n",
      "  File \"<ipython-input-2-2b1c999fbe9e>\", line 15, in eating\n",
      "    time.sleep(2)\n",
      "NameError: name 'time' is not defined\n",
      "\n"
     ]
    }
   ],
   "source": [
    "import time\n",
    "import threading \n",
    "\n",
    "def as_thread(f):\n",
    "    def new_function(*args, **kwargs):\n",
    "        threaded_f = threading.Thread(target=f, args=args, kwargs=kwargs)\n",
    "        threaded_f.start()\n",
    "        print(\"Started {} as thread\".format(f.__name__))\n",
    "    \n",
    "    return new_function\n",
    "\n",
    "@as_thread\n",
    "def eating(name, food):\n",
    "    for _ in range(10):\n",
    "        print(\"{} is eating {}\".format(name, food))\n",
    "        time.sleep(2)\n",
    "\n",
    "@as_thread\n",
    "def say_hello(age):\n",
    "    for _ in range(3):\n",
    "        print(\"Hello i am {} years old !\".format(age))\n",
    "\n",
    "eating(name=\"Dog\", food=\"bones\")\n",
    "\n",
    "print(\"Something\")"
   ]
  },
  {
   "cell_type": "markdown",
   "metadata": {},
   "source": [
    "## Event class"
   ]
  },
  {
   "cell_type": "code",
   "execution_count": null,
   "metadata": {},
   "outputs": [],
   "source": [
    "def infinite_loop(event):\n",
    "    while not event.is_set():\n",
    "        print(\"Hey there\")\n",
    "        time.sleep(1)\n",
    "    print(\"finished !\")\n",
    "\n",
    "timeout_event = threading.Event()\n",
    "infinite_thread = threading.Thread(target=infinite_loop, kwargs={'event':timeout_event})\n",
    "\n",
    "infinite_thread.start()\n",
    "\n",
    "time.sleep(5)\n",
    "print(\"Event is set !\")\n",
    "timeout_event.set()"
   ]
  },
  {
   "cell_type": "markdown",
   "metadata": {},
   "source": [
    "*****\n",
    "# Exercises"
   ]
  },
  {
   "cell_type": "markdown",
   "metadata": {},
   "source": [
    "Make a little game. Ask the user to find the sum (or the multiplication) of two numbers, he has 5 seconds to find the result, else he loose. "
   ]
  },
  {
   "cell_type": "code",
   "execution_count": 13,
   "metadata": {},
   "outputs": [
    {
     "name": "stdout",
     "output_type": "stream",
     "text": [
      "GO !\n",
      "I did 5 meters\n",
      "I did 10 meters\n"
     ]
    }
   ],
   "source": [
    "def rabbit(event):\n",
    "    pos = 0\n",
    "    while event.is_set() == False:\n",
    "        time.sleep(1)\n",
    "        pos += 1\n",
    "    print(\"I did {} meters\".format(pos))\n",
    "\n",
    "def turtle(event):\n",
    "    pos = 0\n",
    "    while event.is_set() == False:\n",
    "        time.sleep(2)\n",
    "        pos += 1\n",
    "    print(\"I did {} meters\".format(pos))\n",
    "    \n",
    "race_event    = threading.Event()\n",
    "rabbit_thread = threading.Thread(target=rabbit, args=[race_event])\n",
    "turtle_thread = threading.Thread(target=turtle, args=[race_event])\n",
    "\n",
    "print(\"GO !\")\n",
    "rabbit_thread.start()\n",
    "turtle_thread.start()\n",
    "\n",
    "time.sleep(10)\n",
    "race_event.set()"
   ]
  },
  {
   "cell_type": "code",
   "execution_count": null,
   "metadata": {},
   "outputs": [],
   "source": []
  }
 ],
 "metadata": {
  "kernelspec": {
   "display_name": "Python 3",
   "language": "python",
   "name": "python3"
  },
  "language_info": {
   "codemirror_mode": {
    "name": "ipython",
    "version": 3
   },
   "file_extension": ".py",
   "mimetype": "text/x-python",
   "name": "python",
   "nbconvert_exporter": "python",
   "pygments_lexer": "ipython3",
   "version": "3.7.3"
  }
 },
 "nbformat": 4,
 "nbformat_minor": 2
}
