{
 "cells": [
  {
   "cell_type": "code",
   "execution_count": 1,
   "metadata": {},
   "outputs": [],
   "source": [
    "first_url = r\"http://www.pythonchallenge.com/pc/def/linkedlist.php?nothing=12345\""
   ]
  },
  {
   "cell_type": "code",
   "execution_count": 24,
   "metadata": {
    "scrolled": true
   },
   "outputs": [
    {
     "name": "stdout",
     "output_type": "stream",
     "text": [
      "Reading http://www.pythonchallenge.com/pc/def/linkedlist.php?nothing=63579\n",
      "Reading http://www.pythonchallenge.com/pc/def/linkedlist.php?nothing=37278\n",
      "Reading http://www.pythonchallenge.com/pc/def/linkedlist.php?nothing=53548\n",
      "Reading http://www.pythonchallenge.com/pc/def/linkedlist.php?nothing=66081\n",
      "Reading http://www.pythonchallenge.com/pc/def/linkedlist.php?nothing=67753\n",
      "Reading http://www.pythonchallenge.com/pc/def/linkedlist.php?nothing=56337\n",
      "Reading http://www.pythonchallenge.com/pc/def/linkedlist.php?nothing=3356\n",
      "Reading http://www.pythonchallenge.com/pc/def/linkedlist.php?nothing=94525\n",
      "Reading http://www.pythonchallenge.com/pc/def/linkedlist.php?nothing=89574\n",
      "Reading http://www.pythonchallenge.com/pc/def/linkedlist.php?nothing=4413\n",
      "Reading http://www.pythonchallenge.com/pc/def/linkedlist.php?nothing=82294\n",
      "Reading http://www.pythonchallenge.com/pc/def/linkedlist.php?nothing=56060\n",
      "Reading http://www.pythonchallenge.com/pc/def/linkedlist.php?nothing=95493\n",
      "Reading http://www.pythonchallenge.com/pc/def/linkedlist.php?nothing=80865\n",
      "Reading http://www.pythonchallenge.com/pc/def/linkedlist.php?nothing=66242\n",
      "Reading http://www.pythonchallenge.com/pc/def/linkedlist.php?nothing=16065\n",
      "Reading http://www.pythonchallenge.com/pc/def/linkedlist.php?nothing=62145\n",
      "Reading http://www.pythonchallenge.com/pc/def/linkedlist.php?nothing=23147\n",
      "Reading http://www.pythonchallenge.com/pc/def/linkedlist.php?nothing=83763\n",
      "Reading http://www.pythonchallenge.com/pc/def/linkedlist.php?nothing=62381\n",
      "Reading http://www.pythonchallenge.com/pc/def/linkedlist.php?nothing=76841\n",
      "Reading http://www.pythonchallenge.com/pc/def/linkedlist.php?nothing=91706\n",
      "Reading http://www.pythonchallenge.com/pc/def/linkedlist.php?nothing=9268\n",
      "Reading http://www.pythonchallenge.com/pc/def/linkedlist.php?nothing=64814\n",
      "Reading http://www.pythonchallenge.com/pc/def/linkedlist.php?nothing=80809\n",
      "Reading http://www.pythonchallenge.com/pc/def/linkedlist.php?nothing=14039\n",
      "Reading http://www.pythonchallenge.com/pc/def/linkedlist.php?nothing=73355\n",
      "Reading http://www.pythonchallenge.com/pc/def/linkedlist.php?nothing=81905\n",
      "Reading http://www.pythonchallenge.com/pc/def/linkedlist.php?nothing=36402\n",
      "Reading http://www.pythonchallenge.com/pc/def/linkedlist.php?nothing=27221\n",
      "Reading http://www.pythonchallenge.com/pc/def/linkedlist.php?nothing=79607\n",
      "Reading http://www.pythonchallenge.com/pc/def/linkedlist.php?nothing=91763\n",
      "Reading http://www.pythonchallenge.com/pc/def/linkedlist.php?nothing=11631\n",
      "Reading http://www.pythonchallenge.com/pc/def/linkedlist.php?nothing=76396\n",
      "Reading http://www.pythonchallenge.com/pc/def/linkedlist.php?nothing=69905\n",
      "Reading http://www.pythonchallenge.com/pc/def/linkedlist.php?nothing=11073\n",
      "Reading http://www.pythonchallenge.com/pc/def/linkedlist.php?nothing=71281\n",
      "Reading http://www.pythonchallenge.com/pc/def/linkedlist.php?nothing=54345\n",
      "Reading http://www.pythonchallenge.com/pc/def/linkedlist.php?nothing=19047\n",
      "Reading http://www.pythonchallenge.com/pc/def/linkedlist.php?nothing=34376\n",
      "Reading http://www.pythonchallenge.com/pc/def/linkedlist.php?nothing=3193\n",
      "Reading http://www.pythonchallenge.com/pc/def/linkedlist.php?nothing=74258\n",
      "Reading http://www.pythonchallenge.com/pc/def/linkedlist.php?nothing=62712\n",
      "Reading http://www.pythonchallenge.com/pc/def/linkedlist.php?nothing=1823\n",
      "Reading http://www.pythonchallenge.com/pc/def/linkedlist.php?nothing=21232\n",
      "Reading http://www.pythonchallenge.com/pc/def/linkedlist.php?nothing=87890\n",
      "Reading http://www.pythonchallenge.com/pc/def/linkedlist.php?nothing=21545\n",
      "Reading http://www.pythonchallenge.com/pc/def/linkedlist.php?nothing=37136\n",
      "Reading http://www.pythonchallenge.com/pc/def/linkedlist.php?nothing=23060\n",
      "Reading http://www.pythonchallenge.com/pc/def/linkedlist.php?nothing=5385\n",
      "Reading http://www.pythonchallenge.com/pc/def/linkedlist.php?nothing=4620\n",
      "Reading http://www.pythonchallenge.com/pc/def/linkedlist.php?nothing=39111\n",
      "Reading http://www.pythonchallenge.com/pc/def/linkedlist.php?nothing=35914\n",
      "Reading http://www.pythonchallenge.com/pc/def/linkedlist.php?nothing=60310\n",
      "Reading http://www.pythonchallenge.com/pc/def/linkedlist.php?nothing=19178\n",
      "Reading http://www.pythonchallenge.com/pc/def/linkedlist.php?nothing=44671\n",
      "Reading http://www.pythonchallenge.com/pc/def/linkedlist.php?nothing=45736\n",
      "Reading http://www.pythonchallenge.com/pc/def/linkedlist.php?nothing=9216\n",
      "Reading http://www.pythonchallenge.com/pc/def/linkedlist.php?nothing=12585\n",
      "Reading http://www.pythonchallenge.com/pc/def/linkedlist.php?nothing=11302\n",
      "Reading http://www.pythonchallenge.com/pc/def/linkedlist.php?nothing=33096\n",
      "Reading http://www.pythonchallenge.com/pc/def/linkedlist.php?nothing=13967\n",
      "Reading http://www.pythonchallenge.com/pc/def/linkedlist.php?nothing=57004\n",
      "Reading http://www.pythonchallenge.com/pc/def/linkedlist.php?nothing=64196\n",
      "Reading http://www.pythonchallenge.com/pc/def/linkedlist.php?nothing=73929\n",
      "Reading http://www.pythonchallenge.com/pc/def/linkedlist.php?nothing=24800\n",
      "Reading http://www.pythonchallenge.com/pc/def/linkedlist.php?nothing=25081\n",
      "Reading http://www.pythonchallenge.com/pc/def/linkedlist.php?nothing=90033\n",
      "Reading http://www.pythonchallenge.com/pc/def/linkedlist.php?nothing=45919\n",
      "Reading http://www.pythonchallenge.com/pc/def/linkedlist.php?nothing=54827\n",
      "Reading http://www.pythonchallenge.com/pc/def/linkedlist.php?nothing=73950\n",
      "Reading http://www.pythonchallenge.com/pc/def/linkedlist.php?nothing=56978\n",
      "Reading http://www.pythonchallenge.com/pc/def/linkedlist.php?nothing=8133\n",
      "Reading http://www.pythonchallenge.com/pc/def/linkedlist.php?nothing=61900\n",
      "Reading http://www.pythonchallenge.com/pc/def/linkedlist.php?nothing=47769\n",
      "Reading http://www.pythonchallenge.com/pc/def/linkedlist.php?nothing=631\n",
      "Reading http://www.pythonchallenge.com/pc/def/linkedlist.php?nothing=2284\n",
      "Reading http://www.pythonchallenge.com/pc/def/linkedlist.php?nothing=60074\n",
      "Reading http://www.pythonchallenge.com/pc/def/linkedlist.php?nothing=35959\n",
      "Reading http://www.pythonchallenge.com/pc/def/linkedlist.php?nothing=57158\n",
      "Reading http://www.pythonchallenge.com/pc/def/linkedlist.php?nothing=90990\n",
      "Reading http://www.pythonchallenge.com/pc/def/linkedlist.php?nothing=27935\n",
      "Reading http://www.pythonchallenge.com/pc/def/linkedlist.php?nothing=99927\n",
      "Reading http://www.pythonchallenge.com/pc/def/linkedlist.php?nothing=41785\n",
      "Reading http://www.pythonchallenge.com/pc/def/linkedlist.php?nothing=32660\n",
      "Reading http://www.pythonchallenge.com/pc/def/linkedlist.php?nothing=4328\n",
      "Reading http://www.pythonchallenge.com/pc/def/linkedlist.php?nothing=42067\n",
      "Reading http://www.pythonchallenge.com/pc/def/linkedlist.php?nothing=8743\n",
      "Reading http://www.pythonchallenge.com/pc/def/linkedlist.php?nothing=38613\n",
      "Reading http://www.pythonchallenge.com/pc/def/linkedlist.php?nothing=21100\n",
      "Reading http://www.pythonchallenge.com/pc/def/linkedlist.php?nothing=77864\n",
      "Reading http://www.pythonchallenge.com/pc/def/linkedlist.php?nothing=6523\n",
      "Reading http://www.pythonchallenge.com/pc/def/linkedlist.php?nothing=6927\n",
      "Reading http://www.pythonchallenge.com/pc/def/linkedlist.php?nothing=82930\n",
      "Reading http://www.pythonchallenge.com/pc/def/linkedlist.php?nothing=35846\n",
      "Reading http://www.pythonchallenge.com/pc/def/linkedlist.php?nothing=31785\n",
      "Reading http://www.pythonchallenge.com/pc/def/linkedlist.php?nothing=41846\n",
      "Reading http://www.pythonchallenge.com/pc/def/linkedlist.php?nothing=72387\n",
      "Reading http://www.pythonchallenge.com/pc/def/linkedlist.php?nothing=59334\n",
      "Reading http://www.pythonchallenge.com/pc/def/linkedlist.php?nothing=65520\n",
      "Reading http://www.pythonchallenge.com/pc/def/linkedlist.php?nothing=93781\n",
      "Reading http://www.pythonchallenge.com/pc/def/linkedlist.php?nothing=55840\n",
      "Reading http://www.pythonchallenge.com/pc/def/linkedlist.php?nothing=80842\n",
      "Reading http://www.pythonchallenge.com/pc/def/linkedlist.php?nothing=59022\n",
      "Reading http://www.pythonchallenge.com/pc/def/linkedlist.php?nothing=23298\n",
      "Reading http://www.pythonchallenge.com/pc/def/linkedlist.php?nothing=27709\n",
      "Reading http://www.pythonchallenge.com/pc/def/linkedlist.php?nothing=96791\n",
      "Reading http://www.pythonchallenge.com/pc/def/linkedlist.php?nothing=75635\n",
      "Reading http://www.pythonchallenge.com/pc/def/linkedlist.php?nothing=52899\n",
      "Reading http://www.pythonchallenge.com/pc/def/linkedlist.php?nothing=66831\n"
     ]
    },
    {
     "name": "stdout",
     "output_type": "stream",
     "text": [
      "On URL: http://www.pythonchallenge.com/pc/def/linkedlist.php?nothing=66831\n",
      "peak.html\n"
     ]
    }
   ],
   "source": [
    "from urllib import request\n",
    "import re\n",
    "\n",
    "def read_url(url):\n",
    "    r = request.urlopen(url)\n",
    "    content = r.read().decode('utf-8')\n",
    "    return content\n",
    "\n",
    "def parse_nb(s):\n",
    "    matches = re.findall('\\d+', s)\n",
    "    if len(matches) > 0:\n",
    "        return matches[0]\n",
    "    return False\n",
    "\n",
    "def build_url(nb):\n",
    "    template = r\"http://www.pythonchallenge.com/pc/def/linkedlist.php?nothing=\"\n",
    "    new_url  = template + str(nb)\n",
    "    return new_url\n",
    "    \n",
    "number = 63579\n",
    "url  = build_url(number)\n",
    "\n",
    "while True:\n",
    "    print(\"Reading\", url)\n",
    "    content = read_url(url)\n",
    "    number  = parse_nb(content) \n",
    "    if number is False:\n",
    "        print(\"On URL: {}\".format(url))\n",
    "        print(content)\n",
    "        break\n",
    "    url = build_url(number)\n"
   ]
  },
  {
   "cell_type": "code",
   "execution_count": 19,
   "metadata": {},
   "outputs": [
    {
     "data": {
      "text/plain": [
       "'http://www.pythonchallenge.com/pc/def/linkedlist.php?nothing=500'"
      ]
     },
     "execution_count": 19,
     "metadata": {},
     "output_type": "execute_result"
    }
   ],
   "source": [
    "import re\n",
    "\n",
    "build_url(500)"
   ]
  },
  {
   "cell_type": "code",
   "execution_count": null,
   "metadata": {},
   "outputs": [],
   "source": []
  }
 ],
 "metadata": {
  "kernelspec": {
   "display_name": "Python 3",
   "language": "python",
   "name": "python3"
  },
  "language_info": {
   "codemirror_mode": {
    "name": "ipython",
    "version": 3
   },
   "file_extension": ".py",
   "mimetype": "text/x-python",
   "name": "python",
   "nbconvert_exporter": "python",
   "pygments_lexer": "ipython3",
   "version": "3.7.3"
  }
 },
 "nbformat": 4,
 "nbformat_minor": 2
}
