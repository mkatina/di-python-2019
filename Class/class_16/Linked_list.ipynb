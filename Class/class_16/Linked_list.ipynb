{
 "cells": [
  {
   "cell_type": "code",
   "execution_count": null,
   "metadata": {},
   "outputs": [],
   "source": [
    "first_url = r\"http://www.pythonchallenge.com/pc/def/linkedlist.php?nothing=12345\""
   ]
  },
  {
   "cell_type": "code",
   "execution_count": null,
   "metadata": {
    "scrolled": true
   },
   "outputs": [],
   "source": [
    "from urllib import request\n",
    "import re\n",
    "\n",
    "def read_url(url):\n",
    "    r = request.urlopen(url)\n",
    "    content = r.read().decode('utf-8')\n",
    "    return content\n",
    "\n",
    "def parse_nb(s):\n",
    "    matches = re.findall('\\d+', s)\n",
    "    if len(matches) > 0:\n",
    "        return matches[0]\n",
    "    return False\n",
    "\n",
    "def build_url(nb):\n",
    "    template = r\"http://www.pythonchallenge.com/pc/def/linkedlist.php?nothing=\"\n",
    "    new_url  = template + str(nb)\n",
    "    return new_url\n",
    "    \n",
    "number = 63579\n",
    "url  = build_url(number)\n",
    "\n",
    "while True:\n",
    "    print(\"Reading\", url)\n",
    "    content = read_url(url)\n",
    "    number  = parse_nb(content) \n",
    "    if number is False:\n",
    "        print(\"On URL: {}\".format(url))\n",
    "        print(content)\n",
    "        break\n",
    "    url = build_url(number)\n"
   ]
  },
  {
   "cell_type": "code",
   "execution_count": 19,
   "metadata": {},
   "outputs": [
    {
     "data": {
      "text/plain": [
       "'http://www.pythonchallenge.com/pc/def/linkedlist.php?nothing=500'"
      ]
     },
     "execution_count": 19,
     "metadata": {},
     "output_type": "execute_result"
    }
   ],
   "source": [
    "import re\n",
    "\n",
    "build_url(500)"
   ]
  },
  {
   "cell_type": "code",
   "execution_count": 29,
   "metadata": {},
   "outputs": [
    {
     "name": "stdout",
     "output_type": "stream",
     "text": [
      "SIGN UP !\n",
      "Enter name\n",
      " ...Eyal\n",
      "Set password\n",
      "...Chocolate\n",
      "Added new user: Eyal\n",
      "SIGN IN !\n",
      "Enter username\n",
      "...reuven\n",
      "User doesn't exist\n",
      "Enter username\n",
      "...tesfit\n",
      "User doesn't exist\n",
      "Enter username\n",
      "...Eyal\n",
      "Enter password to log in\n",
      " ... hello\n",
      "Incorrect...\n",
      "Do you want to reset password?\n",
      "no\n",
      "SIGN IN !\n",
      "Enter username\n",
      "...Eyal\n",
      "Enter password to log in\n",
      " ... hello\n",
      "Incorrect...\n",
      "Do you want to reset password?\n",
      "no\n",
      "SIGN IN !\n",
      "Enter username\n",
      "...Eyal\n",
      "Enter password to log in\n",
      " ... Chocolate\n",
      "Correct...logging in\n"
     ]
    }
   ],
   "source": [
    "def create_user():\n",
    "    print(\"SIGN UP !\")\n",
    "    user_name      = input(\"Enter name\\n ...\")\n",
    "    user_password  = input(\"Set password\\n...\")\n",
    "    users[user_name] = user_password\n",
    "    print(\"Added new user:\", user_name)\n",
    "    return 1\n",
    "\n",
    "def reset_password(username):\n",
    "    pwd = input(\"Set new password:\\n...\")\n",
    "    users[username] = pwd\n",
    "    print(\"Reset password for {}\".format(username))\n",
    "    \n",
    "def ask_password():\n",
    "    print(\"SIGN IN !\")\n",
    "    while True:\n",
    "        username  = input(\"Enter username\\n...\")\n",
    "        if username in users.keys():\n",
    "            break\n",
    "        print(\"User doesn't exist\")\n",
    "    enter_pas = input(\"Enter password to log in\\n ... \")\n",
    "\n",
    "    if enter_pas == users[username]:\n",
    "        print(\"Correct...logging in\")\n",
    "        return True\n",
    "    else:\n",
    "        print(\"Incorrect...\")\n",
    "        reset_flag = input(\"Do you want to reset password?\\n\")\n",
    "        if reset_flag.lower() == \"yes\":\n",
    "            reset_password(username)\n",
    "        return False\n",
    "\n",
    "\n",
    "            \n",
    "users = {}\n",
    "create_user()\n",
    "\n",
    "while True:\n",
    "    f = ask_password()\n",
    "    if f is True:\n",
    "        break"
   ]
  },
  {
   "cell_type": "code",
   "execution_count": null,
   "metadata": {},
   "outputs": [],
   "source": []
  }
 ],
 "metadata": {
  "kernelspec": {
   "display_name": "Python 3",
   "language": "python",
   "name": "python3"
  },
  "language_info": {
   "codemirror_mode": {
    "name": "ipython",
    "version": 3
   },
   "file_extension": ".py",
   "mimetype": "text/x-python",
   "name": "python",
   "nbconvert_exporter": "python",
   "pygments_lexer": "ipython3",
   "version": "3.7.3"
  }
 },
 "nbformat": 4,
 "nbformat_minor": 2
}
