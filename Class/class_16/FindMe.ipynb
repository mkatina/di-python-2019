{
 "cells": [
  {
   "cell_type": "raw",
   "metadata": {},
   "source": [
    "helloworldiameyal\n"
   ]
  },
  {
   "cell_type": "code",
   "execution_count": null,
   "metadata": {},
   "outputs": [],
   "source": [
    "word_to_find = \"Hello\"\n",
    "\n",
    "-------\n",
    "w1 -> \"EhDOe\"\n",
    "w2 -> \"ceijd\"\n",
    "w3 -> \"nedso\"\n",
    "w4 -> \"Herto\"\n",
    "w5 -> \"\""
   ]
  }
 ],
 "metadata": {
  "kernelspec": {
   "display_name": "Python 3",
   "language": "python",
   "name": "python3"
  },
  "language_info": {
   "codemirror_mode": {
    "name": "ipython",
    "version": 3
   },
   "file_extension": ".py",
   "mimetype": "text/x-python",
   "name": "python",
   "nbconvert_exporter": "python",
   "pygments_lexer": "ipython3",
   "version": "3.7.3"
  }
 },
 "nbformat": 4,
 "nbformat_minor": 2
}
