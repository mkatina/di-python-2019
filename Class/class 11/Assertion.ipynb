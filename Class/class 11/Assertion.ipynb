{
 "cells": [
  {
   "cell_type": "code",
   "execution_count": 5,
   "metadata": {},
   "outputs": [
    {
     "name": "stdout",
     "output_type": "stream",
     "text": [
      "1\n",
      "2\n",
      "3\n",
      "4\n",
      "5\n",
      "6\n",
      "7\n",
      "8\n",
      "9\n",
      "10\n"
     ]
    },
    {
     "ename": "AssertionError",
     "evalue": "i is more than 10",
     "output_type": "error",
     "traceback": [
      "\u001b[1;31m------------------------------------------------------------------------\u001b[0m",
      "\u001b[1;31mAssertionError\u001b[0m                         Traceback (most recent call last)",
      "\u001b[1;32m<ipython-input-5-42949dd202dd>\u001b[0m in \u001b[0;36m<module>\u001b[1;34m()\u001b[0m\n\u001b[0;32m      3\u001b[0m     \u001b[0mi\u001b[0m \u001b[1;33m+=\u001b[0m \u001b[1;36m1\u001b[0m\u001b[1;33m\u001b[0m\u001b[0m\n\u001b[0;32m      4\u001b[0m     \u001b[0mprint\u001b[0m\u001b[1;33m(\u001b[0m\u001b[0mi\u001b[0m\u001b[1;33m)\u001b[0m\u001b[1;33m\u001b[0m\u001b[0m\n\u001b[1;32m----> 5\u001b[1;33m     \u001b[1;32massert\u001b[0m \u001b[0mi\u001b[0m \u001b[1;33m<\u001b[0m \u001b[1;36m10\u001b[0m\u001b[1;33m,\u001b[0m \u001b[1;34m\"i is more than 10\"\u001b[0m\u001b[1;33m\u001b[0m\u001b[0m\n\u001b[0m",
      "\u001b[1;31mAssertionError\u001b[0m: i is more than 10"
     ]
    }
   ],
   "source": [
    "i = 0\n",
    "while True:\n",
    "    i += 1\n",
    "    print(i)\n",
    "    assert i < 10, \"i is more than 10\""
   ]
  },
  {
   "cell_type": "code",
   "execution_count": 10,
   "metadata": {},
   "outputs": [
    {
     "name": "stdout",
     "output_type": "stream",
     "text": [
      "player1 turns\n",
      "player2 turns\n",
      "player3 turns\n",
      "player4 turns\n",
      "player1 turns\n",
      "player2 turns\n",
      "player3 turns\n",
      "player4 turns\n",
      "player1 turns\n",
      "player2 turns\n",
      "player3 turns\n",
      "player4 turns\n",
      "player1 turns\n",
      "player2 turns\n",
      "player3 turns\n",
      "player4 turns\n",
      "player1 turns\n",
      "player2 turns\n",
      "player3 turns\n",
      "player4 turns\n",
      "player1 turns\n",
      "player2 turns\n",
      "player3 turns\n",
      "player4 turns\n",
      "player1 turns\n",
      "player2 turns\n",
      "player3 turns\n",
      "player4 turns\n",
      "player1 turns\n",
      "player2 turns\n",
      "player3 turns\n",
      "player4 turns\n",
      "player1 turns\n",
      "player2 turns\n",
      "player3 turns\n"
     ]
    }
   ],
   "source": [
    "from itertools import cycle\n",
    "mylist = [\"player1\", \"player2\", \"player3\", \"player4\", ]\n",
    "mycycle = cycle(mylist) \n",
    "stop = 0\n",
    "while stop < 35:\n",
    "    next_word = next(mycycle)\n",
    "    print(\"{} turns\".format(next_word))\n",
    "    stop += 1\n",
    "    "
   ]
  },
  {
   "cell_type": "code",
   "execution_count": null,
   "metadata": {},
   "outputs": [],
   "source": []
  }
 ],
 "metadata": {
  "kernelspec": {
   "display_name": "Python 3",
   "language": "python",
   "name": "python3"
  },
  "language_info": {
   "codemirror_mode": {
    "name": "ipython",
    "version": 3
   },
   "file_extension": ".py",
   "mimetype": "text/x-python",
   "name": "python",
   "nbconvert_exporter": "python",
   "pygments_lexer": "ipython3",
   "version": "3.6.5"
  }
 },
 "nbformat": 4,
 "nbformat_minor": 2
}
