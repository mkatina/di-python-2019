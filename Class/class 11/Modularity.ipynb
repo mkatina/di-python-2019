{
 "cells": [
  {
   "cell_type": "markdown",
   "metadata": {},
   "source": [
    "# Modules"
   ]
  },
  {
   "cell_type": "markdown",
   "metadata": {},
   "source": [
    "> Modules are single python file that can be imported and used inside another file."
   ]
  },
  {
   "cell_type": "markdown",
   "metadata": {},
   "source": [
    "## import"
   ]
  },
  {
   "cell_type": "markdown",
   "metadata": {},
   "source": [
    "We use __import__ statement to import a python file into another python file, when the module will be imported, he will be ran. Inside the other python file, all the functions and classes of the module can be accessed by `module_name.function_name`"
   ]
  },
  {
   "cell_type": "code",
   "execution_count": 22,
   "metadata": {},
   "outputs": [
    {
     "name": "stdout",
     "output_type": "stream",
     "text": [
      "The Zen of Python, by Tim Peters\n",
      "\n",
      "Beautiful is better than ugly.\n",
      "Explicit is better than implicit.\n",
      "Simple is better than complex.\n",
      "Complex is better than complicated.\n",
      "Flat is better than nested.\n",
      "Sparse is better than dense.\n",
      "Readability counts.\n",
      "Special cases aren't special enough to break the rules.\n",
      "Although practicality beats purity.\n",
      "Errors should never pass silently.\n",
      "Unless explicitly silenced.\n",
      "In the face of ambiguity, refuse the temptation to guess.\n",
      "There should be one-- and preferably only one --obvious way to do it.\n",
      "Although that way may not be obvious at first unless you're Dutch.\n",
      "Now is better than never.\n",
      "Although never is often better than *right* now.\n",
      "If the implementation is hard to explain, it's a bad idea.\n",
      "If the implementation is easy to explain, it may be a good idea.\n",
      "Namespaces are one honking great idea -- let's do more of those!\n"
     ]
    }
   ],
   "source": [
    "import this "
   ]
  },
  {
   "cell_type": "markdown",
   "metadata": {},
   "source": [
    "## from "
   ]
  },
  {
   "cell_type": "markdown",
   "metadata": {},
   "source": [
    "We can import specific functions from a module with the `from` statement.\n",
    "> When using `from`, there is no need to call them with `module_name.function_name` syntax, they are directly imported and we can call them with `function_name` only.<br>\n",
    "\n",
    "__Example__:<br>\n",
    "`from mymodule import myfunction`"
   ]
  },
  {
   "cell_type": "code",
   "execution_count": 21,
   "metadata": {},
   "outputs": [
    {
     "name": "stdout",
     "output_type": "stream",
     "text": [
      "32\n",
      "18\n",
      "29\n",
      "86\n",
      "10\n",
      "18\n",
      "97\n",
      "72\n",
      "9\n",
      "47\n",
      "43\n"
     ]
    },
    {
     "ename": "KeyboardInterrupt",
     "evalue": "",
     "output_type": "error",
     "traceback": [
      "\u001b[1;31m------------------------------------------------------------------------\u001b[0m",
      "\u001b[1;31mKeyboardInterrupt\u001b[0m                      Traceback (most recent call last)",
      "\u001b[1;32m<ipython-input-21-2e4399afc3d6>\u001b[0m in \u001b[0;36m<module>\u001b[1;34m()\u001b[0m\n\u001b[0;32m      3\u001b[0m \u001b[1;32mwhile\u001b[0m \u001b[1;32mTrue\u001b[0m\u001b[1;33m:\u001b[0m\u001b[1;33m\u001b[0m\u001b[0m\n\u001b[0;32m      4\u001b[0m     \u001b[0mprint\u001b[0m\u001b[1;33m(\u001b[0m\u001b[0mrandom\u001b[0m\u001b[1;33m.\u001b[0m\u001b[0mrandint\u001b[0m\u001b[1;33m(\u001b[0m\u001b[1;36m0\u001b[0m\u001b[1;33m,\u001b[0m \u001b[1;36m100\u001b[0m\u001b[1;33m)\u001b[0m\u001b[1;33m)\u001b[0m\u001b[1;33m\u001b[0m\u001b[0m\n\u001b[1;32m----> 5\u001b[1;33m     \u001b[0mtime\u001b[0m\u001b[1;33m.\u001b[0m\u001b[0msleep\u001b[0m\u001b[1;33m(\u001b[0m\u001b[1;36m3\u001b[0m\u001b[1;33m)\u001b[0m\u001b[1;33m\u001b[0m\u001b[0m\n\u001b[0m",
      "\u001b[1;31mKeyboardInterrupt\u001b[0m: "
     ]
    }
   ],
   "source": [
    "import random\n",
    "import time\n",
    "while True:\n",
    "    print(random.randint(0, 100))\n",
    "    time.sleep(3)\n"
   ]
  },
  {
   "cell_type": "markdown",
   "metadata": {},
   "source": [
    "## as"
   ]
  },
  {
   "cell_type": "markdown",
   "metadata": {},
   "source": [
    "We can use aliases to change the name of the module inside the program.<br>\n",
    "__Example:__<br>\n",
    "`import mymodule as mod`"
   ]
  },
  {
   "cell_type": "code",
   "execution_count": 3,
   "metadata": {},
   "outputs": [
    {
     "data": {
      "text/plain": [
       "[<matplotlib.lines.Line2D at 0x28b49d953c8>]"
      ]
     },
     "execution_count": 3,
     "metadata": {},
     "output_type": "execute_result"
    },
    {
     "data": {
      "image/png": "[encoded data removed]",
      "text/plain": [
       "<Figure size 432x288 with 1 Axes>"
      ]
     },
     "metadata": {},
     "output_type": "display_data"
    }
   ],
   "source": [
    "import matplotlib.pyplot as chocolate\n",
    "\n",
    "x = [1,2,3,4,5,6,7,8,9,10]\n",
    "y = [10,20,10,20,0,0,10,5,10,50]\n",
    "\n",
    "chocolate.plot(x, y)"
   ]
  },
  {
   "cell_type": "markdown",
   "metadata": {},
   "source": [
    "## pip"
   ]
  },
  {
   "cell_type": "markdown",
   "metadata": {},
   "source": [
    "__pip__ is a python packages manager, it can download and install packages alone, it take them automatically from pypi.org, but can also install a downloaded package. "
   ]
  },
  {
   "cell_type": "markdown",
   "metadata": {},
   "source": [
    "# Package\n",
    "> A package is made up of multiple python files, and can even include librairies in C or C++, it's an entier folder."
   ]
  },
  {
   "cell_type": "markdown",
   "metadata": {},
   "source": [
    "### __init__.py\n",
    "A lot of time when looking at the structure of the packages, you'll see a file called `__init__.py`, this is the old syntax to create python packages, it's not necessary today but most of the packages are built like this. This file is executed when the package is loaded.<br>\n",
    "Every module in the package can be loaded alone by using `from my_package import my_module`"
   ]
  },
  {
   "cell_type": "markdown",
   "metadata": {},
   "source": [
    "***\n",
    "# Exercise\n",
    "\n",
    "Create a file called `functions.py` with those functions:\n",
    "\n",
    "-  `checking_input` - Check if their is letters in a string\n",
    "-  `validate_password` - Check if a password has an upper case, a lower case and a cypher\n",
    "-  `hashing_password` - Hashes a password\n",
    "-  `check_password` - Check if a password and a hash corresponds\n",
    "-  `crypt_password` - Transform password to stars\n",
    "<br><br>\n",
    "Now in another file called `class_user.py`, create a class User that have those attributes:\n",
    "-  email\n",
    "-  username\n",
    "<br><br>\n",
    "Create a class variable that map every username to a user<br>\n",
    "Add methods `add_password` and `connect`<br>\n",
    "Create a function (not in the class) `add_user` that ask for email, username and password and create a user.\n",
    "<br><br>\n",
    "Now in another file called `ui.py`, create a program that interact with the user and allows him to create users and to connect "
   ]
  }
 ],
 "metadata": {
  "kernelspec": {
   "display_name": "Python 3",
   "language": "python",
   "name": "python3"
  },
  "language_info": {
   "codemirror_mode": {
    "name": "ipython",
    "version": 3
   },
   "file_extension": ".py",
   "mimetype": "text/x-python",
   "name": "python",
   "nbconvert_exporter": "python",
   "pygments_lexer": "ipython3",
   "version": "3.6.5"
  }
 },
 "nbformat": 4,
 "nbformat_minor": 2
}
