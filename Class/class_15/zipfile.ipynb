{
 "cells": [
  {
   "cell_type": "markdown",
   "metadata": {},
   "source": [
    "# ZipFile\n",
    "\n",
    "Zipfile is a module that allows us to open zip files"
   ]
  },
  {
   "cell_type": "markdown",
   "metadata": {},
   "source": [
    "### ZipFile class\n",
    "\n",
    "Representing a virtual zip file<br>\n",
    "<br>\n",
    "<br>\n",
    "<small>\n",
    "class zipfile.ZipFile(file, mode='r', compression=ZIP_STORED, allowZip64=True, compresslevel=None)\n",
    "</small>"
   ]
  },
  {
   "cell_type": "code",
   "execution_count": 1,
   "metadata": {},
   "outputs": [],
   "source": [
    "import zipfile\n",
    "archive_name = \"channel.zip\"\n",
    "z = zipfile.ZipFile(archive_name, 'r')"
   ]
  },
  {
   "cell_type": "markdown",
   "metadata": {},
   "source": [
    "### ZipFile.namelist\n",
    "Return a list of all the files in the zip"
   ]
  },
  {
   "cell_type": "code",
   "execution_count": null,
   "metadata": {},
   "outputs": [],
   "source": [
    "print(z.namelist())"
   ]
  },
  {
   "cell_type": "markdown",
   "metadata": {},
   "source": [
    "### ZipFile.open(filename)\n",
    "Opening the filename\n"
   ]
  },
  {
   "cell_type": "code",
   "execution_count": 10,
   "metadata": {},
   "outputs": [
    {
     "data": {
      "text/plain": [
       "'Next nothing is 81810'"
      ]
     },
     "execution_count": 10,
     "metadata": {},
     "output_type": "execute_result"
    }
   ],
   "source": [
    "file_to_open = '1063.txt'\n",
    "virtual_file = z.open(file_to_open)\n",
    "virtual_file.read().decode('utf-8')"
   ]
  },
  {
   "cell_type": "code",
   "execution_count": 14,
   "metadata": {},
   "outputs": [
    {
     "name": "stdout",
     "output_type": "stream",
     "text": [
      "On file 46145.txt: Collect the comments.\n",
      "****************************************************************\n",
      "****************************************************************\n",
      "**                                                            **\n",
      "**   OO    OO    XX      YYYY    GG    GG  EEEEEE NN      NN  **\n",
      "**   OO    OO  XXXXXX   YYYYYY   GG   GG   EEEEEE  NN    NN   **\n",
      "**   OO    OO XXX  XXX YYY   YY  GG GG     EE       NN  NN    **\n",
      "**   OOOOOOOO XX    XX YY        GGG       EEEEE     NNNN     **\n",
      "**   OOOOOOOO XX    XX YY        GGG       EEEEE      NN      **\n",
      "**   OO    OO XXX  XXX YYY   YY  GG GG     EE         NN      **\n",
      "**   OO    OO  XXXXXX   YYYYYY   GG   GG   EEEEEE     NN      **\n",
      "**   OO    OO    XX      YYYY    GG    GG  EEEEEE     NN      **\n",
      "**                                                            **\n",
      "****************************************************************\n",
      " **************************************************************\n",
      "\n"
     ]
    }
   ],
   "source": [
    "import zipfile\n",
    "\n",
    "ARCHIVE_NAME = \"channel.zip\"\n",
    "FIRST_FILE   = \"90052.txt\"\n",
    "\n",
    "virtual_zip = zipfile.ZipFile(ARCHIVE_NAME)\n",
    "\n",
    "def get_zipfile_content(filename):\n",
    "    virtual_file = virtual_zip.open(filename)\n",
    "    content = virtual_file.read().decode('utf-8')\n",
    "    return content\n",
    "\n",
    "def get_hidden_nb(s):\n",
    "    words = s.split(' ')\n",
    "    number = words[3]\n",
    "    if number.isnumeric():\n",
    "        return number\n",
    "    return False\n",
    "\n",
    "def build_filename(nb):\n",
    "    return \"{}.txt\".format(nb)\n",
    "\n",
    "def main(filename):\n",
    "    comments = []\n",
    "    while True:\n",
    "        content = get_zipfile_content(filename)\n",
    "        comments.append(virtual_zip.getinfo(filename).comment.decode('utf-8'))\n",
    "        try:\n",
    "            nb      = get_hidden_nb(content)\n",
    "        except:\n",
    "            nb = False\n",
    "        if not nb:\n",
    "            print(\"On file {}: {}\".format(filename,content))\n",
    "            return comments\n",
    "        nxt_filename = build_filename(nb)\n",
    "        filename = nxt_filename\n",
    "\n",
    "comments = main(\"90052.txt\")\n",
    "\n",
    "print(''.join(comments))"
   ]
  },
  {
   "cell_type": "markdown",
   "metadata": {},
   "source": [
    "### ZipFile.getinfo\n",
    "\n",
    "Get some information on a file\n"
   ]
  },
  {
   "cell_type": "code",
   "execution_count": 5,
   "metadata": {},
   "outputs": [
    {
     "name": "stdout",
     "output_type": "stream",
     "text": [
      "b'*'\n"
     ]
    }
   ],
   "source": [
    "info = virtual_zip.getinfo('90052.txt')\n",
    "print(info.comment)"
   ]
  },
  {
   "cell_type": "code",
   "execution_count": null,
   "metadata": {},
   "outputs": [],
   "source": []
  },
  {
   "cell_type": "code",
   "execution_count": null,
   "metadata": {},
   "outputs": [],
   "source": []
  },
  {
   "cell_type": "code",
   "execution_count": null,
   "metadata": {},
   "outputs": [],
   "source": []
  },
  {
   "cell_type": "code",
   "execution_count": null,
   "metadata": {},
   "outputs": [],
   "source": []
  },
  {
   "cell_type": "code",
   "execution_count": null,
   "metadata": {},
   "outputs": [],
   "source": []
  },
  {
   "cell_type": "code",
   "execution_count": null,
   "metadata": {},
   "outputs": [],
   "source": []
  },
  {
   "cell_type": "code",
   "execution_count": null,
   "metadata": {},
   "outputs": [],
   "source": []
  },
  {
   "cell_type": "code",
   "execution_count": null,
   "metadata": {},
   "outputs": [],
   "source": []
  },
  {
   "cell_type": "code",
   "execution_count": null,
   "metadata": {},
   "outputs": [],
   "source": []
  }
 ],
 "metadata": {
  "kernelspec": {
   "display_name": "Python 3",
   "language": "python",
   "name": "python3"
  },
  "language_info": {
   "codemirror_mode": {
    "name": "ipython",
    "version": 3
   },
   "file_extension": ".py",
   "mimetype": "text/x-python",
   "name": "python",
   "nbconvert_exporter": "python",
   "pygments_lexer": "ipython3",
   "version": "3.7.3"
  }
 },
 "nbformat": 4,
 "nbformat_minor": 2
}
