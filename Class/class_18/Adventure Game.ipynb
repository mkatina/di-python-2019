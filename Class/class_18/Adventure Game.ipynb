{
 "cells": [
  {
   "cell_type": "markdown",
   "metadata": {},
   "source": [
    "# ADVENT\n",
    "\n",
    "You need to create a text adventure game, based on a scenario with choices.<br>\n",
    "The user will follow the story of your scenario and choose the right things to do.<br>\n"
   ]
  },
  {
   "cell_type": "code",
   "execution_count": null,
   "metadata": {},
   "outputs": [],
   "source": [
    "print(\"You ran into a forest full of aliens\")\n",
    "print(\"Do you want to:\")\n",
    "print(\"1) Run away\")\n",
    "print(\"2) Kill them\")\n",
    "if user_choice == 1:\n",
    "    print(\"You decided to run away\")"
   ]
  },
  {
   "cell_type": "code",
   "execution_count": 10,
   "metadata": {},
   "outputs": [],
   "source": [
    "class StoryTree:\n",
    "    \n",
    "    def __init__(self):\n",
    "        pass\n",
    "\n",
    "class StoryNode:\n",
    "    \n",
    "    def __init__(self, title, message, choice1, choice2):\n",
    "        self.title = title\n",
    "        self.message = message\n",
    "        self.choice1 = choice1\n",
    "        self.choice2 = choice2\n",
    "    \n",
    "    def add_choices(self, node1, node2):\n",
    "        self.choice1 = node1\n",
    "        self.choice2 = node2 \n",
    "        \n",
    "first_node = StoryNode(\"first node\", \n",
    "                       \"You ran into a forest full of aliens\", \n",
    "                       choice1=None,\n",
    "                       choice2=None)\n",
    "\n",
    "node_2_1 = StoryNode(\"Get in the helicopter\", \"You got into a strong copter\", choice1=None, choice2=None)\n",
    "node_2_2 = StoryNode(\"Run away\", \"You ran away\", choice1=None, choice2=None)\n",
    "\n",
    "first_node.add_choices(node_2_1, node_2_2)"
   ]
  }
 ],
 "metadata": {
  "kernelspec": {
   "display_name": "Python 3",
   "language": "python",
   "name": "python3"
  },
  "language_info": {
   "codemirror_mode": {
    "name": "ipython",
    "version": 3
   },
   "file_extension": ".py",
   "mimetype": "text/x-python",
   "name": "python",
   "nbconvert_exporter": "python",
   "pygments_lexer": "ipython3",
   "version": "3.7.3"
  }
 },
 "nbformat": 4,
 "nbformat_minor": 2
}
