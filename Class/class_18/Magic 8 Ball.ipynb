{
 "cells": [
  {
   "cell_type": "code",
   "execution_count": 4,
   "metadata": {},
   "outputs": [
    {
     "name": "stdout",
     "output_type": "stream",
     "text": [
      "Ask me something:\n",
      "$ iug\n",
      "Signs point to yes\n",
      "Do you need something else?Y/n\n",
      "$ n\n"
     ]
    }
   ],
   "source": [
    "import random\n",
    "\n",
    "\n",
    "answers = [\n",
    "    'As I see it, yes',\n",
    "    'Ask again later',\n",
    "    'Better not tell you now',\n",
    "    'Cannot predict now',\n",
    "    'Concentrate and ask again',\n",
    "    'Don’t count on it',\n",
    "    'It is certain',\n",
    "    'It is decidedly so',\n",
    "    'Most likely',\n",
    "    'My reply is no',\n",
    "    'My sources say no',\n",
    "    'Outlook good',\n",
    "    'Outlook not so good',\n",
    "    'Reply hazy try again',\n",
    "    'Signs point to yes',\n",
    "    'Very doubtful',\n",
    "    'Without a doubt',\n",
    "    'Yes',\n",
    "    'Yes, definitely',\n",
    "    'You may rely on it'\n",
    "]\n",
    "\n",
    "def magic_answer(answers):\n",
    "    question = input(\"Ask me something:\\n$ \")\n",
    "    random_answer = random.choice(answers)\n",
    "    print(random_answer)\n",
    "\n",
    "def game(answers):\n",
    "    while True:\n",
    "        magic_answer(answers)\n",
    "        valid = input(\"Do you need something else?Y/n\\n$ \")\n",
    "        if valid.lower() == 'n':\n",
    "            break\n",
    "            \n",
    "game(answers)"
   ]
  },
  {
   "cell_type": "code",
   "execution_count": null,
   "metadata": {},
   "outputs": [],
   "source": []
  }
 ],
 "metadata": {
  "kernelspec": {
   "display_name": "Python 3",
   "language": "python",
   "name": "python3"
  },
  "language_info": {
   "codemirror_mode": {
    "name": "ipython",
    "version": 3
   },
   "file_extension": ".py",
   "mimetype": "text/x-python",
   "name": "python",
   "nbconvert_exporter": "python",
   "pygments_lexer": "ipython3",
   "version": "3.7.3"
  }
 },
 "nbformat": 4,
 "nbformat_minor": 2
}
