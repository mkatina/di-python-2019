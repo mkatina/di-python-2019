{
 "cells": [
  {
   "cell_type": "markdown",
   "metadata": {},
   "source": [
    "# Functions"
   ]
  },
  {
   "cell_type": "markdown",
   "metadata": {},
   "source": [
    "#### Functions are parts of code that can be reused an infinite amount of times, with different parameters"
   ]
  },
  {
   "cell_type": "markdown",
   "metadata": {},
   "source": [
    "## How to define a function ?\n",
    "<span style=\"color:red; font:bold\">__def__</span> keyword create a function, syntax is:\n",
    "<pre><code>\n",
    "def NAME_OF_THE_FUNCTION():\n",
    "    SOME CODE...\n",
    "</pre></code>\n",
    "<br>\n",
    "*The function has to be created in the same python file*"
   ]
  },
  {
   "cell_type": "code",
   "execution_count": 12,
   "metadata": {},
   "outputs": [],
   "source": [
    "def print_hello_world():\n",
    "    print(\"Hello world from the function !\")"
   ]
  },
  {
   "cell_type": "markdown",
   "metadata": {},
   "source": [
    ">*Note: At this point, print_hello_world is a variable that stores the adress of the function, to run it, we need to __call__ it*"
   ]
  },
  {
   "cell_type": "markdown",
   "metadata": {},
   "source": [
    "\n",
    "***** \n",
    "\n",
    "## Call a function \n",
    "Calling a function mean run the whole code once. <br>\n",
    "In python, calling is done by adding brackets __()__ at the end of the variable <br>\n",
    "Syntax:<br>\n",
    "`NAME_OF_THE_FUNCTION()` "
   ]
  },
  {
   "cell_type": "markdown",
   "metadata": {},
   "source": [
    "> *Note: sometimes it can happen that you get this error `TypeError: object is not callable`, it means you tried to __call__ an object that is not a function, check the type of the variable*"
   ]
  },
  {
   "cell_type": "code",
   "execution_count": null,
   "metadata": {},
   "outputs": [],
   "source": [
    "print_hello_world()"
   ]
  },
  {
   "cell_type": "markdown",
   "metadata": {},
   "source": [
    "*****\n",
    "## Parameters ? "
   ]
  },
  {
   "cell_type": "markdown",
   "metadata": {},
   "source": [
    "Parameters, or arguments, are variables that can be send to a function, so the function will execute the same code with different parameters<br>\n",
    "__Syntax:__<br>\n",
    "`NAME_OF_THE_FUNCTION(ARGUMENT1, ARGUMENT2, ARGUMENT3):`<br>\n",
    "<br>\n",
    "-  *Arguments names in the function defintion will be the names of the variables inside the function*<br>\n",
    "-  *There is no limit to the number of argument that can be passed*<br>\n",
    "<br>\n",
    "A simple example is a function that add two numbers and print the sum:<br>"
   ]
  },
  {
   "cell_type": "code",
   "execution_count": 7,
   "metadata": {},
   "outputs": [],
   "source": [
    "def add_two_numbers(number1, number2):                          # Define the function\n",
    "    num_sum = number1 + number2                                 # Compute the sum\n",
    "    print(\"{} + {} = {}\".format(number1, number2, num_sum))     # Print it\n",
    "    print(\"Thanks for using this function!\")                    # Be nice"
   ]
  },
  {
   "cell_type": "markdown",
   "metadata": {},
   "source": [
    "## Calling a function with parameters\n",
    "If a function expect a certain number of arguments, you have to pass the exact same number of values, else an error will be raised.<br>\n",
    "The arguments will be filled by order: first value will go to first argument, second value to second argument, etc.. It is called __positional__ arguments<br>\n",
    "Let's call our function with 5 and 8."
   ]
  },
  {
   "cell_type": "code",
   "execution_count": 8,
   "metadata": {},
   "outputs": [
    {
     "name": "stdout",
     "output_type": "stream",
     "text": [
      "5 + 8 = 13\n",
      "Thanks for using this function!\n"
     ]
    }
   ],
   "source": [
    "add_two_numbers(5,8)"
   ]
  },
  {
   "cell_type": "markdown",
   "metadata": {},
   "source": [
    "We can also pass the argument in different order, but we need to specify which value belong to which argument, this is called __keyword__ arguments"
   ]
  },
  {
   "cell_type": "code",
   "execution_count": 9,
   "metadata": {},
   "outputs": [
    {
     "name": "stdout",
     "output_type": "stream",
     "text": [
      "5 + 8 = 13\n",
      "Thanks for using this function!\n"
     ]
    }
   ],
   "source": [
    "add_two_numbers(number2=8, number1=5)"
   ]
  },
  {
   "cell_type": "markdown",
   "metadata": {},
   "source": [
    "Now this function can be used with every numbers, the code will be much more shorter and simpler.<br>\n",
    "Variables can be passed to the function too, and the name of the variable don't have to be the same name as the argument in the function definition."
   ]
  },
  {
   "cell_type": "code",
   "execution_count": 15,
   "metadata": {
    "scrolled": true
   },
   "outputs": [
    {
     "name": "stdout",
     "output_type": "stream",
     "text": [
      "10 + 7 = 17\n",
      "Thanks for using this function!\n"
     ]
    }
   ],
   "source": [
    "my_first_number  = 10\n",
    "my_second_number = 7\n",
    "\n",
    "add_two_numbers(my_first_number, my_second_number)"
   ]
  },
  {
   "cell_type": "markdown",
   "metadata": {},
   "source": [
    "## Default parameters\n",
    "Parameters can have a default value, if there is no value for this parameter in the function __call__, it will take this default value.<br>\n",
    "__Syntax:__<br>\n",
    "`def NAME_OF_THE_FUNCTION(ARGUMENT1, ARGUMENT2, ARGUMENT3=DEFAULT_VALUE):`<br>\n",
    "\n",
    "Here, if there is three values in the function __call__, `ARGUMENT3` will take the last one, but if there is only two, then `ARGUMENT3` will be `DEFAULT_VALUE`"
   ]
  },
  {
   "cell_type": "code",
   "execution_count": 17,
   "metadata": {
    "scrolled": true
   },
   "outputs": [
    {
     "name": "stdout",
     "output_type": "stream",
     "text": [
      "Hey, I am Eyal Chocron, my favourite activity is coding\n",
      "Hey, I am Eyal Chocron, my favourite activity is eating\n"
     ]
    }
   ],
   "source": [
    "def introduce_myself(first_name, last_name, favourite_activity=\"coding\"):\n",
    "    print(\"Hey, I am {} {}, my favourite activity is {}\".format(first_name, last_name, favourite_activity))\n",
    "\n",
    "introduce_myself(\"Eyal\", \"Chocron\")                      # Calling the function with default value\n",
    "introduce_myself(\"Eyal\", \"Chocron\", \"eating\")            # Calling the function with another value"
   ]
  },
  {
   "cell_type": "markdown",
   "metadata": {},
   "source": [
    "*****\n",
    "# Exercises\n",
    "\n"
   ]
  },
  {
   "cell_type": "markdown",
   "metadata": {},
   "source": [
    "# 1\n",
    "Write a function called make_shirt() that accepts a size and the\n",
    "text of a message that should be printed on the shirt. The function should print\n",
    "a sentence summarizing the size of the shirt and the message printed on it."
   ]
  },
  {
   "cell_type": "code",
   "execution_count": 19,
   "metadata": {},
   "outputs": [
    {
     "name": "stdout",
     "output_type": "stream",
     "text": [
      "Thanks for ordering a shirt in size M with the message <I love python> on it \n"
     ]
    }
   ],
   "source": [
    "def shirt_order(size, message):\n",
    "    print(\"Thanks for ordering a shirt in size {} with the message <{}> on it \".format(size, message))\n",
    "    \n",
    "shirt_order(\"M\", \"I love python\")"
   ]
  },
  {
   "cell_type": "markdown",
   "metadata": {},
   "source": [
    "# 2\n",
    "Modify this function so that shirt are larges by default with a message that reads \"I love Python\""
   ]
  },
  {
   "cell_type": "code",
   "execution_count": 26,
   "metadata": {},
   "outputs": [
    {
     "name": "stdout",
     "output_type": "stream",
     "text": [
      "Thanks for ordering a shirt in size S with the message <I love Python> on it \n"
     ]
    }
   ],
   "source": [
    "def shirt_order(size=\"L\", message=\"I love Python\"):\n",
    "    print(\"Thanks for ordering a shirt in size {} with the message <{}> on it \".format(size, message))\n",
    "    \n",
    "shirt_order(\"S\")"
   ]
  },
  {
   "cell_type": "markdown",
   "metadata": {},
   "source": [
    "# 3 ~\n",
    "Write a function that accept two numbers, and then check if they really are numbers, if they are then print their sum."
   ]
  },
  {
   "cell_type": "code",
   "execution_count": 29,
   "metadata": {},
   "outputs": [
    {
     "name": "stdout",
     "output_type": "stream",
     "text": [
      "Please input some real numbers\n"
     ]
    }
   ],
   "source": [
    "def sum_of_nbs(number1, number2):\n",
    "    if type(number1) == int and type(number2) == int:\n",
    "        print(\"{} + {} = {}\".format(number1, number2, number1+number2))\n",
    "    else:\n",
    "        print(\"Please input some real numbers\")\n",
    "\n",
    "sum_of_nbs(2,'4')"
   ]
  },
  {
   "cell_type": "markdown",
   "metadata": {},
   "source": [
    "*****"
   ]
  },
  {
   "cell_type": "markdown",
   "metadata": {},
   "source": [
    "## Variables scope \n",
    "Every variable that are declared outside a function can be used inside the function<br>\n",
    "__BUT__\n",
    "Every variable that is declared inside the function is destroyed at the end of the execution.<br>\n",
    "> Variables that are declared in the code are called __global__ variables<br>\n",
    "> Variables that are declared inside a function are called __local__ variables<br>\n",
    "\n",
    "The problem is that most of the time you will want to use function variables. With the previous function as example, you don't only want to print the sum of the numbers, you want to store it into a variable so you can use it."
   ]
  },
  {
   "cell_type": "markdown",
   "metadata": {},
   "source": [
    "## Returning a value\n",
    "There is a way to send a value back from the inside of a function, it is called __returning a value__<br>\n",
    "The <span style=\"color:red; font:bold\">__return__</span> keyword is used for this.<br>\n",
    "Inside a function, use <span style=\"color:red; font:bold\">__return__</span> VARIABLE_NAME to return a variable.<br>"
   ]
  },
  {
   "cell_type": "code",
   "execution_count": 18,
   "metadata": {},
   "outputs": [],
   "source": [
    "def add_two_numbers(number1, number2):                          # Define the function\n",
    "    num_sum = number1 + number2                                 # Compute the sum\n",
    "    print(\"{} + {} = {}\".format(number1, number2, num_sum))     # Print it\n",
    "    print(\"Thanks for using this function!\")                    # Be nice\n",
    "    return num_sum                                              # Return the sum"
   ]
  },
  {
   "cell_type": "markdown",
   "metadata": {},
   "source": [
    "This variable will be send where the function is called, we need to catch it and store it into a variable.<br>\n",
    "Somehow, `add_two_numbers(6,8)` will be replaced by the value returned by the function.<br>\n",
    "__Example:__<br>\n",
    "<pre><code>\n",
    "    my_sum = add_two_numbers(6,8)\n",
    "</pre></code><br>\n",
    "will return 14, thus it can be seen as <br>\n",
    "<pre><code>\n",
    "    my_sum = 14\n",
    "</pre></code><br>"
   ]
  },
  {
   "cell_type": "code",
   "execution_count": null,
   "metadata": {
    "scrolled": false
   },
   "outputs": [],
   "source": [
    "my_sum = add_two_numbers(6,8)\n",
    "print(\"my_sum is: {}\".format(my_sum))"
   ]
  },
  {
   "cell_type": "markdown",
   "metadata": {},
   "source": [
    "*****\n",
    "# Exercises\n",
    "\n"
   ]
  },
  {
   "cell_type": "markdown",
   "metadata": {},
   "source": [
    "# 1\n",
    "Write a function that gets a number as argument and return a list of numbers from 0 to this number"
   ]
  },
  {
   "cell_type": "markdown",
   "metadata": {},
   "source": [
    "## 2 \n",
    "Write a function that sum all numbers in a list and return it"
   ]
  },
  {
   "cell_type": "markdown",
   "metadata": {},
   "source": [
    "*****"
   ]
  },
  {
   "cell_type": "markdown",
   "metadata": {},
   "source": [
    "# Playing with list\n",
    "Unlike the other variables, when list is passed to a function as an argument, every modification is also applied on the original list. That's because the list variable is not a list but an address, so every changes happen on this address.<br>\n",
    "Thus be careful when you are modifying list inside a function, if you want a copy of the list, use `mylist.copy()`<br>\n"
   ]
  },
  {
   "cell_type": "code",
   "execution_count": 10,
   "metadata": {},
   "outputs": [
    {
     "name": "stdout",
     "output_type": "stream",
     "text": [
      "[1, 2, 3, 11]\n"
     ]
    }
   ],
   "source": [
    "def append_11(my_list):\n",
    "    my_list.append(11)\n",
    "    \n",
    "my_list = [1,2,3]\n",
    "append_11(my_list)\n",
    "print(my_list)"
   ]
  },
  {
   "cell_type": "markdown",
   "metadata": {},
   "source": [
    "*****\n",
    "# Exercises\n",
    "\n"
   ]
  },
  {
   "cell_type": "markdown",
   "metadata": {},
   "source": [
    "## 1\n",
    "\n",
    "Write a function that take a list of first names as argument and add \"Smith\" to each one (this function is supposed to modify the original list)"
   ]
  },
  {
   "cell_type": "markdown",
   "metadata": {},
   "source": [
    "## 2\n",
    "\n",
    "Write a function that reverse a list."
   ]
  },
  {
   "cell_type": "markdown",
   "metadata": {},
   "source": [
    "## 3\n",
    "\n",
    "Write a function that take two lists as argument and merge them together. Return the merged one"
   ]
  },
  {
   "cell_type": "markdown",
   "metadata": {},
   "source": [
    "*****\n",
    "\n",
    "# Modularity - Store our functions in a file\n",
    "\n",
    "We can store python functions in another file, to use it inside our python file, we need to import them.<br>\n",
    "__import__ keyword can import a python file.<br>\n",
    "*The file needs to be in the current working directory*\n",
    "\n",
    "__Syntax:__<br>\n",
    "`import FILENAME`<br>\n",
    "\n",
    "To use a function that belong to `FILENAME`, type `FILENAME.NAME_OF_THE_FUNCTION()`"
   ]
  },
  {
   "cell_type": "markdown",
   "metadata": {},
   "source": [
    "### __FROM__  keyword\n",
    "__from__ is used to import the function as a part of the current python file.<br>\n",
    "`from FILENAME import NAME_OF_THE_FUNCTION`<br>\n",
    "Now we can use `NAME_OF_THE_FUNCTION()` without having to call `FILENAME.`<br>"
   ]
  },
  {
   "cell_type": "markdown",
   "metadata": {},
   "source": [
    "## Aliases\n",
    "__as__ keyword is used to change the name of the module inside our python file.<br>\n",
    "`import FILENAME as my_module`<br>\n",
    "And then we can call `my_module.NAME_OF_THE_FUNCTION()`.<br>"
   ]
  }
 ],
 "metadata": {
  "kernelspec": {
   "display_name": "Python 3",
   "language": "python",
   "name": "python3"
  },
  "language_info": {
   "codemirror_mode": {
    "name": "ipython",
    "version": 3
   },
   "file_extension": ".py",
   "mimetype": "text/x-python",
   "name": "python",
   "nbconvert_exporter": "python",
   "pygments_lexer": "ipython3",
   "version": "3.6.5"
  }
 },
 "nbformat": 4,
 "nbformat_minor": 2
}
