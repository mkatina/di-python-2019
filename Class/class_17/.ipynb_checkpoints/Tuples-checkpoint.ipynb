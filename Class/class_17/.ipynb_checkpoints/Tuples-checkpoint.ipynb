{
 "cells": [
  {
   "cell_type": "markdown",
   "metadata": {},
   "source": [
    "# Tuples"
   ]
  },
  {
   "cell_type": "markdown",
   "metadata": {},
   "source": [
    "## Tuple ?"
   ]
  },
  {
   "cell_type": "markdown",
   "metadata": {},
   "source": [
    "Tuple is like a list but immutable"
   ]
  },
  {
   "cell_type": "markdown",
   "metadata": {},
   "source": [
    "## Defining a tuple"
   ]
  },
  {
   "cell_type": "code",
   "execution_count": 7,
   "metadata": {},
   "outputs": [],
   "source": [
    "tpl = (5,6,7)\n",
    "tpl = \"hello\", \"world\""
   ]
  },
  {
   "cell_type": "code",
   "execution_count": 8,
   "metadata": {},
   "outputs": [],
   "source": [
    "lst = list(tpl)\n",
    "tpl = tuple(lst)"
   ]
  },
  {
   "cell_type": "code",
   "execution_count": 18,
   "metadata": {},
   "outputs": [
    {
     "name": "stdout",
     "output_type": "stream",
     "text": [
      "(1, 2, 3, 5, 5, 5)\n"
     ]
    }
   ],
   "source": [
    "tuple1 = 1,2,3\n",
    "tuple2 = 5,5,5\n",
    "\n",
    "tuple1 += tuple2\n",
    "\n",
    "print(tuple1)"
   ]
  },
  {
   "cell_type": "markdown",
   "metadata": {},
   "source": [
    "## Modifying a tuple"
   ]
  },
  {
   "cell_type": "code",
   "execution_count": null,
   "metadata": {},
   "outputs": [],
   "source": [
    "t = (4,5,6)\n",
    "t = t + (7,8)\n",
    "print(t)"
   ]
  },
  {
   "cell_type": "markdown",
   "metadata": {},
   "source": [
    "## Unpacking a tuple"
   ]
  },
  {
   "cell_type": "code",
   "execution_count": 22,
   "metadata": {
    "scrolled": true
   },
   "outputs": [
    {
     "name": "stdout",
     "output_type": "stream",
     "text": [
      "Eyal 20 Hertsleyal\n"
     ]
    }
   ],
   "source": [
    "my_tuple = (\"Eyal\", 20, \"Hertsliya\")\n",
    "\n",
    "name, age, city = my_tuple\n",
    "\n",
    "print(name, age, city)"
   ]
  },
  {
   "cell_type": "code",
   "execution_count": null,
   "metadata": {},
   "outputs": [],
   "source": []
  },
  {
   "cell_type": "markdown",
   "metadata": {},
   "source": [
    "## Returning a tuple"
   ]
  },
  {
   "cell_type": "code",
   "execution_count": 7,
   "metadata": {},
   "outputs": [
    {
     "name": "stdout",
     "output_type": "stream",
     "text": [
      "1 56246\n"
     ]
    }
   ],
   "source": [
    "def min_and_max(a_list):\n",
    "    minimum = min(a_list)\n",
    "    maximum = max(a_list)\n",
    "    return minimum, maximum\n",
    "\n",
    "my_list = [1,253,346,23414,143,56246,25341,534,645,7467,54]\n",
    "mini, maxi = min_and_max(my_list)\n",
    "print(mini, maxi)"
   ]
  },
  {
   "cell_type": "code",
   "execution_count": 11,
   "metadata": {},
   "outputs": [
    {
     "name": "stdout",
     "output_type": "stream",
     "text": [
      "[0, 1, 2, 3, 4]\n"
     ]
    }
   ],
   "source": [
    "r = range(55623459827349857239485729834572983475)\n",
    "print(r)"
   ]
  },
  {
   "cell_type": "markdown",
   "metadata": {},
   "source": [
    "## The case of enumerate"
   ]
  },
  {
   "cell_type": "code",
   "execution_count": 17,
   "metadata": {
    "scrolled": true
   },
   "outputs": [
    {
     "name": "stdout",
     "output_type": "stream",
     "text": [
      "Hello 0\n",
      "World 1\n",
      "It's 2\n",
      "Eyal 3\n"
     ]
    }
   ],
   "source": [
    "mylist = [\"Hello\", \"World\", \"It's\", \"Eyal\"]\n",
    "\n",
    "for ix, elem in enumerate(mylist):\n",
    "    \n",
    "    print(elem, ix)"
   ]
  },
  {
   "cell_type": "code",
   "execution_count": 18,
   "metadata": {},
   "outputs": [
    {
     "name": "stdout",
     "output_type": "stream",
     "text": [
      "Hello World\n",
      "Eyal Shukrun\n",
      "I love Python\n"
     ]
    }
   ],
   "source": [
    "mylist_1 = [\"Hello\", \"Eyal\", \"I love\"]\n",
    "mylist_2 = [\"World\", \"Shukrun\", \"Python\"]\n",
    "\n",
    "for ix, elem in enumerate(mylist_1):\n",
    "    word_2 = mylist_2[ix]\n",
    "    print(elem, word_2)"
   ]
  },
  {
   "cell_type": "markdown",
   "metadata": {},
   "source": [
    "## ZIP"
   ]
  },
  {
   "cell_type": "code",
   "execution_count": 25,
   "metadata": {},
   "outputs": [
    {
     "name": "stdout",
     "output_type": "stream",
     "text": [
      "Hello World 1\n",
      "Eyal Shukrun 2\n",
      "I love Python 3\n"
     ]
    }
   ],
   "source": [
    "mylist_1 = [\"Hello\", \"Eyal\", \"I love\"]\n",
    "mylist_2 = [\"World\", \"Shukrun\", \"Python\"]\n",
    "mylist_3 = [1,2,3]\n",
    "for elem1, elem2, elem3 in zip(mylist_1, mylist_2, mylist_3):\n",
    "    print(elem1, elem2, elem3)"
   ]
  },
  {
   "cell_type": "markdown",
   "metadata": {},
   "source": [
    "*****\n",
    "# Exercise 1"
   ]
  },
  {
   "cell_type": "markdown",
   "metadata": {},
   "source": [
    "### 1 \n",
    "Write a list `me_list` with 3 items: Your first name, your last name and your age\n",
    "### 2\n",
    "Convert it to a tuple `me_tuple`\n",
    "### 3\n",
    "Manually print a little phrase with all the items\n",
    "### 4\n",
    "Unpack this tuple into three variables\n",
    "\n"
   ]
  },
  {
   "cell_type": "markdown",
   "metadata": {},
   "source": [
    "***\n",
    "# Exercise 2\n",
    "\n",
    "### 1 \n",
    "Make a list `me_list` in this format:<br>\n",
    "<pre>\n",
    "<code>\n",
    "   me_list = [(\"name\",\"Eyal\"), \n",
    "            (\"age\",20), \n",
    "            (\"hobbies\", ['eating', 'coding', 'eating']) ]</code></pre>\n",
    "### 2 \n",
    "Make a function that convert that type of list into dictionnary"
   ]
  },
  {
   "cell_type": "code",
   "execution_count": 26,
   "metadata": {},
   "outputs": [
    {
     "name": "stdout",
     "output_type": "stream",
     "text": [
      "{'name': 'Eyal', 'age': 20, 'hobbies': ['eating', 'coding', 'eating']}\n"
     ]
    }
   ],
   "source": [
    "me_list = [(\"name\",\"Eyal\"), \n",
    "        (\"age\",20), \n",
    "        (\"hobbies\", ['eating', 'coding', 'eating']) ]\n",
    "\n",
    "d= {}\n",
    "\n",
    "for my_tuple in me_list:\n",
    "    key, value = my_tuple\n",
    "    d[key] = value\n",
    "    \n",
    "print(d)"
   ]
  },
  {
   "cell_type": "code",
   "execution_count": null,
   "metadata": {},
   "outputs": [],
   "source": []
  }
 ],
 "metadata": {
  "kernelspec": {
   "display_name": "Python 3",
   "language": "python",
   "name": "python3"
  },
  "language_info": {
   "codemirror_mode": {
    "name": "ipython",
    "version": 3
   },
   "file_extension": ".py",
   "mimetype": "text/x-python",
   "name": "python",
   "nbconvert_exporter": "python",
   "pygments_lexer": "ipython3",
   "version": "3.7.3"
  }
 },
 "nbformat": 4,
 "nbformat_minor": 2
}
