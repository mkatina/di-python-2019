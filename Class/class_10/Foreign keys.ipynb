{
 "cells": [
  {
   "cell_type": "markdown",
   "metadata": {},
   "source": [
    "# In a database, a foreign key is a link to another entry \n",
    "#### With classes, we can simulate this with classes into classes"
   ]
  },
  {
   "cell_type": "markdown",
   "metadata": {},
   "source": [
    "## Part 1: WebView\n",
    "A Web View is a basic webpage, it has those attributes:\n",
    "-  name\n",
    "-  content\n",
    "\n",
    "*** \n",
    "`print(mypage)` should print the content of the page.\n"
   ]
  },
  {
   "cell_type": "code",
   "execution_count": 14,
   "metadata": {},
   "outputs": [],
   "source": [
    "class WebView:\n",
    "    \n",
    "    def __init__(self, name, content):\n",
    "        self.name    = name\n",
    "        self.content = content\n",
    "        \n",
    "    def __repr__(self):\n",
    "        return \"WebView object: [{}]\".format(self.content)"
   ]
  },
  {
   "cell_type": "markdown",
   "metadata": {},
   "source": [
    "## Part 2: Website\n",
    "### Create a class Website\n",
    "This class represent a website, it should have those attributes:<br>\n",
    "-  `name`\n",
    "-  `url`\n",
    "-  `routes` (a dict that map every URI to a page)<br><br>\n",
    "And those functions:<br>\n",
    "-  `request` (input an URI and get the page back. __Bonus__: Add 404)\n",
    "-  `add_page` (input a page and a URI, the program adds it to the `routes`)\n"
   ]
  },
  {
   "cell_type": "code",
   "execution_count": 29,
   "metadata": {},
   "outputs": [],
   "source": [
    "class Website:\n",
    "    def __init__(self, name, url):\n",
    "        self.name   = name\n",
    "        self.url    = url\n",
    "        self.routes = {}\n",
    "        \n",
    "    def add_page(self, uri, page_obj):\n",
    "        self.routes[uri] = page_obj\n",
    "        print(\"Added\",uri)\n",
    "    \n",
    "    def request(self, uri):\n",
    "        if uri not in self.routes.keys():\n",
    "            print(\"404 Page Not Found Error - {}\".format(uri))\n",
    "            return False\n",
    "        print(\"Sent page {}\".format(uri))\n",
    "        return self.routes[uri]   \n",
    "    \n",
    "    def describe(self):\n",
    "        print(\"{}, have those pages:\".format(self.name))\n",
    "        for uri in self.routes.keys():\n",
    "            print(uri)\n",
    "    \n",
    "    def __repr__(self):\n",
    "        return \"Site at {}: {}\".format(self.url, self.name)"
   ]
  },
  {
   "cell_type": "code",
   "execution_count": 30,
   "metadata": {},
   "outputs": [
    {
     "name": "stdout",
     "output_type": "stream",
     "text": [
      "Added /index\n",
      "Added /about\n",
      "Added /example\n",
      "Sent page /example\n",
      "WebView object: [\n",
      "<html>\n",
      "<head><title>Hello</title></head>\n",
      "<body>\n",
      "    <h1> Welcome to my site !</h1>\n",
      "</body>\n",
      "</html>\n",
      "]\n"
     ]
    }
   ],
   "source": [
    "site = Website(\"Eyal's site\", \"www.eyalsite.com\")\n",
    "\n",
    "html_code = \"\"\"\n",
    "<html>\n",
    "<head><title>Hello</title></head>\n",
    "<body>\n",
    "    <h1> Welcome to my site !</h1>\n",
    "</body>\n",
    "</html>\n",
    "\"\"\"\n",
    "index_page    = WebView(\"index\", \"Hey, welcome to my site !\")\n",
    "about_me_page = WebView(\"about\", \"I am Eyal and I love Python\")\n",
    "html_page     = WebView(\"example\", html_code)\n",
    "\n",
    "site.add_page(\"/index\", index_page)\n",
    "site.add_page(\"/about\", about_me_page)\n",
    "site.add_page('/example', html_page)\n",
    "req = site.request(\"/example\")\n",
    "print(req)\n"
   ]
  },
  {
   "cell_type": "markdown",
   "metadata": {},
   "source": [
    "## Part 3: SearchEngine\n",
    "### Create a class SearchEngine\n",
    "A search engine is used to map from searchs to urls.<br>\n",
    "It should have those attributes: <br>\n",
    "-  sites (a dict that map every url to the site)\n",
    "-  sitesnames (a dict that map every website name to his url)\n",
    "<br>\n",
    "<br>\n",
    "And those functions:\n",
    "-  get (input the url of a site and get the website back)\n",
    "-  add (input a site and add it to sites)"
   ]
  },
  {
   "cell_type": "code",
   "execution_count": 31,
   "metadata": {},
   "outputs": [],
   "source": [
    "class SearchEngine:\n",
    "    \n",
    "    def __init__(self):\n",
    "        self.sites = {}\n",
    "        self.sitesnames = {}\n",
    "        \n",
    "    def add(self, site):\n",
    "        self.sitesnames[site.name] = site.url\n",
    "        self.sites[site.url] = site\n",
    "        \n",
    "    def get(self, name):\n",
    "        if name not in self.sitesnames:\n",
    "            print(\"Unknown site\")\n",
    "            return False\n",
    "        \n",
    "        site_url = self.sitesnames[name]\n",
    "\n",
    "        site = self.sites[site_url]\n",
    "        print(\"Returned site:\",site.name)\n",
    "        return site"
   ]
  },
  {
   "cell_type": "code",
   "execution_count": 32,
   "metadata": {},
   "outputs": [
    {
     "name": "stdout",
     "output_type": "stream",
     "text": [
      "Added /index\n",
      "Added /about\n",
      "Added /mycodes\n",
      "Added /favfood\n"
     ]
    }
   ],
   "source": [
    "# Create a search engine\n",
    "my_engine = SearchEngine()\n",
    "\n",
    "# Create a first site\n",
    "site = Website(\"Eyal's site\", \"www.eyalsite.com\")\n",
    "\n",
    "index_page    = WebView(\"index\", \"Hey, welcome to my site !\")\n",
    "about_me_page = WebView(\"about\", \"I am Eyal and I love Python\")\n",
    "\n",
    "site.add_page(\"/index\", index_page)\n",
    "site.add_page(\"/about\", about_me_page)\n",
    "\n",
    "my_engine.add(site)\n",
    "\n",
    "# Create a second site\n",
    "site2 = Website(\"Tesfit's site\", \"www.hope.com\")\n",
    "\n",
    "coding_page = WebView(\"my-codes\", \"Here are all of my codes:\")\n",
    "favourite_food = WebView(\"fav food\", \"Favourite food:\\n-Eggs\\n-Fish\")\n",
    "\n",
    "site2.add_page(\"/mycodes\", coding_page)\n",
    "site2.add_page(\"/favfood\", favourite_food)\n",
    "\n",
    "my_engine.add(site2)\n",
    "\n",
    "######## "
   ]
  },
  {
   "cell_type": "code",
   "execution_count": 35,
   "metadata": {},
   "outputs": [
    {
     "name": "stdout",
     "output_type": "stream",
     "text": [
      "Returned site: Tesfit's site\n",
      "Site at www.hope.com: Tesfit's site\n",
      "Sent page /favfood\n",
      "WebView object: [Favourite food:\n",
      "-Eggs\n",
      "-Fish]\n"
     ]
    }
   ],
   "source": [
    "site = my_engine.get(\"Tesfit's site\")\n",
    "print(site)\n",
    "\n",
    "page = site.request('/favfood')\n",
    "print(page)"
   ]
  }
 ],
 "metadata": {
  "kernelspec": {
   "display_name": "Python 3",
   "language": "python",
   "name": "python3"
  },
  "language_info": {
   "codemirror_mode": {
    "name": "ipython",
    "version": 3
   },
   "file_extension": ".py",
   "mimetype": "text/x-python",
   "name": "python",
   "nbconvert_exporter": "python",
   "pygments_lexer": "ipython3",
   "version": "3.6.5"
  }
 },
 "nbformat": 4,
 "nbformat_minor": 2
}
