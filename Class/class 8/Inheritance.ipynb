{
 "cells": [
  {
   "cell_type": "markdown",
   "metadata": {},
   "source": [
    "# Inheritance\n",
    "\n",
    "A class can inherit from other classes, it means every function from the parent class can be called by the child class"
   ]
  },
  {
   "cell_type": "markdown",
   "metadata": {},
   "source": [
    "## Creating a parent class `Phone`"
   ]
  },
  {
   "cell_type": "code",
   "execution_count": 26,
   "metadata": {},
   "outputs": [],
   "source": [
    "class Phone:\n",
    "    \n",
    "    def __init__(self, brand, model, phone_number, tactile_screen=False):\n",
    "        self.brand          = brand\n",
    "        self.model          = model\n",
    "        self.phone_number   = phone_number\n",
    "        self.tactile_screen = tactile_screen\n",
    "    \n",
    "    def call(self, number_to_call):\n",
    "        print(\"Calling to {}...\".format(number_to_call))\n",
    "    \n",
    "    def txt_message(self, number, message):\n",
    "        print(\"Sending to {}: {}\".format(number, message))    "
   ]
  },
  {
   "cell_type": "markdown",
   "metadata": {},
   "source": [
    "## Creating a child class `Smartphone`"
   ]
  },
  {
   "cell_type": "markdown",
   "metadata": {},
   "source": [
    "#### 1) To specify that a class is a child of another class, you need to put it in class definition, in the brackets.\n",
    "`class ChildClass(ParentClass)`\n",
    "\n",
    "#### 2) You can overide functions by just writing them again, if a function is in both classes, the one from the child will be executed\n",
    "\n",
    "#### 3) To call the Parent class from inside the child class, you can use `super` keyword\n",
    "> To add code to the `__init__` method without overiding it, you can call `super().__init__(arg1, arg2)`"
   ]
  },
  {
   "cell_type": "code",
   "execution_count": 27,
   "metadata": {},
   "outputs": [],
   "source": [
    "class Smartphone(Phone):  # Specify that Smartphone inherit from Phone\n",
    "    \n",
    "    def __init__(self, brand, model, phone_number, nb_of_cameras):\n",
    "        super().__init__(brand, model, phone_number, tactile_screen=True)  # super() is the parent function\n",
    "        self.nb_of_cameras = nb_of_cameras\n",
    "    \n",
    "    def take_pic(self):\n",
    "\n",
    "        print(\"Say cheese! *Click*\")"
   ]
  }
 ],
 "metadata": {
  "kernelspec": {
   "display_name": "Python 3",
   "language": "python",
   "name": "python3"
  },
  "language_info": {
   "codemirror_mode": {
    "name": "ipython",
    "version": 3
   },
   "file_extension": ".py",
   "mimetype": "text/x-python",
   "name": "python",
   "nbconvert_exporter": "python",
   "pygments_lexer": "ipython3",
   "version": "3.6.5"
  }
 },
 "nbformat": 4,
 "nbformat_minor": 2
}
