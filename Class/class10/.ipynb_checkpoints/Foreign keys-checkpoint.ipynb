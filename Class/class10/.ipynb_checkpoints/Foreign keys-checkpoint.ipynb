{
 "cells": [
  {
   "cell_type": "markdown",
   "metadata": {},
   "source": [
    "# In a database, a foreign key is a link to another entry \n",
    "#### With classes, we can simulate this with classes into classes"
   ]
  },
  {
   "cell_type": "markdown",
   "metadata": {},
   "source": [
    "## Part 1: WebView\n",
    "A Web View is a basic webpage, it has those attributes:\n",
    "-  name\n",
    "-  Content\n",
    "\n",
    "*** \n",
    "`print(mypage)` should print the content of the page.\n"
   ]
  },
  {
   "cell_type": "markdown",
   "metadata": {},
   "source": [
    "## Part 2: Website\n",
    "### Create a class Website\n",
    "This class represent a website, it should have those attributes:<br>\n",
    "-  `name`\n",
    "-  `url`\n",
    "-  `pages` (a dict that map every URI to a page)<br><br>\n",
    "And those functions:<br>\n",
    "-  `request` (input an URI and get the page back. __Bonus__: Add 404)\n",
    "-  `add_page` (input a page and a URI, the program adds it to the `pages`)\n"
   ]
  },
  {
   "cell_type": "markdown",
   "metadata": {},
   "source": [
    "## Part 3: WebBrowser\n",
    "### Create a class WebBrowser\n",
    "A search engine is used to map from searchs to urls.<br>\n",
    "It should have those attributes: <br>\n",
    "-  sites (a dict that map every url to the site)\n",
    "-  sitesnames (a dict that map every website name to his url)\n",
    "<br>\n",
    "<br>\n",
    "And those functions:\n",
    "-  get (input the url of a site and get the website back)\n",
    "-  add (input a site and add it to sites)"
   ]
  }
 ],
 "metadata": {
  "kernelspec": {
   "display_name": "Python 3",
   "language": "python",
   "name": "python3"
  },
  "language_info": {
   "codemirror_mode": {
    "name": "ipython",
    "version": 3
   },
   "file_extension": ".py",
   "mimetype": "text/x-python",
   "name": "python",
   "nbconvert_exporter": "python",
   "pygments_lexer": "ipython3",
   "version": "3.6.5"
  }
 },
 "nbformat": 4,
 "nbformat_minor": 2
}
