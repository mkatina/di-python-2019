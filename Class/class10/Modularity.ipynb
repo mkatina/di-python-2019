{
 "cells": [
  {
   "cell_type": "markdown",
   "metadata": {},
   "source": [
    "# Modules"
   ]
  },
  {
   "cell_type": "markdown",
   "metadata": {},
   "source": [
    "> Modules are single python file that can be imported and used inside another file."
   ]
  },
  {
   "cell_type": "markdown",
   "metadata": {},
   "source": [
    "## import"
   ]
  },
  {
   "cell_type": "markdown",
   "metadata": {},
   "source": [
    "We use __import__ statement to import a python file into another python file, when the module will be imported, he will be ran. Inside the other python file, all the functions and classes of the module can be accessed by `module_name.function_name`"
   ]
  },
  {
   "cell_type": "markdown",
   "metadata": {},
   "source": [
    "## from "
   ]
  },
  {
   "cell_type": "markdown",
   "metadata": {},
   "source": [
    "We can import specific functions from a module with the `from` statement.\n",
    "> When using `from`, there is no need to call them with `module_name.function_name` syntax, they are directly imported and we can call them with `function_name` only.<br>\n",
    "\n",
    "__Example__:<br>\n",
    "`from mymodule import myfunction`"
   ]
  },
  {
   "cell_type": "markdown",
   "metadata": {},
   "source": [
    "## as"
   ]
  },
  {
   "cell_type": "markdown",
   "metadata": {},
   "source": [
    "We can use aliases to change the name of the module inside the program.<br>\n",
    "__Example:__<br>\n",
    "`import mymodule as mod`"
   ]
  },
  {
   "cell_type": "markdown",
   "metadata": {},
   "source": [
    "## pip"
   ]
  },
  {
   "cell_type": "markdown",
   "metadata": {},
   "source": [
    "__pip__ is a python packages manager, it can download and install packages alone, it take them automatically from pypi.org, but can also install a downloaded package. "
   ]
  },
  {
   "cell_type": "markdown",
   "metadata": {},
   "source": [
    "# Package\n",
    "> A package is made up of multiple python files, and can even include librairies in C or C++, it's an entier folder."
   ]
  },
  {
   "cell_type": "markdown",
   "metadata": {},
   "source": [
    "### __init__.py\n",
    "A lot of time when looking at the structure of the packages, you'll see a file called `__init__.py`, this is the old syntax to create python packages, it's not necessary today but most of the packages are built like this. This file is executed when the package is loaded.<br>\n",
    "Every module in the package can be loaded alone by using `from my_package import my_module`"
   ]
  },
  {
   "cell_type": "markdown",
   "metadata": {},
   "source": [
    "***\n",
    "# Exercise\n",
    "\n",
    "Create a file called `functions.py` with those functions:\n",
    "\n",
    "-  `checking_input` - Check if their is letters in a string\n",
    "-  `validate_password` - Check if a password has an upper case, a lower case and a cypher\n",
    "-  `hashing_password` - Hashes a password\n",
    "-  `check_password` - Check if a password and a hash corresponds\n",
    "-  `crypt_password` - Transform password to stars\n",
    "<br><br>\n",
    "Now in another file called `class_user.py`, create a class User that have those attributes:\n",
    "-  email\n",
    "-  username\n",
    "<br>\n",
    "Create a class variable that map every username to a user<br>\n",
    "Add methods `add_password` and `connect`<br>\n",
    "Create a function `add_user` that ask for email, username and password and create a user.\n",
    "<br><br>\n",
    "Now in another file called `ui.py`, create a program that interact with the user"
   ]
  }
 ],
 "metadata": {
  "kernelspec": {
   "display_name": "Python 3",
   "language": "python",
   "name": "python3"
  },
  "language_info": {
   "codemirror_mode": {
    "name": "ipython",
    "version": 3
   },
   "file_extension": ".py",
   "mimetype": "text/x-python",
   "name": "python",
   "nbconvert_exporter": "python",
   "pygments_lexer": "ipython3",
   "version": "3.6.5"
  }
 },
 "nbformat": 4,
 "nbformat_minor": 2
}
