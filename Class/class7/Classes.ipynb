{
 "cells": [
  {
   "cell_type": "markdown",
   "metadata": {},
   "source": [
    "# Classes"
   ]
  },
  {
   "cell_type": "markdown",
   "metadata": {},
   "source": [
    "Almost __everything__ in python is an object"
   ]
  },
  {
   "cell_type": "markdown",
   "metadata": {},
   "source": [
    "An object is an entity that have two types of properties: attributes and functions.<br>\n",
    "A class is an object builder.<br>\n",
    "\n"
   ]
  },
  {
   "cell_type": "markdown",
   "metadata": {},
   "source": [
    "### __class__ definition\n",
    "To define a class, use __class__ keyword<br>\n",
    "When we call `class_name()`, the `__init__` function is called, it return a new object.<br>\n",
    "This object has attributes, we can access them via `object_name.attribute_name`"
   ]
  },
  {
   "cell_type": "code",
   "execution_count": null,
   "metadata": {},
   "outputs": [],
   "source": [
    "class Human(): # Creating a new class --> A new object builder\n",
    "    \n",
    "    def __init__(self): # Creating the __init__ function, which will \n",
    "                                                        # be called on the creation of an object\n",
    "        \n",
    "        self.number_of_eyes = 2       # Adding an attribute to this objec\n",
    "\n",
    "my_human = Human()             # Creating a new object of the class Human\n",
    "print(my_human.number_of_eyes)\n",
    "my_human.number_of_eyes = 4    # Modifying the number_of_eyes attribute of my_human\n",
    "print(my_human.number_of_eyes)"
   ]
  },
  {
   "cell_type": "markdown",
   "metadata": {},
   "source": [
    "## Add arguments to `__init__`"
   ]
  },
  {
   "cell_type": "code",
   "execution_count": 31,
   "metadata": {},
   "outputs": [
    {
     "name": "stdout",
     "output_type": "stream",
     "text": [
      "Eyal\n",
      "2\n"
     ]
    }
   ],
   "source": [
    "class Human(): \n",
    "    def __init__(self, name):  # Receive the name at the creation of the object\n",
    "        \n",
    "        self.name = name  # Add the name as object attribute\n",
    "        self.number_of_eyes = 2\n",
    "        \n",
    "my_human = Human(\"Eyal\") # Pass the name as argument\n",
    "print(my_human.name)\n",
    "print(my_human.number_of_eyes)"
   ]
  },
  {
   "cell_type": "markdown",
   "metadata": {},
   "source": [
    "## Add methods to the class"
   ]
  },
  {
   "cell_type": "code",
   "execution_count": 39,
   "metadata": {},
   "outputs": [
    {
     "name": "stdout",
     "output_type": "stream",
     "text": [
      "Homer is eating\n",
      "Marge is eating\n",
      "Marge is eating\n",
      "30\n"
     ]
    }
   ],
   "source": [
    "class Human(): \n",
    "    def __init__(self, name, age):  \n",
    "        \n",
    "        self.name = name  \n",
    "        self.age  = age\n",
    "        self.number_of_eyes = 2\n",
    "    \n",
    "    def eat(self): # Declaring a new method of Human\n",
    "        print(\"{} is eating\".format(self.name))\n",
    "\n",
    "another_human = Human(\"Homer\",35)\n",
    "marge = Human(\"Marge\",30)\n",
    "\n",
    "another_human.eat()\n",
    "marge.eat()\n",
    "marge.eat()"
   ]
  },
  {
   "cell_type": "markdown",
   "metadata": {},
   "source": [
    "***\n",
    "# Exercises"
   ]
  },
  {
   "cell_type": "markdown",
   "metadata": {},
   "source": [
    "### 1. Car \n",
    "Create a `Car` class, this class need the following attributes:<br>\n",
    "-  Brand\n",
    "-  Model\n",
    "-  Color"
   ]
  },
  {
   "cell_type": "code",
   "execution_count": 48,
   "metadata": {},
   "outputs": [
    {
     "name": "stdout",
     "output_type": "stream",
     "text": [
      "This car is a Blue Chevrolet Spark\n",
      "This car is a Black BMW 334\n"
     ]
    }
   ],
   "source": [
    "class Car():\n",
    "    \n",
    "    def __init__(self, brand, model, color):\n",
    "        self.brand = brand\n",
    "        self.model = model\n",
    "        self.color = color\n",
    "    \n",
    "    def description(self):\n",
    "        print(\"This car is a {} {} {}\".format(self.color,\n",
    "                                             self.brand,\n",
    "                                             self.model))\n",
    "\n",
    "my_car = Car(\"Chevrolet\", \"Spark\", \"Blue\")\n",
    "my_second_car = Car(\"BMW\", \"334\", \"Black\")\n",
    "my_car.description()\n",
    "my_second_car.description()\n"
   ]
  },
  {
   "cell_type": "markdown",
   "metadata": {},
   "source": [
    "## What happen with the self"
   ]
  },
  {
   "cell_type": "code",
   "execution_count": 44,
   "metadata": {},
   "outputs": [
    {
     "name": "stdout",
     "output_type": "stream",
     "text": [
      "This car is a Blue Chevrolet Spark\n"
     ]
    }
   ],
   "source": [
    "my_car.description()\n"
   ]
  },
  {
   "cell_type": "markdown",
   "metadata": {},
   "source": [
    "### IS THE SAME THING AS"
   ]
  },
  {
   "cell_type": "markdown",
   "metadata": {},
   "source": [
    "Car.description(my_car)"
   ]
  }
 ],
 "metadata": {
  "kernelspec": {
   "display_name": "Python 3",
   "language": "python",
   "name": "python3"
  },
  "language_info": {
   "codemirror_mode": {
    "name": "ipython",
    "version": 3
   },
   "file_extension": ".py",
   "mimetype": "text/x-python",
   "name": "python",
   "nbconvert_exporter": "python",
   "pygments_lexer": "ipython3",
   "version": "3.6.5"
  }
 },
 "nbformat": 4,
 "nbformat_minor": 2
}
