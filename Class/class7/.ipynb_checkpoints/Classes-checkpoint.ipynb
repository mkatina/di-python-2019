{
 "cells": [
  {
   "cell_type": "markdown",
   "metadata": {},
   "source": [
    "# Classes"
   ]
  },
  {
   "cell_type": "markdown",
   "metadata": {},
   "source": [
    "Almost __everything__ in python is an object"
   ]
  },
  {
   "cell_type": "markdown",
   "metadata": {},
   "source": [
    "An object is an entity that have two types of properties: attributes and functions.<br>\n",
    "A class is an object builder.<br>\n",
    "\n"
   ]
  },
  {
   "cell_type": "markdown",
   "metadata": {},
   "source": [
    "### __class__ definition\n",
    "To define a class, use __class__ keyword<br>\n",
    "When we call `class_name()`, the `__init__` function is called, it return a new object.<br>\n",
    "This object has attributes, we can access them via `object_name.attribute_name`"
   ]
  },
  {
   "cell_type": "code",
   "execution_count": null,
   "metadata": {},
   "outputs": [],
   "source": [
    "class Human(): # Creating a new class --> A new object builder\n",
    "    \n",
    "    def __init__(self): # Creating the __init__ function, which will \n",
    "                                                        # be called on the creation of an object\n",
    "        \n",
    "        self.number_of_eyes = 2       # Adding an attribute to this object\n",
    "\n",
    "my_human = Human()             # Creating a new object of the class Human\n",
    "print(my_human.number_of_eyes)\n",
    "my_human.number_of_eyes = 4    # Modifying the number_of_eyes attribute of my_human\n",
    "print(my_human.number_of_eyes)"
   ]
  },
  {
   "cell_type": "code",
   "execution_count": null,
   "metadata": {},
   "outputs": [],
   "source": []
  },
  {
   "cell_type": "markdown",
   "metadata": {},
   "source": [
    "## Add arguments to `__init__`"
   ]
  },
  {
   "cell_type": "code",
   "execution_count": 31,
   "metadata": {},
   "outputs": [
    {
     "name": "stdout",
     "output_type": "stream",
     "text": [
      "Eyal\n",
      "2\n"
     ]
    }
   ],
   "source": [
    "class Human(): \n",
    "    def __init__(self, name):  # Receive the name at the creation of the object\n",
    "        \n",
    "        self.name = name  # Add the name as object attribute\n",
    "        self.number_of_eyes = 2\n",
    "        \n",
    "my_human = Human(\"Eyal\") # Pass the name as argument\n",
    "print(my_human.name)\n",
    "print(my_human.number_of_eyes)"
   ]
  },
  {
   "cell_type": "markdown",
   "metadata": {},
   "source": [
    "## Add methods to the class"
   ]
  },
  {
   "cell_type": "code",
   "execution_count": 39,
   "metadata": {},
   "outputs": [
    {
     "name": "stdout",
     "output_type": "stream",
     "text": [
      "Homer is eating\n",
      "Marge is eating\n",
      "Marge is eating\n",
      "30\n"
     ]
    }
   ],
   "source": [
    "class Human(): \n",
    "    def __init__(self, name, age):  \n",
    "        \n",
    "        self.name = name  \n",
    "        self.age  = age\n",
    "        self.number_of_eyes = 2\n",
    "    \n",
    "    def eat(self): # Declaring a new method of Human\n",
    "        print(\"{} is eating\".format(self.name))\n",
    "\n",
    "another_human = Human(\"Homer\",35)\n",
    "marge = Human(\"Marge\",30)\n",
    "\n",
    "another_human.eat()\n",
    "marge.eat()\n",
    "marge.eat()"
   ]
  },
  {
   "cell_type": "markdown",
   "metadata": {},
   "source": [
    "***\n",
    "# Exercises"
   ]
  },
  {
   "cell_type": "markdown",
   "metadata": {},
   "source": [
    "### 1. Car \n",
    "Create a `Car` class, this class need the following attributes:<br>\n",
    "-  Brand\n",
    "-  Model\n",
    "-  Color"
   ]
  },
  {
   "cell_type": "code",
   "execution_count": null,
   "metadata": {},
   "outputs": [],
   "source": [
    "class Car():\n",
    "    \n",
    "    def __init__(self, brand, model, color):\n",
    "        print(\"I created a new car !\")\n",
    "        \n",
    "        self.brand = brand\n",
    "        self.model = model\n",
    "        self.color = color\n",
    "        \n",
    "        self.km_number = 0\n",
    "        \n",
    "        self.current_fuel = 100                    \n",
    "        self.fuel_per_km  = 20\n",
    "        \n",
    "    def description(self):\n",
    "        print(\"This car is a {} {} {}, it has {} kilometers\".format(self.color,\n",
    "                                                             self.brand,\n",
    "                                                             self.model,\n",
    "                                                             self.km_number))\n",
    "    \n",
    "    def travel_one_km(self):\n",
    "        if self.km_number > 100000:                       # the car has crashed\n",
    "            print(\"Sorry, your car has crashed, you can't ride anymore..\")\n",
    "            return False\n",
    "        elif self.current_fuel <= 0:                      # the car is running out of fuel\n",
    "            print(\"Sorry, you're out of fuel\")\n",
    "            return False\n",
    "        else:                                             # The car can travel\n",
    "            self.km_number += 10000\n",
    "            print(\"I travelled 10000 km\")\n",
    "            self.current_fuel -= 20\n",
    "            return True\n",
    "    \n",
    "    def refill_fuel(self):\n",
    "        self.current_fuel = 100\n",
    "        \n",
    "    def check_fuel(self, nb_of_km): # check_fuel(2)\n",
    "        required_fuel = self.fuel_per_km*nb_of_km \n",
    "        if required_fuel <= self.current_fuel:\n",
    "            return True\n",
    "        else:\n",
    "            return False\n",
    "        \n",
    "        \n",
    "# Create two cars\n",
    "my_car = Car(\"Chevrolet\", \"Spark\", \"Blue\")\n",
    "my_second_car = Car(\"BMW\", \"334\", \"Black\")\n",
    "\n",
    "my_car.travel_one_km()\n",
    "my_car.travel_one_km()\n",
    "my_car.travel_one_km()\n",
    "my_car.travel_one_km()\n",
    "my_car.travel_one_km()\n",
    "\n",
    "# I want to travel\n",
    "enough_fuel = my_car.check_fuel(3)\n",
    "if enough_fuel == False:\n",
    "    print(\"Not enough fuel, refilling...\")\n",
    "    my_car.refill_fuel()\n",
    "    \n",
    "my_car.travel_one_km()C\n",
    "my_car.travel_one_km()\n",
    "my_car.travel_one_km()\n",
    "\n"
   ]
  },
  {
   "cell_type": "markdown",
   "metadata": {},
   "source": [
    "## What happen with the self"
   ]
  },
  {
   "cell_type": "code",
   "execution_count": 16,
   "metadata": {
    "scrolled": true
   },
   "outputs": [
    {
     "name": "stdout",
     "output_type": "stream",
     "text": [
      "This car is a Blue Chevrolet Spark, it has 80000 kilometers\n"
     ]
    }
   ],
   "source": [
    "my_car.description()"
   ]
  },
  {
   "cell_type": "markdown",
   "metadata": {},
   "source": [
    "### IS THE SAME THING AS"
   ]
  },
  {
   "cell_type": "markdown",
   "metadata": {},
   "source": [
    "Car.description(my_car)"
   ]
  }
 ],
 "metadata": {
  "kernelspec": {
   "display_name": "Python 3",
   "language": "python",
   "name": "python3"
  },
  "language_info": {
   "codemirror_mode": {
    "name": "ipython",
    "version": 3
   },
   "file_extension": ".py",
   "mimetype": "text/x-python",
   "name": "python",
   "nbconvert_exporter": "python",
   "pygments_lexer": "ipython3",
   "version": "3.6.5"
  }
 },
 "nbformat": 4,
 "nbformat_minor": 2
}
