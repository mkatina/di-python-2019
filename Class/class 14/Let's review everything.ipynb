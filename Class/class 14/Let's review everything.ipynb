{
 "cells": [
  {
   "cell_type": "markdown",
   "metadata": {},
   "source": [
    "# Variables\n",
    "\n",
    "Variable are just boxes that contain something, it has a name.<br>\n",
    "It can every type (list, class, function).\n",
    "<br>\n",
    "In the code, when you write a certain variable, python replace with his actual value."
   ]
  },
  {
   "cell_type": "markdown",
   "metadata": {},
   "source": [
    "# Comparators\n",
    "`=` means \"Take the value of...\"\n",
    "<br>`a = 5` MEANS a take the value of 5\n",
    "<br><br>\n",
    "`x == y` is a comparator and mean \"x and y have the same values?\"<br>\n",
    "`a == 5` MEANS \"a and 5 have the same values ?\""
   ]
  },
  {
   "cell_type": "markdown",
   "metadata": {},
   "source": [
    "# Loops \n"
   ]
  },
  {
   "cell_type": "markdown",
   "metadata": {},
   "source": [
    "### Vocabulary\n",
    "- Iterating --> looping (repeating a certain action)\n",
    "- Incrementing --> Adding 1 to a variable"
   ]
  },
  {
   "cell_type": "markdown",
   "metadata": {},
   "source": [
    "### While loops\n",
    "A loop that does the same thing again and again until a condition become False"
   ]
  },
  {
   "cell_type": "code",
   "execution_count": null,
   "metadata": {},
   "outputs": [],
   "source": [
    "i = 0\n",
    "mylist = ['hello','PARASYTE','world','PARASYTE','its','PARASYTE','eyal']\n",
    "while i < len(mylist):\n",
    "    if i % 2 == 0:\n",
    "        print(mylist[i])\n",
    "    i += 1"
   ]
  },
  {
   "cell_type": "markdown",
   "metadata": {},
   "source": [
    "> Break and continue are two ways to control the loop<br>\n",
    "> Break is stoping it <br>\n",
    "> continue is going to the next iteration<br>\n"
   ]
  },
  {
   "cell_type": "code",
   "execution_count": null,
   "metadata": {},
   "outputs": [],
   "source": [
    "i = 0\n",
    "\n",
    "while i < 10:\n",
    "    i += 1\n",
    "    if i == 3:\n",
    "        continue\n",
    "    if i == 8:\n",
    "        break\n",
    "    print(\"Hello for the {} time\".format(i))\n",
    "    \n",
    "\n",
    "print(\"End of the loop\")"
   ]
  },
  {
   "cell_type": "code",
   "execution_count": 16,
   "metadata": {},
   "outputs": [
    {
     "data": {
      "text/plain": [
       "True"
      ]
     },
     "execution_count": 16,
     "metadata": {},
     "output_type": "execute_result"
    }
   ],
   "source": [
    "5 < 8"
   ]
  },
  {
   "cell_type": "code",
   "execution_count": null,
   "metadata": {},
   "outputs": [],
   "source": [
    "while True:\n",
    "    userinput = input(\"How are you?[Good/Bad]\")\n",
    "    if userinput == 'good' or userinput == 'bad':\n",
    "        break"
   ]
  },
  {
   "cell_type": "markdown",
   "metadata": {},
   "source": [
    "### For loops\n",
    "For loops are looping for every element of a container\n"
   ]
  },
  {
   "cell_type": "code",
   "execution_count": null,
   "metadata": {},
   "outputs": [],
   "source": [
    "mylist = [1,3,5,7,9]\n",
    "for chocolate in mylist:\n",
    "    print(chocolate)"
   ]
  },
  {
   "cell_type": "markdown",
   "metadata": {},
   "source": [
    "> range allows to loop over a certain range of numbers"
   ]
  },
  {
   "cell_type": "raw",
   "metadata": {},
   "source": [
    "range(start, stop, step)"
   ]
  },
  {
   "cell_type": "code",
   "execution_count": 24,
   "metadata": {},
   "outputs": [
    {
     "data": {
      "text/plain": [
       "[1, 3, 5, 7, 9]"
      ]
     },
     "execution_count": 24,
     "metadata": {},
     "output_type": "execute_result"
    }
   ],
   "source": [
    "step = int(10/5)\n",
    "list(range(1,10,step))"
   ]
  },
  {
   "cell_type": "markdown",
   "metadata": {},
   "source": [
    "Why can this be useful?\n",
    "-  Loop over indexes by using `range(len(mylist))`"
   ]
  },
  {
   "cell_type": "code",
   "execution_count": 25,
   "metadata": {},
   "outputs": [
    {
     "name": "stdout",
     "output_type": "stream",
     "text": [
      "h\n",
      "e\n",
      "l\n",
      "o\n"
     ]
    }
   ],
   "source": [
    "mylist = [\"h\",\"e\",'l','o']\n",
    "for index_chocolate in range(len(mylist)):\n",
    "    print(mylist[index_chocolate])"
   ]
  },
  {
   "cell_type": "markdown",
   "metadata": {},
   "source": [
    "-  Do something a certain amount of time"
   ]
  },
  {
   "cell_type": "code",
   "execution_count": null,
   "metadata": {
    "scrolled": true
   },
   "outputs": [],
   "source": [
    "for useless_var in range(3):\n",
    "    print(\"Hello\")"
   ]
  },
  {
   "cell_type": "markdown",
   "metadata": {},
   "source": [
    "> Replace this"
   ]
  },
  {
   "cell_type": "code",
   "execution_count": null,
   "metadata": {},
   "outputs": [],
   "source": [
    "limit = 10\n",
    "i = 0\n",
    "while i < limit:\n",
    "    # DO smt...\n",
    "    i += 1"
   ]
  },
  {
   "cell_type": "markdown",
   "metadata": {},
   "source": [
    "***\n",
    "### Lists"
   ]
  },
  {
   "cell_type": "markdown",
   "metadata": {},
   "source": [
    "List is the most basic container, the data is indexed."
   ]
  },
  {
   "cell_type": "markdown",
   "metadata": {},
   "source": [
    "### Indexing \n",
    "In python, indexing is done by `[]`, for list (and for strings), the index is a number, it's his place in the array."
   ]
  },
  {
   "cell_type": "code",
   "execution_count": 29,
   "metadata": {},
   "outputs": [
    {
     "data": {
      "text/plain": [
       "4"
      ]
     },
     "execution_count": 29,
     "metadata": {},
     "output_type": "execute_result"
    }
   ],
   "source": [
    "mylist = [1,2,3,4,5]\n",
    "var = 3\n",
    "mylist[var]"
   ]
  },
  {
   "cell_type": "markdown",
   "metadata": {},
   "source": [
    "Indexing is really useful when used dynamically with loops"
   ]
  },
  {
   "cell_type": "code",
   "execution_count": 37,
   "metadata": {},
   "outputs": [
    {
     "name": "stdout",
     "output_type": "stream",
     "text": [
      "[5, 7, 3, 4, 5, 6, 5, 4, 5, 6, 7, 8]\n"
     ]
    }
   ],
   "source": [
    "my_list = [3,5,1,2,3,4,3,2,3,4,5,6]\n",
    "for i in range(len(my_list)):\n",
    "    my_list[i] = my_list[i] + 2\n",
    "print(my_list) "
   ]
  },
  {
   "cell_type": "markdown",
   "metadata": {},
   "source": [
    "Index can be negative, it will just be count from the end"
   ]
  },
  {
   "cell_type": "code",
   "execution_count": 38,
   "metadata": {},
   "outputs": [
    {
     "name": "stdout",
     "output_type": "stream",
     "text": [
      "HELLO WORLD\n"
     ]
    }
   ],
   "source": [
    "mylist = [1,2,3,4,'HELLO WORLD',5]\n",
    "print(mylist[-2])"
   ]
  },
  {
   "cell_type": "markdown",
   "metadata": {},
   "source": [
    "#### Slice\n",
    "Taking a portion of list, you can select a part of the list with the index of the beginning and the index of the end. In this format: `[start:end]`.<br>\n",
    "<span style=\"color:red\">The last number is never included</span><br>\n",
    "Putting no start or no end means 'from the very beginning' or 'to the very end'"
   ]
  },
  {
   "cell_type": "code",
   "execution_count": null,
   "metadata": {},
   "outputs": [],
   "source": [
    "mylist = ['pa', 'ra', 1 ,2 ,3 ,4 , 'sy', 'te']\n",
    "print(mylist[2:6])\n",
    "\n",
    "mylist2 = ['PARASYTE', 1,2,3,4]\n",
    "\n",
    "print(mylist2[1:])\n",
    "\n",
    "mylist3 = [1,2,3,4,'PARASYTE']\n",
    "print(mylist3[:-1])"
   ]
  },
  {
   "cell_type": "markdown",
   "metadata": {},
   "source": [
    "#### Modifying an element\n",
    "First select it with its index, and assign a new value to it"
   ]
  },
  {
   "cell_type": "code",
   "execution_count": 40,
   "metadata": {
    "scrolled": true
   },
   "outputs": [
    {
     "name": "stdout",
     "output_type": "stream",
     "text": [
      "[1, 2, 3, 4]\n"
     ]
    }
   ],
   "source": [
    "mylist = [1,9,3,4]\n",
    "mylist[1] = 2\n",
    "print(mylist)"
   ]
  },
  {
   "cell_type": "markdown",
   "metadata": {},
   "source": [
    "***\n",
    "### Strings\n",
    "\n",
    "Strings are just lists of characters, the main difference is that you can't change a character with his index."
   ]
  },
  {
   "cell_type": "code",
   "execution_count": 48,
   "metadata": {},
   "outputs": [
    {
     "name": "stdout",
     "output_type": "stream",
     "text": [
      "my first string was: hello world\n"
     ]
    }
   ],
   "source": [
    "mystring = \"hello world\"\n",
    "mynewstring = \"my first string was: {}\".format(mystring)\n"
   ]
  },
  {
   "cell_type": "markdown",
   "metadata": {},
   "source": [
    "There is a lot of built in functions to manipulate strings, easy ones:"
   ]
  },
  {
   "cell_type": "code",
   "execution_count": 49,
   "metadata": {
    "scrolled": true
   },
   "outputs": [
    {
     "data": {
      "text/plain": [
       "'HELLOWORLD'"
      ]
     },
     "execution_count": 49,
     "metadata": {},
     "output_type": "execute_result"
    }
   ],
   "source": [
    "mystring = \"helloworld\"\n",
    "mystring.upper()\n"
   ]
  },
  {
   "cell_type": "markdown",
   "metadata": {},
   "source": [
    "#### split and join"
   ]
  },
  {
   "cell_type": "markdown",
   "metadata": {},
   "source": [
    "You can transfom a string to a list very easily with"
   ]
  },
  {
   "cell_type": "code",
   "execution_count": 50,
   "metadata": {},
   "outputs": [
    {
     "data": {
      "text/plain": [
       "['h', 'e', 'l', 'l', 'o', 'w', 'o', 'r', 'l', 'd']"
      ]
     },
     "execution_count": 50,
     "metadata": {},
     "output_type": "execute_result"
    }
   ],
   "source": [
    "list(mystring)"
   ]
  },
  {
   "cell_type": "markdown",
   "metadata": {},
   "source": [
    "`list(mystring)` is taking every letter as an element, you can control the separator, for example:"
   ]
  },
  {
   "cell_type": "code",
   "execution_count": 70,
   "metadata": {},
   "outputs": [
    {
     "data": {
      "text/plain": [
       "\"'please', 'split', 'me', 'from', 'those', 'guys'\""
      ]
     },
     "execution_count": 70,
     "metadata": {},
     "output_type": "execute_result"
    }
   ],
   "source": [
    "sep = \"-\"\n",
    "mystring =  \"please-split-me-from-those-guys\"\n",
    "split_list = mystring.split(sep)\n",
    "\n",
    "# print(split_list)\n",
    "\n",
    "strlist = str(split_list)\n",
    "strlist.strip('[]')"
   ]
  },
  {
   "cell_type": "markdown",
   "metadata": {},
   "source": [
    "And you can go back with Join function"
   ]
  },
  {
   "cell_type": "code",
   "execution_count": 53,
   "metadata": {},
   "outputs": [
    {
     "data": {
      "text/plain": [
       "'058-6878-399'"
      ]
     },
     "execution_count": 53,
     "metadata": {},
     "output_type": "execute_result"
    }
   ],
   "source": [
    "mylist = ['058', '6878', '399'] # you want 058-6878-399\n",
    "'-'.join(mylist)"
   ]
  },
  {
   "cell_type": "markdown",
   "metadata": {},
   "source": [
    "***\n",
    "# Functions\n",
    "\n",
    "### Definition"
   ]
  },
  {
   "cell_type": "raw",
   "metadata": {},
   "source": [
    "def <name_of_the_function>(<arguments>, <default_argument>=<default_value>):\n",
    "    <code>\n",
    "    return <something>"
   ]
  },
  {
   "cell_type": "markdown",
   "metadata": {},
   "source": [
    "***\n",
    "# Exceptions\n"
   ]
  },
  {
   "cell_type": "markdown",
   "metadata": {},
   "source": [
    "## Try - Except\n",
    "`try` block is wrapping some problematic code.<br>\n",
    "If there is an error in this block, the program won't crash, but he will run the code in the `except` block."
   ]
  },
  {
   "cell_type": "code",
   "execution_count": 9,
   "metadata": {},
   "outputs": [
    {
     "name": "stdout",
     "output_type": "stream",
     "text": [
      "No error here\n",
      "I tried\n",
      "3.0\n"
     ]
    }
   ],
   "source": [
    "def div_nb(a, b):\n",
    "    try:\n",
    "        res = a / b\n",
    "    except:\n",
    "        res = 5\n",
    "    else:\n",
    "        print(\"No error here\")\n",
    "    finally:\n",
    "        print(\"I tried\")\n",
    "    return res\n",
    "\n",
    "print(div_nb(9,3))"
   ]
  },
  {
   "cell_type": "code",
   "execution_count": null,
   "metadata": {},
   "outputs": [],
   "source": []
  },
  {
   "cell_type": "code",
   "execution_count": 9,
   "metadata": {},
   "outputs": [
    {
     "ename": "TabError",
     "evalue": "inconsistent use of tabs and spaces in indentation (<ipython-input-9-f3a7fc2dbbf3>, line 67)",
     "output_type": "error",
     "traceback": [
      "\u001b[0;36m  File \u001b[0;32m\"<ipython-input-9-f3a7fc2dbbf3>\"\u001b[0;36m, line \u001b[0;32m67\u001b[0m\n\u001b[0;31m    ask_from_string(sentence)\u001b[0m\n\u001b[0m                             ^\u001b[0m\n\u001b[0;31mTabError\u001b[0m\u001b[0;31m:\u001b[0m inconsistent use of tabs and spaces in indentation\n"
     ]
    }
   ],
   "source": [
    "##### Functions #####\n",
    "# Defining a function\n",
    "'''\n",
    "def <name_of_the_function>(<argument1>, <argument2>):\t\t\n",
    "\t#CODE\n",
    "\t#CODE\n",
    "\n",
    "\treturn None\n",
    "'''\n",
    "\n",
    "def tokenize(s, splitter=' '):\n",
    "\t# \"hello world\" -> ['HELLO', 'WORLD']\n",
    "\twords = s.split(splitter)\n",
    "\tlst = []\n",
    "\tfor word in words:\n",
    "\t\tlst.append(word.upper())\n",
    "\n",
    "\treturn lst \n",
    "\n",
    "# result = tokenize(\"Hello how are you i am eyal\", splitter=' ',)\n",
    "# print(result)\n",
    "\n",
    "\t\n",
    "def quizz(question, answer):\n",
    "\tprint(question)\n",
    "\tuser_answer = input(\"$ \")\n",
    "\tif user_answer.upper() == answer.upper():\n",
    "\t\tprint(\"Good!\")\n",
    "\t\treturn True\n",
    "\telse:\n",
    "\t\tprint(\"Sorry, the answer was\", answer)\n",
    "\t\treturn False\t\t\n",
    "\n",
    "def quizz_w_lives(lives, question, answer):\n",
    "\tattempts = 0\n",
    "\twhile attempts < lives:\n",
    "\t\tgood_answer = quizz(question, answer)\n",
    "\t\tif good_answer:\n",
    "\t\t\tprint(\"Great!\t\t\")\n",
    "\t\t\treturn True\n",
    "\t\tprint(\"No, {} lives left\".format(lives-attempts))\n",
    "\t\tattempts += 1\n",
    "\tprint(\"Sorry, the answer was\", answer)\n",
    "\treturn False\n",
    "\n",
    "def parse_question_in_one_line(s):\n",
    "\treturn {'question':s.split(':::')[0], 'answer': s.split(':::')[1]}\n",
    "\n",
    "def parse_question(s):\n",
    "\tsplit_s = s.split(':::')\n",
    "\n",
    "\t# Build a dictionnary\n",
    "\tdic = {\n",
    "\t\t'question': split_s[0],\n",
    "\t\t'answer': split_s[1]\n",
    "\t}\n",
    "\n",
    "\treturn dic\n",
    "\n",
    "def ask_from_string(s):\n",
    "\tq_and_a = parse_question(s) \n",
    "\treturn quizz(q_and_a['question'], q_and_a['answer'])\n",
    "\n",
    "\n",
    "def big_quizz(list_of_s):\n",
    "\tfor sentence in list_of_s:\n",
    "        ask_from_string(sentence)\n",
    "        \n",
    "strings = [\n",
    "\t\"How old is Eyal?:::20\",\n",
    "    \"How old is Minnie Mouse::37\",\n",
    "\t\"What is the best language in the world?:::Python\"\n",
    "]\n",
    "\n",
    "big_quizz(strings)"
   ]
  },
  {
   "cell_type": "code",
   "execution_count": 4,
   "metadata": {},
   "outputs": [
    {
     "name": "stdout",
     "output_type": "stream",
     "text": [
      "probleme\n"
     ]
    }
   ],
   "source": [
    "try:\n",
    "    print(\"d\" + 5)\n",
    "except:\n",
    "    print(\"probleme\")"
   ]
  },
  {
   "cell_type": "markdown",
   "metadata": {},
   "source": [
    "***\n",
    "## Assertions\n"
   ]
  },
  {
   "cell_type": "code",
   "execution_count": 19,
   "metadata": {},
   "outputs": [
    {
     "name": "stdout",
     "output_type": "stream",
     "text": [
      "x isnt a string, im changing it to hello world\n",
      "X: Hello world\n"
     ]
    }
   ],
   "source": [
    "x = \"chocolate\"\n",
    "try:\n",
    "    assert type(x) == str\n",
    "except AssertionError:\n",
    "    print(\"x isnt a string, im changing it to hello world\")\n",
    "    x = \"Hello world\"\n",
    "    \n",
    "print(\"X:\",x)"
   ]
  },
  {
   "cell_type": "code",
   "execution_count": null,
   "metadata": {},
   "outputs": [],
   "source": []
  }
 ],
 "metadata": {
  "kernelspec": {
   "display_name": "Python 3",
   "language": "python",
   "name": "python3"
  },
  "language_info": {
   "codemirror_mode": {
    "name": "ipython",
    "version": 3
   },
   "file_extension": ".py",
   "mimetype": "text/x-python",
   "name": "python",
   "nbconvert_exporter": "python",
   "pygments_lexer": "ipython3",
   "version": "3.7.3"
  }
 },
 "nbformat": 4,
 "nbformat_minor": 2
}
