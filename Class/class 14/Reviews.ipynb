{
 "cells": [
  {
   "cell_type": "markdown",
   "metadata": {},
   "source": [
    "# Variables\n",
    "\n",
    "Variable is an element with a name, it can be EVERY type of element (list, function, class...)\n",
    "<br><br>\n",
    "\n",
    "Variable name should be relevant to its content\n",
    "<br><br>\n",
    "When the code will be read, the variable name will be replaced by its value\n",
    "<br><br>\n",
    "`=` means \"Take the value of\" (X = 4 --> X take the value of 4)<br>\n",
    "`==` means \"is equal to {} ?\" (X == 4 --> X is equal to 4 ?), it return True of False\n",
    "<br><br>\n",
    "\n",
    "\n",
    "***"
   ]
  },
  {
   "cell_type": "markdown",
   "metadata": {},
   "source": [
    "# Loops"
   ]
  },
  {
   "cell_type": "markdown",
   "metadata": {},
   "source": [
    "### Vocabulary:\n",
    "-  Increment --> Adding 1 to a variable\n",
    "-  Iterating --> Looping\n",
    "\n",
    "### While loop\n",
    "While loop is doing something WHILE a condition is true\n",
    "\n",
    "### For loop\n",
    "For loop is doing something FOR every element of a container\n",
    "\n",
    "### Break and Continue\n",
    "You can stop a loop with `break` and jump to the next iteration with `continue`\n",
    "\n",
    "### Range\n",
    "`range` is a function that returns a list of numbers, `range(10)` returns a list of numbers from 0 to 9.<br> \n",
    "***"
   ]
  },
  {
   "cell_type": "markdown",
   "metadata": {},
   "source": [
    "# Strings and lists\n",
    "Strings and lists can be seen together because strings are lists, they are lists of \n",
    "characters, the only real difference is that you can't change a letter in a string.\n",
    "<br>\n",
    "\n",
    "### Indexing an element\n",
    "Indexing an element, in python, is always done with square brackets (`[]`), in a list or in a string, the index is a number, this number can be hardcoded (`mylist[1]`) or it can be a variable (`mylist[my_index]`)\n",
    "\n",
    "### Adding two strings/lists\n",
    "You can add strings or lists together just with `mylist1+mylist2`. They will be concatenated.<br>\n",
    "<span style='color:red'>YOU CANNOT ADD TWO TYPES OF ELEMENTS TOGETHER</span>\n",
    "\n",
    "### Built in functions\n",
    "There are a lot of built in functions to help you handling those types of data, like `lower()`, `"
   ]
  },
  {
   "cell_type": "markdown",
   "metadata": {},
   "source": [
    "# Dictionnaries"
   ]
  },
  {
   "cell_type": "markdown",
   "metadata": {},
   "source": [
    "### Data type that map some keys to some values\n",
    "-  All the keys doesnt have to be the same type\n",
    "-  Same for values\n",
    "-  Keys should be unique"
   ]
  },
  {
   "cell_type": "markdown",
   "metadata": {},
   "source": [
    "### Defining a dictionnary\n",
    "Define one with curly brackets `{}`"
   ]
  },
  {
   "cell_type": "code",
   "execution_count": 95,
   "metadata": {},
   "outputs": [],
   "source": [
    "empty = {}\n",
    "filled = {\"key1\": \"value1\", \"key2\":\"value2\"}"
   ]
  },
  {
   "cell_type": "markdown",
   "metadata": {},
   "source": [
    "You can insert variables in the dict definitions, but they'll be frozen"
   ]
  },
  {
   "cell_type": "code",
   "execution_count": null,
   "metadata": {},
   "outputs": [],
   "source": [
    "var = 8\n",
    "mydict = {'key1': var}\n",
    "var = 12\n",
    "print(mydict)"
   ]
  },
  {
   "cell_type": "markdown",
   "metadata": {},
   "source": [
    "### Add a value"
   ]
  },
  {
   "cell_type": "code",
   "execution_count": 103,
   "metadata": {},
   "outputs": [
    {
     "name": "stdout",
     "output_type": "stream",
     "text": [
      "{'key1': 8, 'key3': 'newvalue'}\n",
      "{'key1': 8, 'key3': 'overrided'}\n"
     ]
    }
   ],
   "source": [
    "mydict['key3'] = 'newvalue'\n",
    "print(mydict)\n",
    "mydict['key3'] = 'overrided'\n",
    "print(mydict)"
   ]
  },
  {
   "cell_type": "markdown",
   "metadata": {},
   "source": [
    "### Access a value\n",
    "with index"
   ]
  },
  {
   "cell_type": "code",
   "execution_count": 110,
   "metadata": {},
   "outputs": [
    {
     "name": "stdout",
     "output_type": "stream",
     "text": [
      "overrided\n"
     ]
    }
   ],
   "source": [
    "value3 = mydict['key3']\n",
    "print(value3)"
   ]
  },
  {
   "cell_type": "code",
   "execution_count": 111,
   "metadata": {},
   "outputs": [],
   "source": [
    "### Values can be every type    \n",
    "my_favourites_things = {\n",
    "    \"musics\": ['John Lennon', 'micheal jackson','frenquinos'],\n",
    "    \"TV shows\": [\"Prison break\", \"Mr Robot\", \"Not game of thrones\"]\n",
    "}\n"
   ]
  },
  {
   "cell_type": "code",
   "execution_count": 112,
   "metadata": {},
   "outputs": [],
   "source": [
    "### Dirty dictionnary\n",
    "my_favourites_things = {\n",
    "    \"musics\": [\n",
    "        {\"author_name\":\"John lennon\",\n",
    "        \"title\":\"Imagine\",\n",
    "         \"length\":\"2:54\",\n",
    "         \"album\":\"Imagine\"\n",
    "        },\n",
    "        {\"author_name\":\"Lol lennon\",\n",
    "        \"title\":\"Imagine\",\n",
    "         \"length\":\"2:54\",\n",
    "         \"album\":\"Imagine\"\n",
    "        },\n",
    "        {\"author_name\":\"Awet lennon\",\n",
    "        \"title\":\"Imagine\",\n",
    "         \"length\":\"2:54\",\n",
    "         \"album\":\"Imagine\"\n",
    "        },\n",
    "    ],\n",
    "    \"TV shows\": [\"Prison break\", \"Mr Robot\", \"Not game of thrones\"]\n",
    "}"
   ]
  },
  {
   "cell_type": "code",
   "execution_count": null,
   "metadata": {},
   "outputs": [],
   "source": [
    "class Music:\n",
    "    def __init__(self, author, title):\n",
    "        self.author = author\n",
    "        self.title  = title\n",
    "   \n",
    "    def __repr__(self):\n",
    "        return \"Music by {} - {}\".format(self.author, self.title)\n",
    "\n",
    "\n",
    "music_obj = Music(\"john\", \"imagine\", \"2:32\", \"imagine\")\n",
    "print(music_obj.describe())\n"
   ]
  },
  {
   "cell_type": "code",
   "execution_count": 143,
   "metadata": {},
   "outputs": [],
   "source": [
    "class MyDict(dict):\n",
    "    \n",
    "    def __repr__(self):\n",
    "        s = \"\"\n",
    "        for key, value in self.items():\n",
    "            s+= \"{} --> {}\\n\".format(key, value)\n",
    "        return s"
   ]
  },
  {
   "cell_type": "code",
   "execution_count": 149,
   "metadata": {},
   "outputs": [],
   "source": [
    "\n",
    "### Dirty dictionnary\n",
    "my_favourites_things = MyDict(\n",
    "    musics=[\n",
    "        Music(title=\"imagine\", author=\"Lennon\"),\n",
    "        Music(title=\"We will rock you\", author=\"Queen\"),\n",
    "        Music(title=\"Womanizer\", author=\"Reuven\")\n",
    "    ],\n",
    "    TV_shows = [\"Prison break\", \"Mr Robot\", \"Not game of thrones\"]\n",
    ")"
   ]
  },
  {
   "cell_type": "code",
   "execution_count": 151,
   "metadata": {},
   "outputs": [
    {
     "name": "stdout",
     "output_type": "stream",
     "text": [
      "Music by Lennon - imagine\n",
      "Music by Queen - We will rock you\n",
      "Music by Reuven - Womanizer\n",
      "musics --> [Music by Lennon - imagine, Music by Queen - We will rock you, Music by Reuven - Womanizer]\n",
      "TV_shows --> ['Prison break', 'Mr Robot', 'Not game of thrones']\n",
      "\n"
     ]
    }
   ],
   "source": [
    "for music in my_favourites_things['musics']:\n",
    "    print(music)\n",
    "print(my_favourites_things)"
   ]
  },
  {
   "cell_type": "markdown",
   "metadata": {},
   "source": [
    "### keys(), values() and items()\n",
    "-  mydict.keys() give you a sequence with all the keys of mydict\n",
    "-  mydict.values() give you a sequence with all the values of mydict\n",
    "-  mydict.items() give you a sequence with (key, value), you can unpack it"
   ]
  },
  {
   "cell_type": "code",
   "execution_count": 152,
   "metadata": {},
   "outputs": [],
   "source": [
    "for key, value in mydict.items(): # You split the (key, value) into two variables\n",
    "    pass"
   ]
  },
  {
   "cell_type": "markdown",
   "metadata": {},
   "source": [
    "### EVERYTHING IS AN OBJECT"
   ]
  },
  {
   "cell_type": "code",
   "execution_count": null,
   "metadata": {},
   "outputs": [],
   "source": [
    "class MyStr:\n",
    "    \n",
    "    def __init__(self, chars_arr):\n",
    "        self.chars_arr = chars_arr\n",
    "    \n",
    "    def upper(self):\n",
    "        alphabet_lower = 'abcdefghijklmnopqrstuvwxyz'\n",
    "        alphabet_upper = 'ABCDEFGHIJKLMNOPQRSTUVWXYZ'\n",
    "        s = \"\"\n",
    "        for char in self.chars_arr:\n",
    "            if char in alphabet_lower:\n",
    "                ix = alphabet_lower.index(char)\n",
    "                s += alphabet_upper[ix]\n",
    "            else:\n",
    "                s += char\n",
    "        return s\n",
    "            \n",
    "        \n",
    "s = MyStr(\"Hello world\")\n",
    "\n",
    "s.upper()"
   ]
  }
 ],
 "metadata": {
  "kernelspec": {
   "display_name": "Python 3",
   "language": "python",
   "name": "python3"
  },
  "language_info": {
   "codemirror_mode": {
    "name": "ipython",
    "version": 3
   },
   "file_extension": ".py",
   "mimetype": "text/x-python",
   "name": "python",
   "nbconvert_exporter": "python",
   "pygments_lexer": "ipython3",
   "version": "3.7.3"
  }
 },
 "nbformat": 4,
 "nbformat_minor": 2
}
