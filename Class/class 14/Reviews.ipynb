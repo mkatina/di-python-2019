{
 "cells": [
  {
   "cell_type": "markdown",
   "metadata": {},
   "source": [
    "# Variables\n",
    "\n",
    "Variable is an element with a name, it can be EVERY type of element (list, function, class...)\n",
    "<br><br>\n",
    "\n",
    "Variable name should be relevant to its content\n",
    "<br><br>\n",
    "When the code will be read, the variable name will be replaced by its value\n",
    "<br><br>\n",
    "`=` means \"Take the value of\" (X = 4 --> X take the value of 4)<br>\n",
    "`==` means \"is equal to {} ?\" (X == 4 --> X is equal to 4 ?), it return True of False\n",
    "<br><br>\n",
    "\n",
    "\n",
    "***"
   ]
  },
  {
   "cell_type": "markdown",
   "metadata": {},
   "source": [
    "# Loops"
   ]
  },
  {
   "cell_type": "markdown",
   "metadata": {},
   "source": [
    "### Vocabulary:\n",
    "-  Increment --> Adding 1 to a variable\n",
    "-  Iterating --> Looping\n",
    "\n",
    "### While loop\n",
    "While loop is doing something WHILE a condition is true\n",
    "\n",
    "### For loop\n",
    "For loop is doing something FOR every element of a container\n",
    "\n",
    "### Break and Continue\n",
    "You can stop a loop with `break` and jump to the next iteration with `continue`\n",
    "\n",
    "### Range\n",
    "`range` is a function that returns a list of numbers, `range(10)` returns a list of numbers from 0 to 9.<br> \n",
    "***"
   ]
  },
  {
   "cell_type": "markdown",
   "metadata": {},
   "source": [
    "# Strings and lists\n",
    "Strings and lists can be seen together because strings are lists, they are lists of \n",
    "characters, the only real difference is that you can't change a letter in a string.\n",
    "<br>\n",
    "\n",
    "### Indexing an element\n",
    "Indexing an element, in python, is always done with square brackets (`[]`), in a list or in a string, the index is a number, this number can be hardcoded (`mylist[1]`) or it can be a variable (`mylist[my_index]`)\n",
    "\n",
    "### Adding two strings/lists\n",
    "You can add strings or lists together just with `mylist1+mylist2`. They will be concatenated.<br>\n",
    "<span style='color:red'>YOU CANNOT ADD TWO TYPES OF ELEMENTS TOGETHER</span>\n",
    "\n",
    "### Built in functions\n",
    "There are a lot of built in functions to help you handling those types of data, like `lower()`, `"
   ]
  },
  {
   "cell_type": "code",
   "execution_count": null,
   "metadata": {},
   "outputs": [],
   "source": []
  }
 ],
 "metadata": {
  "kernelspec": {
   "display_name": "Python 3",
   "language": "python",
   "name": "python3"
  },
  "language_info": {
   "codemirror_mode": {
    "name": "ipython",
    "version": 3
   },
   "file_extension": ".py",
   "mimetype": "text/x-python",
   "name": "python",
   "nbconvert_exporter": "python",
   "pygments_lexer": "ipython3",
   "version": "3.7.3"
  }
 },
 "nbformat": 4,
 "nbformat_minor": 2
}
