{
 "cells": [
  {
   "cell_type": "code",
   "execution_count": 3,
   "metadata": {},
   "outputs": [
    {
     "name": "stdout",
     "output_type": "stream",
     "text": [
      "My name is Eyal, I am 19 years old and I live in Paris\n"
     ]
    }
   ],
   "source": [
    "def little_function(name, age, city):\n",
    "    print(\"My name is {}, I am {} years old and I live in {}\".format(name, age, city))\n",
    "\n",
    "little_function(\"Eyal\", city=\"Paris\", age=19)"
   ]
  },
  {
   "cell_type": "code",
   "execution_count": 5,
   "metadata": {},
   "outputs": [
    {
     "name": "stdout",
     "output_type": "stream",
     "text": [
      "1 2 3 4\n"
     ]
    }
   ],
   "source": [
    "print(1,2,3,4)"
   ]
  },
  {
   "cell_type": "code",
   "execution_count": 14,
   "metadata": {},
   "outputs": [
    {
     "name": "stdout",
     "output_type": "stream",
     "text": [
      "{'myarg2': 'Help me'}\n"
     ]
    }
   ],
   "source": [
    "def my_print(arg1, arg2, *lost_arguments, myarg1, **lost_kw):\n",
    "    print(lost_kw)\n",
    "    \n",
    "my_print(\"Hello world\", \"I am eyal\", \"i\", \"am\", \"lost\", myarg1=\"I am lost\", myarg2=\"Help me\")"
   ]
  },
  {
   "cell_type": "markdown",
   "metadata": {},
   "source": [
    "## Example with decorator"
   ]
  },
  {
   "cell_type": "code",
   "execution_count": null,
   "metadata": {},
   "outputs": [],
   "source": [
    "import time\n",
    "\n",
    "def timer_decorator(f):\n",
    "    def timed_function(*args, **kwargs):\n",
    "        print(\"Keyword arguments are:\", kwargs)\n",
    "        s = time.time()\n",
    "        r = f(*args, **kwargs)\n",
    "        print(f.__name__,'took {} secs to execute'.format(time.time() - s))\n",
    "        return r\n",
    "    return timed_function\n",
    "\n",
    "@timer_decorator\n",
    "def first_function():\n",
    "    print(\"Hey i am first function\")\n",
    "\n",
    "@timer_decorator\n",
    "def add_numbers(n1, n2):\n",
    "    return n1 + n2\n",
    "\n",
    "\n",
    "add_numbers(5,n2=7)"
   ]
  }
 ],
 "metadata": {
  "kernelspec": {
   "display_name": "Python 3",
   "language": "python",
   "name": "python3"
  },
  "language_info": {
   "codemirror_mode": {
    "name": "ipython",
    "version": 3
   },
   "file_extension": ".py",
   "mimetype": "text/x-python",
   "name": "python",
   "nbconvert_exporter": "python",
   "pygments_lexer": "ipython3",
   "version": "3.7.3"
  }
 },
 "nbformat": 4,
 "nbformat_minor": 2
}
