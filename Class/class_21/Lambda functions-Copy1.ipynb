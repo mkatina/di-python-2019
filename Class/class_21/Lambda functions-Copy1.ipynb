{
 "cells": [
  {
   "cell_type": "markdown",
   "metadata": {},
   "source": [
    "# Lambda functions"
   ]
  },
  {
   "cell_type": "markdown",
   "metadata": {},
   "source": [
    "## Lambda ? "
   ]
  },
  {
   "cell_type": "markdown",
   "metadata": {},
   "source": [
    "One line function"
   ]
  },
  {
   "cell_type": "markdown",
   "metadata": {},
   "source": [
    "## Defining a lambda "
   ]
  },
  {
   "cell_type": "raw",
   "metadata": {},
   "source": [
    "lambda ARG1,ARG2: return"
   ]
  },
  {
   "cell_type": "code",
   "execution_count": 5,
   "metadata": {},
   "outputs": [
    {
     "name": "stdout",
     "output_type": "stream",
     "text": [
      "10\n"
     ]
    }
   ],
   "source": [
    "# As normal function\n",
    "def multiply_by_two(nb):\n",
    "    return nb*2\n",
    "\n",
    "# As lambda function\n",
    "lambda_multiply = lambda nb: nb*2\n",
    "\n",
    "print(lambda_multiply(5))\n",
    "\n",
    "to_str = lambda obj: str(obj).strip().lower()"
   ]
  },
  {
   "cell_type": "markdown",
   "metadata": {},
   "source": [
    "## Why Use Lambda Functions?"
   ]
  },
  {
   "cell_type": "markdown",
   "metadata": {},
   "source": [
    "-  Inside list declaration"
   ]
  },
  {
   "cell_type": "markdown",
   "metadata": {},
   "source": [
    "-  Make a quick function"
   ]
  },
  {
   "cell_type": "markdown",
   "metadata": {},
   "source": [
    "***\n",
    "# List comprehension with lambdas"
   ]
  },
  {
   "cell_type": "markdown",
   "metadata": {},
   "source": [
    "## sort"
   ]
  },
  {
   "cell_type": "code",
   "execution_count": 26,
   "metadata": {},
   "outputs": [
    {
     "name": "stdout",
     "output_type": "stream",
     "text": [
      "---- Sorted ----\n",
      "<HelloWorld - 0 yo>\n",
      "<Bob - 4 yo>\n",
      "<Micheal - 9 yo>\n",
      "<John - 35 yo>\n",
      "<Eyal - 100 yo>\n"
     ]
    }
   ],
   "source": [
    "class Dog:\n",
    "    \n",
    "    def __init__(self, name, age):\n",
    "        self.age = age\n",
    "        self.name = name\n",
    "    \n",
    "    def __repr__(self):\n",
    "        return \"<{} - {} yo>\".format(self.name, self.age)\n",
    "    \n",
    "dog1 = Dog(\"John\", 35)\n",
    "dog2 = Dog(\"Bob\", 4)\n",
    "dog3 = Dog(\"Micheal\", 9)\n",
    "dog4 = Dog(\"Eyal\", 100)\n",
    "dog5 = Dog(\"HelloWorld\", 0)\n",
    "\n",
    "mylist = [dog1, dog2, dog3, dog4, dog5]\n",
    "# print(*mylist, sep='\\n')\n",
    "\n",
    "\n",
    "sorted_mylist = sorted(mylist, key=lambda dog: dog.age)\n",
    "print(\"---- Sorted ----\")\n",
    "print(*sorted_mylist, sep='\\n')"
   ]
  },
  {
   "cell_type": "code",
   "execution_count": 28,
   "metadata": {},
   "outputs": [
    {
     "name": "stdout",
     "output_type": "stream",
     "text": [
      "[('HelloWorld', 0), ('Bob', 14), ('John', 80), ('Micheal', 100), ('Eyal', 101)]\n"
     ]
    }
   ],
   "source": [
    "marks = [\n",
    "    ('John', 80),\n",
    "    ('Bob', 14),\n",
    "    ('Micheal', 100),\n",
    "    ('Eyal', 101),\n",
    "    ('HelloWorld', 0)\n",
    "]\n",
    "\n",
    "print(sorted(marks, key=lambda tup: tup[1]))"
   ]
  },
  {
   "cell_type": "markdown",
   "metadata": {},
   "source": [
    "## map"
   ]
  },
  {
   "cell_type": "code",
   "execution_count": 38,
   "metadata": {},
   "outputs": [
    {
     "name": "stdout",
     "output_type": "stream",
     "text": [
      "['hello', 'itsme', 'heyy', 'i love python']\n"
     ]
    }
   ],
   "source": [
    "# mylist = [1,2,3,4,5]\n",
    "\n",
    "# mymap = list(map(lambda nb: \"Number {}\".format(nb), mylist))\n",
    "# print(mymap)\n",
    "\n",
    "mylist = ['  hello',' itsme  ','heyy  ', '  i love python ']\n",
    "\n",
    "new_list = list(map(lambda elem: elem.strip(), mylist))\n",
    "print(new_list)"
   ]
  },
  {
   "cell_type": "markdown",
   "metadata": {},
   "source": [
    "## filter"
   ]
  },
  {
   "cell_type": "code",
   "execution_count": 41,
   "metadata": {},
   "outputs": [
    {
     "name": "stdout",
     "output_type": "stream",
     "text": [
      "['  hello', ' itsme  ', '  i love python ']\n"
     ]
    }
   ],
   "source": [
    "mylist = ['  hello',' itsme  ','heyy  ', '  i love python ']\n",
    "\n",
    "filtered_list = list(filter(lambda s: len(s) > 6, mylist))\n",
    "\n",
    "print(filtered_list)\n"
   ]
  },
  {
   "cell_type": "markdown",
   "metadata": {},
   "source": [
    "***\n",
    "# Exercises"
   ]
  },
  {
   "cell_type": "markdown",
   "metadata": {},
   "source": [
    "### 1 \n",
    "Make a list with random strings <br>\n",
    "`mylist=['  hello',' itsme  ','heyy  ', '  i love python ']`\n",
    "Convert it to<br>\n",
    "`['hello', 'itsme', 'heyy', 'i love python']`\n"
   ]
  },
  {
   "cell_type": "markdown",
   "metadata": {},
   "source": [
    "\n",
    "### 2 \n",
    "convert this dict to a dict with normal names<br>\n",
    "`people = {\"eyal\":20, \"JOHN\":10, \"PaBlo\":23, \"reX\":11}`\n",
    "\n",
    "Make a new dict `legal_people` with only people that are older than 18\n"
   ]
  },
  {
   "cell_type": "code",
   "execution_count": 60,
   "metadata": {},
   "outputs": [
    {
     "name": "stdout",
     "output_type": "stream",
     "text": [
      "{'Eyal': 20, 'Pablo': 23}\n"
     ]
    }
   ],
   "source": [
    "people = {\"Eyal\":20, \"John\":10, \"Pablo\":23, \"Rex\":11}\n",
    "\n",
    "people = dict(filter(lambda items: items[1] > 18 , people.items()))\n",
    "print(people)"
   ]
  },
  {
   "cell_type": "markdown",
   "metadata": {},
   "source": [
    "\n",
    "### 3\n",
    "Make a list with students and their marks <br>\n",
    "`marks = [(\"John\",46), (\"Ethan\", 22), (\"Sean\", 60)]`<br>\n",
    "Sort it by mark"
   ]
  }
 ],
 "metadata": {
  "kernelspec": {
   "display_name": "Python 3",
   "language": "python",
   "name": "python3"
  },
  "language_info": {
   "codemirror_mode": {
    "name": "ipython",
    "version": 3
   },
   "file_extension": ".py",
   "mimetype": "text/x-python",
   "name": "python",
   "nbconvert_exporter": "python",
   "pygments_lexer": "ipython3",
   "version": "3.7.3"
  }
 },
 "nbformat": 4,
 "nbformat_minor": 2
}
