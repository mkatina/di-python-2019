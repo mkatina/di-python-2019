{
 "cells": [
  {
   "cell_type": "markdown",
   "metadata": {},
   "source": [
    "# Lambda functions"
   ]
  },
  {
   "cell_type": "markdown",
   "metadata": {},
   "source": [
    "## Lambda ? "
   ]
  },
  {
   "cell_type": "markdown",
   "metadata": {},
   "source": [
    "One line function"
   ]
  },
  {
   "cell_type": "markdown",
   "metadata": {},
   "source": [
    "## Defining a lambda "
   ]
  },
  {
   "cell_type": "markdown",
   "metadata": {},
   "source": [
    "lambda ARG1,ARG2: return"
   ]
  },
  {
   "cell_type": "code",
   "execution_count": 6,
   "metadata": {},
   "outputs": [
    {
     "name": "stdout",
     "output_type": "stream",
     "text": [
      "12\n"
     ]
    }
   ],
   "source": [
    "first_lambda = lambda a,b: a+b\n",
    "print(first_lambda(5,7))"
   ]
  },
  {
   "cell_type": "markdown",
   "metadata": {},
   "source": [
    "## Why Use Lambda Functions?"
   ]
  },
  {
   "cell_type": "markdown",
   "metadata": {},
   "source": [
    "-  Inside list declaration"
   ]
  },
  {
   "cell_type": "code",
   "execution_count": 10,
   "metadata": {},
   "outputs": [
    {
     "name": "stdout",
     "output_type": "stream",
     "text": [
      "[1, 3, 5, 7, 9]\n"
     ]
    }
   ],
   "source": [
    "arr1 = [1,2,3,4,5,6,7,8,9]\n",
    "arr2 = [x for x in arr1 if x%2==1]"
   ]
  },
  {
   "cell_type": "code",
   "execution_count": 13,
   "metadata": {},
   "outputs": [
    {
     "name": "stdout",
     "output_type": "stream",
     "text": [
      "{'eyal': 'Chocron', 'john': 'Cohen'}\n"
     ]
    }
   ],
   "source": [
    "arr1 = [\"eyal\", 'john', 'rex']\n",
    "arr2 = ['chocron', 'cohen', 'levy']\n",
    "mydict = {key:value for key,value in zip(arr1, arr2)}"
   ]
  },
  {
   "cell_type": "markdown",
   "metadata": {},
   "source": [
    "-  Make a quick function"
   ]
  },
  {
   "cell_type": "code",
   "execution_count": null,
   "metadata": {},
   "outputs": [],
   "source": [
    "add_one = lambda x: x+1"
   ]
  },
  {
   "cell_type": "markdown",
   "metadata": {},
   "source": [
    "***\n",
    "# List comprehension with lambdas"
   ]
  },
  {
   "cell_type": "markdown",
   "metadata": {},
   "source": [
    "## sort"
   ]
  },
  {
   "cell_type": "code",
   "execution_count": 19,
   "metadata": {},
   "outputs": [
    {
     "name": "stdout",
     "output_type": "stream",
     "text": [
      "[('John', 200), ('Eyal', 180), ('Rex', 30), ('Alex', 20)]\n"
     ]
    }
   ],
   "source": [
    "arr = [(\"Eyal\", 180), (\"John\",200), (\"Rex\", 30), (\"Alex\", 20)]\n",
    "arr.sort(key=lambda t: t[1])\n",
    "print(arr)"
   ]
  },
  {
   "cell_type": "markdown",
   "metadata": {},
   "source": [
    "## map"
   ]
  },
  {
   "cell_type": "code",
   "execution_count": 26,
   "metadata": {},
   "outputs": [
    {
     "name": "stdout",
     "output_type": "stream",
     "text": [
      "[3, 7, 9]\n"
     ]
    }
   ],
   "source": [
    "arr = [3,1,2,5,6,7,8]\n",
    "\n",
    "lambded_list = list(map(lambda x:x+1, arr))\n",
    "print(lambded_list)"
   ]
  },
  {
   "cell_type": "markdown",
   "metadata": {},
   "source": [
    "## filter"
   ]
  },
  {
   "cell_type": "code",
   "execution_count": 31,
   "metadata": {},
   "outputs": [
    {
     "name": "stdout",
     "output_type": "stream",
     "text": [
      "[1, 2, 4, 1, 2, 3, 4]\n"
     ]
    }
   ],
   "source": [
    "arr = [1,2,4,624,234,1,123,2,3,4,43,]\n",
    "\n",
    "newlist = list(filter(lambda x: x < 5, arr))\n",
    "print(newlist)"
   ]
  },
  {
   "cell_type": "markdown",
   "metadata": {},
   "source": [
    "***\n",
    "# Exercises"
   ]
  },
  {
   "cell_type": "markdown",
   "metadata": {},
   "source": [
    "### 1 \n",
    "Make a list with random strings <br>\n",
    "`mylist=['  hello',' itsme  ','heyy  ', '  i love python ']`\n",
    "Convert it to<br>\n",
    "`['hello', 'itsme', 'heyy', 'i love python']`\n",
    "\n",
    "### 2 \n",
    "convert this dict to a dict with normal names<br>\n",
    "`people = {\"eyal\":20, \"JOHN\":10, \"PaBlo\":23, \"reX\":11}`\n",
    "\n",
    "Make a new dict `legal_people` with only people that are older than 18\n",
    "\n",
    "### 3\n",
    "Make a list with students and their marks <br>\n",
    "`marks = [(\"John\",46), (\"Ethan\", 22), (\"Sean\", 60)]`<br>\n",
    "Sort it by mark"
   ]
  }
 ],
 "metadata": {
  "kernelspec": {
   "display_name": "Python 3",
   "language": "python",
   "name": "python3"
  },
  "language_info": {
   "codemirror_mode": {
    "name": "ipython",
    "version": 3
   },
   "file_extension": ".py",
   "mimetype": "text/x-python",
   "name": "python",
   "nbconvert_exporter": "python",
   "pygments_lexer": "ipython3",
   "version": "3.6.5"
  }
 },
 "nbformat": 4,
 "nbformat_minor": 2
}
