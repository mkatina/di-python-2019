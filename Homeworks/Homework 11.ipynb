{
 "cells": [
  {
   "cell_type": "markdown",
   "metadata": {},
   "source": [
    "# Take the airport code from homework 9"
   ]
  },
  {
   "cell_type": "markdown",
   "metadata": {},
   "source": [
    "..."
   ]
  },
  {
   "cell_type": "markdown",
   "metadata": {},
   "source": [
    "..."
   ]
  },
  {
   "cell_type": "markdown",
   "metadata": {},
   "source": [
    "..."
   ]
  },
  {
   "cell_type": "markdown",
   "metadata": {},
   "source": [
    "## I know you guys are lazy, here it is:"
   ]
  },
  {
   "cell_type": "code",
   "execution_count": 1,
   "metadata": {},
   "outputs": [],
   "source": [
    "class Airport:\n",
    "    \n",
    "    def __init__(self, name, capacity):\n",
    "        # Arguments attributes\n",
    "        self.name     = name\n",
    "        self.capacity = capacity\n",
    "        \n",
    "        # Default attributes\n",
    "        self.current_planes_nb = 0\n",
    "    \n",
    "    def plane_in(self, n=1):\n",
    "        if (self.current_planes_nb + n) < self.capacity:\n",
    "            self.current_planes_nb += n\n",
    "            return True\n",
    "        else:\n",
    "            return False\n",
    "    \n",
    "    def plane_out(self, n=1):\n",
    "        if (self.current_planes_nb - n) >= 0:\n",
    "            self.current_planes_nb -= n\n",
    "            return True\n",
    "        else:\n",
    "            return False\n",
    "        \n",
    "    def describe(self):\n",
    "        print(\"Airport {}: {}/{} planes\".format(self.name, \n",
    "                                                self.current_planes_nb,\n",
    "                                                self.capacity))\n",
    "    \n",
    "    def ui(self):\n",
    "        \n",
    "        print(\"Hey, welcome to {} Airport\".format(self.name))\n",
    "        \n",
    "        while True:\n",
    "            print(\"\\n\\n\")\n",
    "            print(\"What do you want to do? (Choose a number)\")\n",
    "            print(\"0) Exit\")\n",
    "            print(\"1) Add planes\")\n",
    "            print(\"2) Remove planes\")\n",
    "            print(\"3) Get airport status\")\n",
    "            \n",
    "            choice = input(\">>> \")\n",
    "            if choice not in [\"0\", \"1\", \"2\", \"3\"]:\n",
    "                print(\"Please enter 0, 1 or 2\")\n",
    "                continue\n",
    "                \n",
    "            if choice == \"0\":\n",
    "                print(\"Goodbye!\")\n",
    "                break\n",
    "                \n",
    "            elif choice == \"1\": # PLANE IN \n",
    "                nb_of_planes = input(\"How many planes do you wanna add?\\n>>> \")\n",
    "                try:\n",
    "                    nb_of_planes = int(nb_of_planes)\n",
    "                except:\n",
    "                    print(\"wrong number of planes\")\n",
    "                    continue\n",
    "        \n",
    "                if self.plane_in(nb_of_planes):\n",
    "                    print(\"{} planes entered {}\".format(nb_of_planes, self.name))\n",
    "                else:\n",
    "                    print(\"Sorry, no more places available\")\n",
    "            \n",
    "            elif choice == \"2\": # PLANE OUT\n",
    "                nb_of_planes = input(\"How many planes do you wanna remove?\\n>>> \")\n",
    "                try:\n",
    "                    nb_of_planes = int(nb_of_planes)\n",
    "                except:\n",
    "                    print(\"wrong number of planes\")\n",
    "                    continue\n",
    "                    \n",
    "                if self.plane_out(nb_of_planes):\n",
    "                    print(\"{} planes left from {}\".format(nb_of_planes, self.name))\n",
    "                else:\n",
    "                    print(\"You have no planes in your airport\")\n",
    "                \n",
    "            elif choice == \"3\":\n",
    "                self.describe()"
   ]
  },
  {
   "cell_type": "markdown",
   "metadata": {},
   "source": [
    "## Now, let's modify it a little bit"
   ]
  },
  {
   "cell_type": "markdown",
   "metadata": {},
   "source": [
    "Currently, the airplanes are only represented by a number: `current_planes_nb`, a better way to represent them is creating objects"
   ]
  },
  {
   "cell_type": "markdown",
   "metadata": {},
   "source": [
    "## 1) Create a `Plane` class\n",
    "\n",
    "It should have those attributes:\n",
    "-  Model\n",
    "-  Price\n",
    "-  Color\n",
    "-  Speed\n",
    "-  Fuel capacity\n",
    "-  Fuel consommation (how many fuel do the plane need to travel 1 km)\n",
    "-  Passengers capacity\n",
    "-  Current airport (the airport where the plane is currently, it's just a string for now)\n",
    "\n",
    "<br>\n",
    "And those methods:\n",
    "-  `add_passengers` (receive a number of passenger, should check if there is enough place for them)\n",
    "-  `calculate_needed_fuel` (receive a number of kilometers, and return the needed amount of fuel)\n",
    "-  `refill_fuel` (put the fuel to his max capacity)\n",
    "-  `fly` (receive a departure airport, a destination airport and a distance, before flying, you should check if the plane has enough fuel, if you don't have, make a refill !)\n"
   ]
  },
  {
   "cell_type": "markdown",
   "metadata": {},
   "source": [
    "## 2) Modify the __repr__ function of the plane\n",
    "When the user run `print(my_plane)`, he wants to see something like this:"
   ]
  },
  {
   "cell_type": "raw",
   "metadata": {},
   "source": [
    "White Boeing 737, currently in Ben Gurion airport, fuel status: 123/200 liters"
   ]
  },
  {
   "cell_type": "markdown",
   "metadata": {},
   "source": [
    "## 3) Add an id to each plane\n",
    "Each plane should have an `id` attribute which is a unique number (0, 1, 2 ...)<br>\n",
    "*hint: use a class variable to count how many objects you created*"
   ]
  },
  {
   "cell_type": "markdown",
   "metadata": {},
   "source": [
    "## 4) Add a dictionnary that map every id to an object\n",
    "\n",
    "Add a class variable `planes_map` that map every id to the object that correspond to it"
   ]
  },
  {
   "cell_type": "markdown",
   "metadata": {},
   "source": [
    "## 5) Add a `query` method to `Plane` \n",
    "Add a `query` method that receive an id as argument and return the `Plane` object that is mapped to it"
   ]
  },
  {
   "cell_type": "markdown",
   "metadata": {},
   "source": [
    "## 6) Modify the `Airport` class\n",
    "`Airport` objects should now have a `airplanes` attribute, which is a list of the planes that are in the airport, inside this list, you should put `Plane` objects.<br>\n",
    "You need to modify `plane_in` and `plane_out` too, they should receive a plane object and add/remove it from the list <br>\n",
    "*hint: to remove an object from a list, use the <a href=\"https://www.programiz.com/python-programming/methods/list/remove\">remove()</a> function*"
   ]
  },
  {
   "cell_type": "markdown",
   "metadata": {},
   "source": [
    "## 7) Now you should only control them from the plane\n",
    "By using `plane.fly` func"
   ]
  }
 ],
 "metadata": {
  "kernelspec": {
   "display_name": "Python 3",
   "language": "python",
   "name": "python3"
  },
  "language_info": {
   "codemirror_mode": {
    "name": "ipython",
    "version": 3
   },
   "file_extension": ".py",
   "mimetype": "text/x-python",
   "name": "python",
   "nbconvert_exporter": "python",
   "pygments_lexer": "ipython3",
   "version": "3.6.5"
  }
 },
 "nbformat": 4,
 "nbformat_minor": 2
}
