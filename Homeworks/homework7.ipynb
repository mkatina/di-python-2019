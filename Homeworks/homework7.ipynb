{
 "cells": [
  {
   "cell_type": "markdown",
   "metadata": {},
   "source": [
    "# Dictionnaries"
   ]
  },
  {
   "cell_type": "markdown",
   "metadata": {},
   "source": [
    "## Exercise 1:\n",
    "Difficulty: ~<br><br>\n",
    "Create a dictionnary called <code>my_dict</code> and put your name, your age and your city inside<br>\n",
    "This should look like:\n",
    "<code style=\"display:inline\">{\"name\":\"Eyal\", \"age\":20, \"city\":\"Hertselia\"}</code><br>\n",
    "Then (after the declaration of the dict) add your email<br>\n",
    "At the end, it should look like:\n",
    "<code style=\"display:inline\">{\"name\":\"Eyal\", \"age\":20, \"city\":\"Hertselia\", \"email\":\"eyal.work@chocron.eu\"}</code><br>\n",
    "- All this exercise should be done manually<br>\n",
    "- Try to do it without looking at your class notes<br>\n"
   ]
  },
  {
   "cell_type": "markdown",
   "metadata": {},
   "source": [
    "## Exercise 2:\n",
    "Difficulty: ~~<br><br>\n",
    "\n",
    "With your dictionnary from exercise 1, make a loop that print \"my ... is ...\" for every key and value in the dictionnary.<br>\n",
    "For example, mine would be:<br>\n",
    "<code style=\"display:block\">my name is Eyal<br>my age is 20<br>my city is Hertselia</code>"
   ]
  },
  {
   "cell_type": "markdown",
   "metadata": {},
   "source": [
    "## Exercise 3: copy\n",
    "Difficulty : ~~<br>\n",
    "Write a function that receives a dictionnary in input, and return a copy of that dictionnary<br>\n",
    "<strong>Be Careful:</strong> You can't use <code>dict2 = dict1</code> otherwise <code>dict2</code> will just be an alias of <code>dict1</code>"
   ]
  },
  {
   "cell_type": "markdown",
   "metadata": {},
   "source": [
    "## Exercise 4: has_key\n",
    "Difficulty: ~~ <br>\n",
    "Write a function that receives a dictionnary and an element as arguments, and check if the key exist in your dictionnary"
   ]
  },
  {
   "cell_type": "markdown",
   "metadata": {},
   "source": [
    "## Exercise 5: fromkeys\n",
    "Difficulty: ~~~ <br>\n",
    "Write a function that receives a dictionnary, and return a dictionnary with the sames keys, but all values are set to None<br><br>\n",
    "<small>None is a python keyword that just mean Nothing, we use it when we want to define a variable without assigning a value to it</small><br>\n",
    "Example:"
   ]
  },
  {
   "cell_type": "code",
   "execution_count": 47,
   "metadata": {},
   "outputs": [],
   "source": [
    "my_dict = {\"Name\": \"Eyal\",\n",
    "          \"Age\":20,\n",
    "          \"Email\": 'eyal.work@chocron.eu'}\n",
    "\n",
    "# my_function(my_dict) will output:\n",
    "my_new_dict = {\"Name\": None,\n",
    "              \"Age\": None,\n",
    "              \"Email\": None}"
   ]
  },
  {
   "cell_type": "markdown",
   "metadata": {},
   "source": [
    "## Exercise 6: compare\n",
    "Difficulty: ~~~ <br>\n",
    "Write a function that receives two dicts in argument, and print the differences that exist between them<br>\n",
    "\n",
    "Example:<br>\n"
   ]
  },
  {
   "cell_type": "code",
   "execution_count": 48,
   "metadata": {},
   "outputs": [],
   "source": [
    "my_dict = {\"Name\": \"Eyal\",\n",
    "          \"Age\":20,\n",
    "          \"Email\": 'eyal.work@chocron.eu'}\n",
    "\n",
    "my_dict_2 = {\"Name\": \"Eyal\",\n",
    "              \"Age\": 18,\n",
    "              \"Email\": 'eyal@gmail.com'}\n",
    "\n",
    "###### Example of output:\n",
    "# Their names are both Eyal\n",
    "# Their ages are different (20 and 18)\n",
    "# Their emails are different (eyal.work@chocron.eu and eyal@gmail.com)\n",
    "#"
   ]
  },
  {
   "cell_type": "markdown",
   "metadata": {},
   "source": [
    "# Exceptions"
   ]
  },
  {
   "cell_type": "markdown",
   "metadata": {},
   "source": [
    "## Exercise 1:\n",
    "Difficulty: ~\n",
    "\n",
    "Ask for the user to input a number, as many times as he wants, continue to ask him until he input \"STOP\", and then print the sum of the numbers he gave to you, your program should never crash."
   ]
  }
 ],
 "metadata": {
  "kernelspec": {
   "display_name": "Python 3",
   "language": "python",
   "name": "python3"
  },
  "language_info": {
   "codemirror_mode": {
    "name": "ipython",
    "version": 3
   },
   "file_extension": ".py",
   "mimetype": "text/x-python",
   "name": "python",
   "nbconvert_exporter": "python",
   "pygments_lexer": "ipython3",
   "version": "3.6.5"
  }
 },
 "nbformat": 4,
 "nbformat_minor": 2
}
