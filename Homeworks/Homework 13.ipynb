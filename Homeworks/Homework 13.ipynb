{
 "cells": [
  {
   "cell_type": "markdown",
   "metadata": {},
   "source": [
    "# `print_nb`\n",
    "\n",
    "Make a function that receive a file and a number and that add every number from 0 to this number in the file"
   ]
  },
  {
   "cell_type": "markdown",
   "metadata": {},
   "source": [
    "# `copy`\n",
    "\n",
    "Make one file `myfile.txt` and write some text in it. Then with python, copy this file into `copy-myfile.txt`\n",
    "***\n",
    "Make a function that does this automatically. It receives a filename and it copy it to `copy-filename.txt`\n"
   ]
  },
  {
   "cell_type": "markdown",
   "metadata": {},
   "source": [
    "# Reverse\n",
    "Make a copy of a file but reversed. Make it at string level and at the lines level."
   ]
  },
  {
   "cell_type": "raw",
   "metadata": {},
   "source": [
    "Hey \n",
    "I love python\n",
    "How are you"
   ]
  },
  {
   "cell_type": "raw",
   "metadata": {},
   "source": [
    "uoy era woH\n",
    "nohtyp evol I\n",
    " yeH"
   ]
  },
  {
   "cell_type": "raw",
   "metadata": {},
   "source": [
    "How are you\n",
    "I love python\n",
    "Hey"
   ]
  },
  {
   "cell_type": "markdown",
   "metadata": {},
   "source": [
    "# Compress\n",
    "Make a function that receives a list of files and another file. This function should concentrate the content of every file and add it to the another file.\n",
    "***\n",
    "Add some comment there "
   ]
  },
  {
   "cell_type": "raw",
   "metadata": {},
   "source": [
    "file1:\n",
    "Hello world\n",
    "I love python\n",
    "\n",
    "file2:\n",
    "Hey, dash from file2\n",
    "\n",
    "file3:\n",
    "HEEEY\n",
    ":)\n",
    "\n",
    "mainfile:\n",
    "Hello world\n",
    "I love python\n",
    "Hey, dash from file2\n",
    "HEEEY\n",
    ":)\n",
    "\n",
    "Bonus:\n",
    "# file1.txt #\n",
    "Hello world\n",
    "I love python\n",
    "\n",
    "# file2.txt #\n",
    "Hey, dash from file2\n",
    "\n",
    "# file3.txt #\n",
    "HEEEY\n",
    ":)"
   ]
  },
  {
   "cell_type": "markdown",
   "metadata": {},
   "source": [
    "# Bonus: `splitextension`\n",
    "\n",
    "Make a function that receives a filename like `mylittlefile.txt` and return a list with `[name_of_the_file, extension_of_the_file]`, like `['mylittlefile', '.txt']`.<br>\n",
    "***\n",
    "Try to make the `copy` so he will write into `filename-copy.txt`"
   ]
  },
  {
   "cell_type": "code",
   "execution_count": null,
   "metadata": {},
   "outputs": [],
   "source": []
  }
 ],
 "metadata": {
  "kernelspec": {
   "display_name": "Python 3",
   "language": "python",
   "name": "python3"
  },
  "language_info": {
   "codemirror_mode": {
    "name": "ipython",
    "version": 3
   },
   "file_extension": ".py",
   "mimetype": "text/x-python",
   "name": "python",
   "nbconvert_exporter": "python",
   "pygments_lexer": "ipython3",
   "version": "3.6.5"
  }
 },
 "nbformat": 4,
 "nbformat_minor": 2
}
