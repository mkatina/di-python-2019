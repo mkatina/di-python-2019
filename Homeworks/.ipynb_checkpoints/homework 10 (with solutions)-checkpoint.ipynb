{
 "cells": [
  {
   "cell_type": "code",
   "execution_count": 7,
   "metadata": {},
   "outputs": [],
   "source": [
    "class Phone:\n",
    "    \n",
    "    def __init__(self, brand, model, phone_number, tactile_screen=False):\n",
    "        self.brand          = brand\n",
    "        self.model          = model\n",
    "        self.phone_number   = phone_number\n",
    "        self.tactile_screen = tactile_screen\n",
    "    \n",
    "    def call(self, number_to_call):\n",
    "        print(\"Calling to {}...\".format(number_to_call))\n",
    "    \n",
    "    def txt_message(self, number, message):\n",
    "        print(\"Sending to {}: {}\".format(number, message))   \n",
    "\n",
    "class Smartphone(Phone):  # Specify that Smartphone inherit from Phone\n",
    "    \n",
    "    def __init__(self, brand, model, phone_number, nb_of_cameras):\n",
    "        super().__init__(brand, model, phone_number, tactile_screen=True)  # super() is the parent function\n",
    "        self.nb_of_cameras = nb_of_cameras\n",
    "    \n",
    "    def take_pic(self):\n",
    "        print(\"Say cheese! *Click*\")\n",
    "        print(\"You took a picture with {} camers\".format(self.nb_of_cameras))"
   ]
  },
  {
   "cell_type": "markdown",
   "metadata": {},
   "source": [
    "### Write a class for a specific brand"
   ]
  },
  {
   "cell_type": "code",
   "execution_count": 8,
   "metadata": {},
   "outputs": [],
   "source": [
    "class Iphone(Smartphone):\n",
    "    \n",
    "    def __init__(self, model, phone_number, nb_of_cameras, face_recognition=False):\n",
    "        super().__init__(brand=\"apple\",\n",
    "                        model=model,\n",
    "                        phone_number=phone_number,\n",
    "                        nb_of_cameras=nb_of_cameras)\n",
    "        \n",
    "        self.face_recognition = face_recognition\n",
    "        self.password         = None\n",
    "        \n",
    "    def unlock(self):\n",
    "        if not self.password: # NO PASSWORD\n",
    "            print(\"Phone unlocked. Welcome :)\")\n",
    "            return \n",
    "        \n",
    "        if self.face_recognition:\n",
    "            print(\"Recognized you. Welcome :)\")\n",
    "            return \n",
    "        \n",
    "        if self.password:\n",
    "            if self.check_password():\n",
    "                print(\"Phone unlocked, Welcome :)\")\n",
    "            else:\n",
    "                print(\"Don't touch my phone ! >:(\")\n",
    "                \n",
    "            return\n",
    "        \n",
    "    \n",
    "    def change_password(self):            \n",
    "        if self.password and self.check_password() == False:\n",
    "            print(\"Sorry, wrong password.\")\n",
    "            return False\n",
    "        \n",
    "        while True:\n",
    "            new_password = input(\"Please input 4 digits\\n$ \")\n",
    "            if len(new_password) != 4 or new_password.isnumeric() == False: # if wrong password\n",
    "                print(\"Bad input\")\n",
    "                continue\n",
    "            else:\n",
    "                break\n",
    "        self.password = new_password\n",
    "\n",
    "    def check_password(self):\n",
    "        userinput = input(\"Password?...\\n$ \")\n",
    "        if userinput == self.password:\n",
    "            return True\n",
    "        return False\n",
    "\n",
    "iphone = Iphone(model=\"X\", phone_number=\"0586784987\", nb_of_cameras=4)"
   ]
  }
 ],
 "metadata": {
  "kernelspec": {
   "display_name": "Python 3",
   "language": "python",
   "name": "python3"
  },
  "language_info": {
   "codemirror_mode": {
    "name": "ipython",
    "version": 3
   },
   "file_extension": ".py",
   "mimetype": "text/x-python",
   "name": "python",
   "nbconvert_exporter": "python",
   "pygments_lexer": "ipython3",
   "version": "3.6.5"
  }
 },
 "nbformat": 4,
 "nbformat_minor": 2
}
