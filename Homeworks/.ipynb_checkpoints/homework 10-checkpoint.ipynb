{
 "cells": [
  {
   "cell_type": "code",
   "execution_count": 26,
   "metadata": {},
   "outputs": [],
   "source": [
    "class Phone:\n",
    "    \n",
    "    def __init__(self, brand, model, phone_number, tactile_screen=False):\n",
    "        self.brand          = brand\n",
    "        self.model          = model\n",
    "        self.phone_number   = phone_number\n",
    "        self.tactile_screen = tactile_screen\n",
    "    \n",
    "    def call(self, number_to_call):\n",
    "        print(\"Calling to {}...\".format(number_to_call))\n",
    "    \n",
    "    def txt_message(self, number, message):\n",
    "        print(\"Sending to {}: {}\".format(number, message))   \n",
    "        \n",
    "\n",
    "class Smartphone(Phone):  # Specify that Smartphone inherit from Phone\n",
    "    \n",
    "    def __init__(self, brand, model, phone_number, nb_of_cameras):\n",
    "        super().__init__(brand, model, phone_number, tactile_screen=True)  # super() is the parent function\n",
    "        self.nb_of_cameras = nb_of_cameras\n",
    "    \n",
    "    def take_pic(self):\n",
    "        print(\"Say cheese! *Click*\")\n",
    "        \n"
   ]
  },
  {
   "cell_type": "markdown",
   "metadata": {},
   "source": [
    "### Write a class for a specific brand"
   ]
  },
  {
   "cell_type": "code",
   "execution_count": null,
   "metadata": {},
   "outputs": [],
   "source": []
  }
 ],
 "metadata": {
  "kernelspec": {
   "display_name": "Python 3",
   "language": "python",
   "name": "python3"
  },
  "language_info": {
   "codemirror_mode": {
    "name": "ipython",
    "version": 3
   },
   "file_extension": ".py",
   "mimetype": "text/x-python",
   "name": "python",
   "nbconvert_exporter": "python",
   "pygments_lexer": "ipython3",
   "version": "3.6.5"
  }
 },
 "nbformat": 4,
 "nbformat_minor": 2
}
