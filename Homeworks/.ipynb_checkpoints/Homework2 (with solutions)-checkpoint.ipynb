{
 "cells": [
  {
   "cell_type": "markdown",
   "metadata": {},
   "source": [
    "## Exercise 1\n",
    "\n",
    "Ask the user for a number, and then print every number from this number to 0 (in reverse)"
   ]
  },
  {
   "cell_type": "code",
   "execution_count": 1,
   "metadata": {},
   "outputs": [
    {
     "name": "stdout",
     "output_type": "stream",
     "text": [
      "Give me a number\n",
      ">>> 5\n",
      "5\n",
      "4\n",
      "3\n",
      "2\n",
      "1\n",
      "0\n"
     ]
    }
   ],
   "source": [
    "usernumber = input(\"Give me a number\\n>>> \")\n",
    "usernumber = int(usernumber)\n",
    "\n",
    "displayed_nb = usernumber\n",
    "while displayed_nb >= 0:\n",
    "    print(displayed_nb)\n",
    "    displayed_nb -= 1"
   ]
  },
  {
   "cell_type": "markdown",
   "metadata": {},
   "source": [
    "## Exercise 2\n",
    "Find the sum of every even number between 0 and 100"
   ]
  },
  {
   "cell_type": "code",
   "execution_count": 2,
   "metadata": {},
   "outputs": [
    {
     "name": "stdout",
     "output_type": "stream",
     "text": [
      "the sum is 5050\n"
     ]
    }
   ],
   "source": [
    "current_number = 0\n",
    "sum_of_numbers = 0\n",
    "while current_number <= 100:\n",
    "    sum_of_numbers += current_number\n",
    "    current_number += 1\n",
    "print(\"the sum is\", sum_of_numbers)"
   ]
  },
  {
   "cell_type": "markdown",
   "metadata": {},
   "source": [
    "## Exercise 3\n",
    "Ask the user if he likes python, ask him again and again until he says yes :)"
   ]
  },
  {
   "cell_type": "code",
   "execution_count": 4,
   "metadata": {},
   "outputs": [
    {
     "name": "stdout",
     "output_type": "stream",
     "text": [
      "Do you like python?no\n",
      "Again, do you like python ??i dont know\n",
      "Again, do you like python ??i \n",
      "Again, do you like python ??hm\n",
      "Again, do you like python ??yes\n",
      "Cool.\n"
     ]
    }
   ],
   "source": [
    "userinput = input(\"Do you like python?\")\n",
    "\n",
    "while userinput != \"yes\":\n",
    "    userinput = input(\"Again, do you like python ??\")\n",
    "    \n",
    "print(\"Cool.\")"
   ]
  },
  {
   "cell_type": "markdown",
   "metadata": {},
   "source": [
    "## Exercise 4\n",
    "Ask the user for a number and print the multiplication table of this number<br>\n",
    "Example with 6 in input:<br>\n",
    "<pre><code>\n",
    "6*0 is 0\n",
    "6*1 is 6\n",
    "6*2 is 12\n",
    "6*3 is 18\n",
    "6*4 is 24\n",
    "6*5 is 30\n",
    "6*6 is 36\n",
    "6*7 is 42\n",
    "6*8 is 48\n",
    "6*9 is 54\n",
    "\n",
    "</code></pre>"
   ]
  },
  {
   "cell_type": "code",
   "execution_count": 5,
   "metadata": {},
   "outputs": [
    {
     "name": "stdout",
     "output_type": "stream",
     "text": [
      "Give me a number4\n",
      "1 * 4 = 4\n",
      "2 * 4 = 8\n",
      "3 * 4 = 12\n",
      "4 * 4 = 16\n",
      "5 * 4 = 20\n",
      "6 * 4 = 24\n",
      "7 * 4 = 28\n",
      "8 * 4 = 32\n",
      "9 * 4 = 36\n"
     ]
    }
   ],
   "source": [
    "usernumber = input(\"Give me a number\")\n",
    "usernumber = int(usernumber)\n",
    "\n",
    "i = 1\n",
    "while i < 10:\n",
    "    print(i,\"*\",usernumber,\"=\",i*usernumber)\n",
    "    i = i + 1"
   ]
  },
  {
   "cell_type": "markdown",
   "metadata": {},
   "source": [
    "## Exercise 5 ~ Bonus\n",
    "Ask user for a number n, and then display stairs of n steps:<br>\n",
    "Example with 6 in input:<br>\n",
    "<pre><code>\n",
    "     *\n",
    "    **\n",
    "   ***\n",
    "  **** \n",
    " *****\n",
    "******\n",
    "</code></pre>"
   ]
  },
  {
   "cell_type": "code",
   "execution_count": 7,
   "metadata": {
    "scrolled": true
   },
   "outputs": [
    {
     "name": "stdout",
     "output_type": "stream",
     "text": [
      "Give me a number of steps5\n",
      "     \n",
      "    *\n",
      "   **\n",
      "  ***\n",
      " ****\n",
      "*****\n"
     ]
    }
   ],
   "source": [
    "usernumber = int(input(\"Give me a number of steps\"))\n",
    "i = 0\n",
    "while i <= usernumber:\n",
    "    print(' '*(usernumber-i) +'*'*i)\n",
    "    i+=1"
   ]
  },
  {
   "cell_type": "markdown",
   "metadata": {},
   "source": [
    "## Exercise 6 ~ \n",
    "Ask the user for numbers in loop until he says \"stop!\", and print the maximum and the minimum of all the numbers"
   ]
  },
  {
   "cell_type": "code",
   "execution_count": 1,
   "metadata": {},
   "outputs": [
    {
     "name": "stdout",
     "output_type": "stream",
     "text": [
      "Give me a number (or print 'stop!')5\n",
      "Give me a number (or print 'stop!')3\n",
      "Give me a number (or print 'stop!')49\n",
      "Give me a number (or print 'stop!')19\n",
      "Give me a number (or print 'stop!')stop!\n",
      "The maximum number was: 49\n",
      "The minimum number was: 3\n"
     ]
    }
   ],
   "source": [
    "maximum = 0 \n",
    "minimum = 9999999\n",
    "while True:\n",
    "    usernumber = input(\"Give me a number (or print 'stop!')\")\n",
    "    if usernumber == 'stop!':\n",
    "        break\n",
    "    else:\n",
    "        usernumber = int(usernumber)\n",
    "        if maximum < usernumber:\n",
    "            maximum = usernumber\n",
    "        if minimum > usernumber:\n",
    "            minimum = usernumber\n",
    "print(\"The maximum number was:\",maximum)\n",
    "print(\"The minimum number was:\", minimum)"
   ]
  },
  {
   "cell_type": "markdown",
   "metadata": {},
   "source": [
    "### Exercise 7\n",
    "Concatenate a chain of numbers"
   ]
  },
  {
   "cell_type": "code",
   "execution_count": 5,
   "metadata": {},
   "outputs": [
    {
     "name": "stdout",
     "output_type": "stream",
     "text": [
      "Give me a number (or type 'exit')5\n",
      "Give me a number (or type 'exit')10\n",
      "Give me a number (or type 'exit')230\n",
      "Give me a number (or type 'exit')exit\n",
      "The chain is: 510230\n"
     ]
    }
   ],
   "source": [
    "nb_string = \"\"\n",
    "while True:\n",
    "    userinput = input(\"Give me a number (or type 'exit')\")\n",
    "    if userinput == 'exit':\n",
    "        break\n",
    "    else:\n",
    "        nb_string += userinput\n",
    "\n",
    "print(\"The chain is:\",nb_string)"
   ]
  },
  {
   "cell_type": "code",
   "execution_count": null,
   "metadata": {},
   "outputs": [],
   "source": []
  }
 ],
 "metadata": {
  "kernelspec": {
   "display_name": "Python 3",
   "language": "python",
   "name": "python3"
  },
  "language_info": {
   "codemirror_mode": {
    "name": "ipython",
    "version": 3
   },
   "file_extension": ".py",
   "mimetype": "text/x-python",
   "name": "python",
   "nbconvert_exporter": "python",
   "pygments_lexer": "ipython3",
   "version": "3.6.5"
  }
 },
 "nbformat": 4,
 "nbformat_minor": 2
}
