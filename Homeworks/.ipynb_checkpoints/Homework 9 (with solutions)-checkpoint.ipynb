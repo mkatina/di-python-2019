{
 "cells": [
  {
   "cell_type": "markdown",
   "metadata": {},
   "source": [
    "# The airport"
   ]
  },
  {
   "cell_type": "markdown",
   "metadata": {},
   "source": [
    "### An airport manager is coming to you and he wants you to help him to manage his airport"
   ]
  },
  {
   "cell_type": "markdown",
   "metadata": {},
   "source": [
    "He wants a class `Airport`, this class should have those attributes:\n",
    "-  capacity (how many planes can be in the airport)\n",
    "-  current number of planes (how many planes are in the aiport now)\n",
    "-  Name\n"
   ]
  },
  {
   "cell_type": "markdown",
   "metadata": {},
   "source": [
    "It also need those methods:\n",
    "-  `plane_in` --> This function is adding a plane to the airport, you need to check if the airport can handle it\n",
    "-  `plane_out` --> This function is flying a plane out of the airport"
   ]
  },
  {
   "cell_type": "code",
   "execution_count": null,
   "metadata": {},
   "outputs": [
    {
     "name": "stdout",
     "output_type": "stream",
     "text": [
      "Hey, welcome to Ben Gurion Airport\n",
      "\n",
      "\n",
      "\n",
      "What do you want to do? (Choose a number)\n",
      "0) Exit\n",
      "1) Add planes\n",
      "2) Remove planes\n",
      "3) Get airport status\n",
      ">>> 0\n",
      "Please enter 0, 1 or 2\n",
      "\n",
      "\n",
      "\n",
      "What do you want to do? (Choose a number)\n",
      "0) Exit\n",
      "1) Add planes\n",
      "2) Remove planes\n",
      "3) Get airport status\n",
      ">>> 0\n",
      "Please enter 0, 1 or 2\n",
      "\n",
      "\n",
      "\n",
      "What do you want to do? (Choose a number)\n",
      "0) Exit\n",
      "1) Add planes\n",
      "2) Remove planes\n",
      "3) Get airport status\n"
     ]
    }
   ],
   "source": [
    "class Airport:\n",
    "    \n",
    "    def __init__(self, name, capacity):\n",
    "        # Arguments attributes\n",
    "        self.name     = name\n",
    "        self.capacity = capacity\n",
    "        \n",
    "        # Default attributes\n",
    "        self.current_planes_nb = 0\n",
    "    \n",
    "    def plane_in(self, n=1):\n",
    "        if (self.current_planes_nb + n) < self.capacity:\n",
    "            self.current_planes_nb += n\n",
    "            return True\n",
    "        else:\n",
    "            return False\n",
    "    \n",
    "    def plane_out(self, n=1):\n",
    "        if (self.current_planes_nb - n) >= 0:\n",
    "            self.current_planes_nb -= n\n",
    "            return True\n",
    "        else:\n",
    "            return False\n",
    "        \n",
    "    def describe(self):\n",
    "        print(\"Airport {}: {}/{} planes\".format(self.name, \n",
    "                                                self.current_planes_nb,\n",
    "                                                self.capacity))\n",
    "    \n",
    "    def ui(self):\n",
    "        \n",
    "        print(\"Hey, welcome to {} Airport\".format(self.name))\n",
    "        \n",
    "        while True:\n",
    "            print(\"\\n\\n\")\n",
    "            print(\"What do you want to do? (Choose a number)\")\n",
    "            print(\"0) Exit\")\n",
    "            print(\"1) Add planes\")\n",
    "            print(\"2) Remove planes\")\n",
    "            print(\"3) Get airport status\")\n",
    "            \n",
    "            choice = input(\">>> \")\n",
    "            if choice not in [\"0\", \"1\", \"2\", \"3\"]:\n",
    "                print(\"Please enter 0, 1 or 2\")\n",
    "                continue\n",
    "                \n",
    "            if choice == \"0\":\n",
    "                print(\"Goodbye!\")\n",
    "                break\n",
    "                \n",
    "            elif choice == \"1\": # PLANE IN \n",
    "                nb_of_planes = input(\"How many planes do you wanna add?\\n>>> \")\n",
    "                try:\n",
    "                    nb_of_planes = int(nb_of_planes)\n",
    "                except:\n",
    "                    print(\"wrong number of planes\")\n",
    "                    continue\n",
    "        \n",
    "                if self.plane_in(nb_of_planes):\n",
    "                    print(\"{} planes entered {}\".format(nb_of_planes, self.name))\n",
    "                else:\n",
    "                    print(\"Sorry, no more places available\")\n",
    "            \n",
    "            elif choice == \"2\": # PLANE OUT\n",
    "                nb_of_planes = input(\"How many planes do you wanna remove?\\n>>> \")\n",
    "                try:\n",
    "                    nb_of_planes = int(nb_of_planes)\n",
    "                except:\n",
    "                    print(\"wrong number of planes\")\n",
    "                    continue\n",
    "                    \n",
    "                if self.plane_out(nb_of_planes):\n",
    "                    print(\"{} planes left from {}\".format(nb_of_planes, self.name))\n",
    "                else:\n",
    "                    print(\"You have no planes in your airport\")\n",
    "                \n",
    "            elif choice == \"3\":\n",
    "                self.describe()\n",
    "            \n",
    "    \n",
    "        \n",
    "myairport = Airport(capacity=10, name=\"Ben Gurion\")\n",
    "myairport.ui()"
   ]
  },
  {
   "cell_type": "markdown",
   "metadata": {},
   "source": [
    "# The restaurant"
   ]
  },
  {
   "cell_type": "markdown",
   "metadata": {},
   "source": [
    "A class `Restaurant`, Every table can receive 5 people, with those attributes:\n",
    "\n",
    "-  `capacity` --> int\n",
    "-  `nb_of_tables` --> int\n",
    "-  `current_clients` --> Dictionnary {1:True, 2:False, 3:True... for every table}\n",
    "-  `opening_hour` --> int\n",
    "-  `closing_hour` --> int\n",
    "\n",
    "And those methods:\n",
    "-  `client_in` --> if you can add them, return true and add them to a table, but you have to check that the restaurant is open, arguments are how many client want to get in and the hour\n",
    "-  `table_out` --> every clients of a table leave, the table is now free, arguments are which table is leaving\n"
   ]
  },
  {
   "cell_type": "code",
   "execution_count": null,
   "metadata": {},
   "outputs": [],
   "source": []
  }
 ],
 "metadata": {
  "kernelspec": {
   "display_name": "Python 3",
   "language": "python",
   "name": "python3"
  },
  "language_info": {
   "codemirror_mode": {
    "name": "ipython",
    "version": 3
   },
   "file_extension": ".py",
   "mimetype": "text/x-python",
   "name": "python",
   "nbconvert_exporter": "python",
   "pygments_lexer": "ipython3",
   "version": "3.6.5"
  }
 },
 "nbformat": 4,
 "nbformat_minor": 2
}
