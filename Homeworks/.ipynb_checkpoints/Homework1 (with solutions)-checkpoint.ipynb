{
 "cells": [
  {
   "cell_type": "markdown",
   "metadata": {},
   "source": [
    "## Exercise 1\n",
    "\n",
    "Ask the user for his age, and then tells him if he can enter casino or not"
   ]
  },
  {
   "cell_type": "code",
   "execution_count": 4,
   "metadata": {},
   "outputs": [
    {
     "name": "stdout",
     "output_type": "stream",
     "text": [
      "how old are you?26\n",
      "you can enter casino\n"
     ]
    }
   ],
   "source": [
    "user_age = input(\"how old are you?\")\n",
    "user_age = int(user_age)\n",
    "\n",
    "if user_age >= 21:\n",
    "    print(\"you can enter casino\")\n",
    "else:\n",
    "    print(\"Sorry, you can't enter..\")"
   ]
  },
  {
   "cell_type": "markdown",
   "metadata": {},
   "source": [
    "## Exercise 2\n",
    "\n",
    "Ask the user for a number, and tell him if it's an odd or an even number"
   ]
  },
  {
   "cell_type": "code",
   "execution_count": null,
   "metadata": {},
   "outputs": [],
   "source": [
    "user_nb = int(input(\"Give me a number !\"))\n",
    "\n",
    "if user_nb % 2 == 0: # Number is even\n",
    "    print(user_nb,\"is an even number!\")\n",
    "else:\n",
    "    print(user_nb,\"is an odd number..\")"
   ]
  },
  {
   "cell_type": "markdown",
   "metadata": {},
   "source": [
    "## Exercise 3\n",
    "\n",
    "Ask the user for his name, and then say hello to him"
   ]
  },
  {
   "cell_type": "code",
   "execution_count": null,
   "metadata": {
    "scrolled": true
   },
   "outputs": [],
   "source": [
    "username = input(\"What's your name ?\")\n",
    "print(\"Hello\",username)"
   ]
  },
  {
   "cell_type": "markdown",
   "metadata": {},
   "source": [
    "## Exercise 4\n",
    "\n",
    "Ask a user how tall he is, then ask another user how tall he is, and then tell them who's the tallest"
   ]
  },
  {
   "cell_type": "code",
   "execution_count": null,
   "metadata": {},
   "outputs": [],
   "source": [
    "first_user_name  = input(\"Hi first user, what's your name ?\")\n",
    "second_user_name = input(\"Hi second user, what's your name ?\")\n",
    "\n",
    "first_user_height = int(input(first_user_name+\", how tall are you?\"))\n",
    "second_user_height = int(input(second_user_name+\", how tall are you?\"))\n",
    "\n",
    "if first_user_height > second_user_height:\n",
    "    print(first_user_name+\" is taller\")\n",
    "\n",
    "elif first_user_height == second_user_height:\n",
    "    print(\"You are same height\")\n",
    "    \n",
    "else:\n",
    "    print(second_user_name+\" is taller\")"
   ]
  },
  {
   "cell_type": "markdown",
   "metadata": {},
   "source": [
    "## Exercise 5\n",
    "Ask the user for a number, and then print all the divisors of this number."
   ]
  },
  {
   "cell_type": "code",
   "execution_count": 19,
   "metadata": {},
   "outputs": [
    {
     "name": "stdout",
     "output_type": "stream",
     "text": [
      "Give me a number45\n",
      "3 is a divisor of 45\n",
      "5 is a divisor of 45\n",
      "9 is a divisor of 45\n",
      "15 is a divisor of 45\n",
      "45 is a divisor of 45\n"
     ]
    }
   ],
   "source": [
    "# Ask for a number\n",
    "usernumber = input(\"Give me a number\")\n",
    "usernumber = int(usernumber)\n",
    "# Go through every number from 0 to the user number\n",
    "i = 2\n",
    "while i <= usernumber:  \n",
    "#   Check if it's a divisor\n",
    "    if usernumber % i == 0:\n",
    "        print(i, \"is a divisor of\", usernumber)\n",
    "    i = i + 1"
   ]
  },
  {
   "cell_type": "markdown",
   "metadata": {},
   "source": [
    "## Exercise 6\n",
    "Make the sum of every number from 1 to a number of the user\n"
   ]
  },
  {
   "cell_type": "code",
   "execution_count": null,
   "metadata": {},
   "outputs": [],
   "source": [
    "nb = int(input(\"Give me a number\"))\n",
    "\n",
    "numbers_sum = 0\n",
    "i = 0\n",
    "while i <= nb:\n",
    "    numbers_sum = numbers_sum + i\n",
    "    i += 1\n",
    "print(\"Sum is\",numbers_sum)"
   ]
  },
  {
   "cell_type": "markdown",
   "metadata": {},
   "source": [
    "## Exercise 7\n",
    "Ask the user for numbers until the user says stop, and then print the sum of all those numbers"
   ]
  },
  {
   "cell_type": "code",
   "execution_count": null,
   "metadata": {},
   "outputs": [],
   "source": [
    "nb = input(\"Give me a number\")\n",
    "nb_sum = 0\n",
    "while nb != \"stop\":\n",
    "    nb = int(nb)\n",
    "    nb_sum += nb\n",
    "    nb = input(\"Give me a number\")\n",
    "print(\"Sum is\",nb_sum)"
   ]
  },
  {
   "cell_type": "code",
   "execution_count": null,
   "metadata": {},
   "outputs": [],
   "source": []
  }
 ],
 "metadata": {
  "kernelspec": {
   "display_name": "Python 3",
   "language": "python",
   "name": "python3"
  },
  "language_info": {
   "codemirror_mode": {
    "name": "ipython",
    "version": 3
   },
   "file_extension": ".py",
   "mimetype": "text/x-python",
   "name": "python",
   "nbconvert_exporter": "python",
   "pygments_lexer": "ipython3",
   "version": "3.6.5"
  }
 },
 "nbformat": 4,
 "nbformat_minor": 2
}
