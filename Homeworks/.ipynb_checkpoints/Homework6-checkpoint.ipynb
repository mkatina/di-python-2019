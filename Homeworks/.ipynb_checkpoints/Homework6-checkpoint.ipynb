{
 "cells": [
  {
   "cell_type": "markdown",
   "metadata": {},
   "source": [
    "# For loop"
   ]
  },
  {
   "cell_type": "markdown",
   "metadata": {},
   "source": [
    "## Exercise 1: argmax\n",
    "\n",
    "Given a list of integers and using a for loop, return the maximum value in the list"
   ]
  },
  {
   "cell_type": "markdown",
   "metadata": {},
   "source": [
    "## Exercise 2: copy\n",
    "\n",
    "Copy all the element in one list to another one"
   ]
  },
  {
   "cell_type": "markdown",
   "metadata": {},
   "source": [
    "## Exercise 3: enumerate\n",
    "Given a list and using a for loop, print every element of the list with his index in the list<br/>|\n",
    "Example: <pre>\n",
    "my_list = [\"this\", \"is\", \"a\", \"list\"]\n",
    "</pre>\n",
    "output:<pre> \n",
    "0-\"this\"\n",
    "1-\"is\"\n",
    "2-\"a\"\n",
    "3-\"list\"\n",
    "</pre>"
   ]
  },
  {
   "cell_type": "markdown",
   "metadata": {},
   "source": [
    "# Functions"
   ]
  },
  {
   "cell_type": "markdown",
   "metadata": {},
   "source": [
    "## Exercise 1: count\n",
    "\n",
    "Write a function that receive two arguments : my_list and my_variable<br>\n",
    "This function need to return the number of occurences of my_variable in my_list\n",
    "\n",
    "Example:\n",
    "<pre>\n",
    "my_function([1,2,3,5,5,5], 5) --> \"The number 5 appears 3 times in the list\"\n",
    "</pre>\n"
   ]
  },
  {
   "cell_type": "markdown",
   "metadata": {},
   "source": [
    "## Exercise 2: join\n",
    "\n",
    "Write a function that receive a list of strings.<br>\n",
    "This function needs to return a string that concatenate every strings in the list separated by a space<br>\n",
    "Example:\n",
    "<pre>\n",
    "my_function(['this', 'is', 'a', 'string']) --> \"this is a string\"\n",
    "</pre>"
   ]
  },
  {
   "cell_type": "markdown",
   "metadata": {},
   "source": [
    "## Exercise 3: is upper\n",
    "\n",
    "Write a function that receive a string in argument and returns if all the characters are uppercase or not\n",
    "\n",
    "Example:\n",
    "<pre>\n",
    "my_function(\"THIS IS A STRING\") --> True\n",
    "</pre>"
   ]
  }
 ],
 "metadata": {
  "kernelspec": {
   "display_name": "Python 3",
   "language": "python",
   "name": "python3"
  },
  "language_info": {
   "codemirror_mode": {
    "name": "ipython",
    "version": 3
   },
   "file_extension": ".py",
   "mimetype": "text/x-python",
   "name": "python",
   "nbconvert_exporter": "python",
   "pygments_lexer": "ipython3",
   "version": "3.6.5"
  }
 },
 "nbformat": 4,
 "nbformat_minor": 2
}
