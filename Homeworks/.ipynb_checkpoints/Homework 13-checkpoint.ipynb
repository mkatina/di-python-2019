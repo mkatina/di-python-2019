{
 "cells": [
  {
   "cell_type": "markdown",
   "metadata": {},
   "source": [
    "# 2) Create game and players\n",
    "### a) Create a `Game` class\n",
    "\n",
    "This class should be a parent class for almost every game on earth.<br>\n",
    "We need those attributes:<br>\n",
    "-  `name` (string: name of the game)\n",
    "-  `list_of_players` (list: list of players objects)\n",
    "-  `scoreboard`  (dict: every player - number of times he won)\n",
    "<br>\n",
    "And those functions:<br>\n",
    "-  `play` (For now the function is only saying `playing the game...`)\n",
    "\n",
    "### b) Create a `Player` class\n",
    "This class should be a parent class for every players.<br>\n",
    "Attributes:<br>\n",
    "-  `name` (string: name)\n",
    "-  `current_game` (`Game` object: the game he is currently playing, else `None`)\n",
    "\n",
    "Methods:<br>\n",
    "-  `\n"
   ]
  },
  {
   "cell_type": "code",
   "execution_count": null,
   "metadata": {},
   "outputs": [],
   "source": []
  }
 ],
 "metadata": {
  "kernelspec": {
   "display_name": "Python 3",
   "language": "python",
   "name": "python3"
  },
  "language_info": {
   "codemirror_mode": {
    "name": "ipython",
    "version": 3
   },
   "file_extension": ".py",
   "mimetype": "text/x-python",
   "name": "python",
   "nbconvert_exporter": "python",
   "pygments_lexer": "ipython3",
   "version": "3.6.5"
  }
 },
 "nbformat": 4,
 "nbformat_minor": 2
}
