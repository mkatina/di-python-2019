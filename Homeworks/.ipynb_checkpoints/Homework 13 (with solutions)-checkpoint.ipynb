{
 "cells": [
  {
   "cell_type": "markdown",
   "metadata": {},
   "source": [
    "# `print_nb`\n",
    "\n",
    "Make a function that receive a file and a number and that add every number from 0 to this number in the file"
   ]
  },
  {
   "cell_type": "code",
   "execution_count": 42,
   "metadata": {},
   "outputs": [
    {
     "name": "stdout",
     "output_type": "stream",
     "text": [
      "0\n",
      "1\n",
      "2\n",
      "3\n",
      "4\n",
      "5\n",
      "6\n",
      "7\n",
      "8\n",
      "9\n",
      "10\n",
      "\n"
     ]
    }
   ],
   "source": [
    "#Solution\n",
    "def print_nb(number,fileName):\n",
    "    #create a file object \n",
    "    f=open(fileName,\"w\")\n",
    "    \n",
    "    #range([start], stop, [step]) -  stop number is excluded from range \n",
    "    for i in range(0,number+1,1):\n",
    "        f.write(str(i)+'\\n')\n",
    "    f.close()\n",
    "#call the function    \n",
    "print_nb(10,\"nb_file.txt\") \n",
    "\n",
    "#read the generated file\n",
    "f=open(\"nb_file.txt\",\"r\")\n",
    "print(f.read())\n"
   ]
  },
  {
   "cell_type": "markdown",
   "metadata": {},
   "source": [
    "# `copy`\n",
    "\n",
    "Make one file `myfile.txt` and write some text in it. Then with python, copy this file into `copy-myfile.txt`\n",
    "***\n",
    "Make a function that does this automatically. It receives a filename and it copy it to `copy-filename.txt`\n"
   ]
  },
  {
   "cell_type": "code",
   "execution_count": 1,
   "metadata": {},
   "outputs": [
    {
     "ename": "FileNotFoundError",
     "evalue": "[Errno 2] No such file or directory: 'nb_file.txt'",
     "output_type": "error",
     "traceback": [
      "\u001b[0;31m---------------------------------------------------------------------------\u001b[0m",
      "\u001b[0;31mFileNotFoundError\u001b[0m                         Traceback (most recent call last)",
      "\u001b[0;32m<ipython-input-1-02b3c577d6bd>\u001b[0m in \u001b[0;36m<module>\u001b[0;34m\u001b[0m\n\u001b[1;32m     12\u001b[0m \u001b[0;34m\u001b[0m\u001b[0m\n\u001b[1;32m     13\u001b[0m \u001b[0;31m#call the function\u001b[0m\u001b[0;34m\u001b[0m\u001b[0;34m\u001b[0m\u001b[0;34m\u001b[0m\u001b[0m\n\u001b[0;32m---> 14\u001b[0;31m \u001b[0mcopy_file\u001b[0m\u001b[0;34m(\u001b[0m\u001b[0;34m\"nb_file.txt\"\u001b[0m\u001b[0;34m)\u001b[0m\u001b[0;34m\u001b[0m\u001b[0;34m\u001b[0m\u001b[0m\n\u001b[0m\u001b[1;32m     15\u001b[0m \u001b[0;34m\u001b[0m\u001b[0m\n\u001b[1;32m     16\u001b[0m \u001b[0;31m#read the generated file\u001b[0m\u001b[0;34m\u001b[0m\u001b[0;34m\u001b[0m\u001b[0;34m\u001b[0m\u001b[0m\n",
      "\u001b[0;32m<ipython-input-1-02b3c577d6bd>\u001b[0m in \u001b[0;36mcopy_file\u001b[0;34m(filename)\u001b[0m\n\u001b[1;32m      2\u001b[0m \u001b[0;32mdef\u001b[0m \u001b[0mcopy_file\u001b[0m\u001b[0;34m(\u001b[0m\u001b[0mfilename\u001b[0m\u001b[0;34m)\u001b[0m\u001b[0;34m:\u001b[0m\u001b[0;34m\u001b[0m\u001b[0;34m\u001b[0m\u001b[0m\n\u001b[1;32m      3\u001b[0m     \u001b[0;31m#Read the source file and store the content into a string variable\u001b[0m\u001b[0;34m\u001b[0m\u001b[0;34m\u001b[0m\u001b[0;34m\u001b[0m\u001b[0m\n\u001b[0;32m----> 4\u001b[0;31m     \u001b[0mf_src\u001b[0m\u001b[0;34m=\u001b[0m\u001b[0mopen\u001b[0m\u001b[0;34m(\u001b[0m\u001b[0mfilename\u001b[0m\u001b[0;34m,\u001b[0m\u001b[0;34m\"r\"\u001b[0m\u001b[0;34m)\u001b[0m\u001b[0;34m\u001b[0m\u001b[0;34m\u001b[0m\u001b[0m\n\u001b[0m\u001b[1;32m      5\u001b[0m     \u001b[0mcontent\u001b[0m\u001b[0;34m=\u001b[0m\u001b[0mf_src\u001b[0m\u001b[0;34m.\u001b[0m\u001b[0mread\u001b[0m\u001b[0;34m(\u001b[0m\u001b[0;34m)\u001b[0m\u001b[0;34m\u001b[0m\u001b[0;34m\u001b[0m\u001b[0m\n\u001b[1;32m      6\u001b[0m     \u001b[0mf\u001b[0m\u001b[0;34m.\u001b[0m\u001b[0mclose\u001b[0m\u001b[0;34m(\u001b[0m\u001b[0;34m)\u001b[0m\u001b[0;34m\u001b[0m\u001b[0;34m\u001b[0m\u001b[0m\n",
      "\u001b[0;31mFileNotFoundError\u001b[0m: [Errno 2] No such file or directory: 'nb_file.txt'"
     ]
    }
   ],
   "source": [
    "#Option 1: use read function\n",
    "def copy_file(filename):\n",
    "    #Read the source file and store the content into a string variable\n",
    "    f_src=open(filename,\"r\")\n",
    "    content=f_src.read()\n",
    "    f_src.close()\n",
    "\n",
    "    #write the content into a new file\n",
    "    f_cpy=open(\"copy-myfile.txt\",\"w\")\n",
    "    f_cpy.write(content)\n",
    "    f_cpy.close()\n",
    "    \n",
    "#call the function    \n",
    "copy_file(\"nb_file.txt\")\n",
    "\n",
    "#read the generated file\n",
    "f=open(\"copy-myfile.txt\",\"r\")\n",
    "print(f.read())\n"
   ]
  },
  {
   "cell_type": "code",
   "execution_count": 50,
   "metadata": {
    "scrolled": true
   },
   "outputs": [
    {
     "name": "stdout",
     "output_type": "stream",
     "text": [
      "0\n",
      "1\n",
      "2\n",
      "3\n",
      "4\n",
      "5\n",
      "6\n",
      "7\n",
      "8\n",
      "9\n",
      "10\n",
      "\n"
     ]
    }
   ],
   "source": [
    "#Option 2: use readlines function\n",
    "def copy_file(filename):\n",
    "    #Read the source file and store all lines into a list variable\n",
    "    f_src=open(filename,\"r\")\n",
    "    lines=f_src.readlines()\n",
    "    f_src.close()\n",
    "\n",
    "    f_cpy=open(\"copy-myfile.txt\",\"w\")\n",
    "    for l in lines:\n",
    "        f_cpy.write(l)\n",
    "    f_cpy.close()    \n",
    "\n",
    "copy_file('nb_file.txt')    \n",
    "#read the generated file\n",
    "f=open(\"copy-myfile.txt\",\"r\")\n",
    "print(f.read())\n",
    "\n",
    "\n"
   ]
  },
  {
   "cell_type": "markdown",
   "metadata": {},
   "source": [
    "## Add a text at the end of a file.\n",
    "Add a new line with the text \"this is the end\" at the end of the file"
   ]
  },
  {
   "cell_type": "code",
   "execution_count": 51,
   "metadata": {},
   "outputs": [
    {
     "name": "stdout",
     "output_type": "stream",
     "text": [
      "0\n",
      "1\n",
      "2\n",
      "3\n",
      "4\n",
      "5\n",
      "6\n",
      "7\n",
      "8\n",
      "9\n",
      "10\n",
      "this is the end\n"
     ]
    }
   ],
   "source": [
    "f=open(\"copy-myfile.txt\",\"a\")\n",
    "f.write(\"this is the end\")\n",
    "f.close()\n",
    "\n",
    "#read the file\n",
    "f=open(\"copy-myfile.txt\",\"r\")\n",
    "print(f.read())\n"
   ]
  },
  {
   "cell_type": "markdown",
   "metadata": {},
   "source": [
    "# Reverse\n",
    "Make a copy of a file but reversed. Make it at string level and at the lines level."
   ]
  },
  {
   "cell_type": "raw",
   "metadata": {},
   "source": [
    "Hey \n",
    "I love python\n",
    "How are you"
   ]
  },
  {
   "cell_type": "raw",
   "metadata": {},
   "source": [
    "uoy era woH\n",
    "nohtyp evol I\n",
    " yeH"
   ]
  },
  {
   "cell_type": "raw",
   "metadata": {},
   "source": [
    "How are you\n",
    "I love python\n",
    "Hey"
   ]
  },
  {
   "cell_type": "code",
   "execution_count": 83,
   "metadata": {},
   "outputs": [
    {
     "name": "stdout",
     "output_type": "stream",
     "text": [
      "uoy era woH\n",
      "nohtyp evol I\n",
      " yeH\n"
     ]
    }
   ],
   "source": [
    "#Option 1 - by using range to iterate the loop\n",
    "def reverse_copy(filename):\n",
    "    # Read source file\n",
    "    f_src = open(filename,'r')\n",
    "    lines = f_src.readlines()\n",
    "    f_src.close()\n",
    "    \n",
    "    # Create new file and write into it\n",
    "    f_dest = open('reverse_line_char.txt','w')\n",
    "    \n",
    "    # Use loop to browse the lines from the end to the beginning\n",
    "    # via the function range(start,stop,step)\n",
    "    # eg. if I have a file with 3 lines then lines=[line 1,line 2,line 3]\n",
    "    # To browse I use range(2,-1,-1) equivalent to range(len(lines)-1,-1,-1)\n",
    "    \n",
    "    for line_index in range(len(lines)-1,-1,-1):\n",
    "        # Add a nested loop to browse the characters\n",
    "        for letter in range(len(lines[line_index])-1,-1,-1):\n",
    "            f_dest.write(lines[line_index][letter])\n",
    "            \n",
    "            \n",
    "reverse_copy('reverse.txt') \n",
    "\n",
    "#read the file\n",
    "f=open(\"reverse_line_char.txt\",\"r\")\n",
    "print(f.read())"
   ]
  },
  {
   "cell_type": "markdown",
   "metadata": {},
   "source": [
    "# Reminder on slicing"
   ]
  },
  {
   "cell_type": "code",
   "execution_count": 80,
   "metadata": {},
   "outputs": [
    {
     "name": "stdout",
     "output_type": "stream",
     "text": [
      "mytext[:4]=>0123\n",
      "mytext[:]=>0123456789\n",
      "mytext[4:]=>456789\n",
      "mytext[2:9:2]=>2468\n",
      "mytext[:4:-1]=>98765\n",
      "mytext[4::-1]=>43210\n",
      "mytext[::-1]=>9876543210\n"
     ]
    }
   ],
   "source": [
    "# a[start:stop:step] stop is excluded\n",
    "mytext=\"0123456789\"\n",
    "print('mytext[:4]=>'+mytext[:4]) #print the first 4 characters\n",
    "print('mytext[:]=>'+mytext[:])   #print all character\n",
    "print('mytext[4:]=>'+mytext[4:]) #print from 4th character to the end\n",
    "print('mytext[2:9:2]=>'+mytext[2:9:2] ) #print from 2nd character to the 8 with a step of 2\n",
    "\n",
    "#reverse slicing\n",
    "print('mytext[:4:-1]=>'+mytext[:4:-1]) #print from the end to char 5\n",
    "print('mytext[4::-1]=>'+mytext[4::-1]) #print from the 4 to 0\n",
    "print('mytext[::-1]=>'+mytext[::-1]) #print from the end to the beginning\n",
    "\n",
    "\n"
   ]
  },
  {
   "cell_type": "code",
   "execution_count": 96,
   "metadata": {},
   "outputs": [
    {
     "name": "stdout",
     "output_type": "stream",
     "text": [
      "uoy era woH\n",
      "nohtyp evol I\n",
      " yeH\n"
     ]
    }
   ],
   "source": [
    "#Option 2 - Use slicing to simplify the code\n",
    "def reverse_copy(filename):\n",
    "    # Read source file\n",
    "    f_src = open(filename,'r')\n",
    "    lines = f_src.readlines()\n",
    "    f_src.close()\n",
    "    \n",
    "    # Create new file and write into it\n",
    "    f_dest = open('reverse_line_char.txt','w')\n",
    "    \n",
    "    # Reverse the line with reverse slicing\n",
    "    lines_reversed=lines[::-1]\n",
    "    \n",
    "    #Browse on each line and reverse char\n",
    "    for line in lines_reversed:\n",
    "        f_dest.write(line[::-1])\n",
    "            \n",
    "            \n",
    "reverse_copy('reverse.txt') \n",
    "\n",
    "#read the file\n",
    "f=open(\"reverse_line_char.txt\",\"r\")\n",
    "print(f.read())"
   ]
  },
  {
   "cell_type": "code",
   "execution_count": 66,
   "metadata": {},
   "outputs": [
    {
     "name": "stdout",
     "output_type": "stream",
     "text": [
      "\n",
      "How are you\n",
      "I love python\n",
      "Hey \n",
      "\n"
     ]
    }
   ],
   "source": [
    "# Reverse just the lines\n",
    "def reverse_copy(filename):\n",
    "    #open file / get content / store into a list\n",
    "    f_src = open(filename,'r')\n",
    "    lines = f_src.readlines()\n",
    "    f_src.close()\n",
    "    \n",
    "    #create new file\n",
    "    f_dest = open('reverse_line_char.txt','w')\n",
    "    a=\"\"\n",
    "    i=0\n",
    "    for line in lines:\n",
    "        #we should not add a carriage for the line\n",
    "        if(i==0):\n",
    "            a=line+a\n",
    "        else:\n",
    "            a=\"\\n\"+line+a\n",
    "        i+=1\n",
    "        #print(\"iteration \"+str(i)+\" \"+a)\n",
    "    f_dest.write(a)\n",
    "    f_dest.close()\n",
    "    \n",
    "# call the function            \n",
    "reverse_copy('reverse.txt') \n",
    "\n",
    "#read the file\n",
    "f=open(\"reverse_line_char.txt\",\"r\")\n",
    "print(f.read())"
   ]
  },
  {
   "cell_type": "code",
   "execution_count": 101,
   "metadata": {},
   "outputs": [
    {
     "name": "stdout",
     "output_type": "stream",
     "text": [
      "How are you\n",
      "I love python\n",
      "\n",
      "Hey \n",
      "\n",
      "\n"
     ]
    }
   ],
   "source": [
    "#Option 2 - Use slicing to simplify the code\n",
    "def reverse_copy(filename):\n",
    "    # Read source file\n",
    "    f_src = open(filename,'r')\n",
    "    lines = f_src.readlines()\n",
    "    f_src.close()\n",
    "    \n",
    "    # Create new file and write into it\n",
    "    f_dest = open('reverse_line_char.txt','w')\n",
    "    \n",
    "    # Reverse the line with reverse slicing\n",
    "    lines_reversed=lines[::-1]\n",
    "    i=\n",
    "    for line in lines_reversed:\n",
    "        f_dest.write(line+'\\n')\n",
    "            \n",
    "            \n",
    "reverse_copy('reverse.txt') \n",
    "\n",
    "#read the file\n",
    "f=open(\"reverse_line_char.txt\",\"r\")\n",
    "print(f.read())"
   ]
  },
  {
   "cell_type": "markdown",
   "metadata": {},
   "source": [
    "# Compress\n",
    "Make a function that receives a list of files and another file. This function should concentrate the content of every file and add it to the another file.\n",
    "***\n",
    "Add some comment there "
   ]
  },
  {
   "cell_type": "raw",
   "metadata": {},
   "source": [
    "file1:\n",
    "Hello world\n",
    "I love python\n",
    "\n",
    "file2:\n",
    "Hey, dash from file2\n",
    "\n",
    "file3:\n",
    "HEEEY\n",
    ":)\n",
    "\n",
    "mainfile:\n",
    "Hello world\n",
    "I love python\n",
    "Hey, dash from file2\n",
    "HEEEY\n",
    ":)\n",
    "\n",
    "Bonus:\n",
    "# file1.txt #\n",
    "Hello world\n",
    "I love python\n",
    "\n",
    "# file2.txt #\n",
    "Hey, dash from file2\n",
    "\n",
    "# file3.txt #\n",
    "HEEEY\n",
    ":)"
   ]
  },
  {
   "cell_type": "code",
   "execution_count": 10,
   "metadata": {},
   "outputs": [],
   "source": [
    "def compress(list_filenames):\n",
    "    \n",
    "    mainfile=open('mainfile.txt','w')\n",
    "    \n",
    "    for filename in list_filenames:\n",
    "        f=open(filename,'r')\n",
    "        mainfile.write(f.read()+'\\n')\n",
    "        f.close()\n",
    "    \n",
    "    mainfile.close()\n",
    "        \n",
    "compress([\"file1.txt\",\"file2.txt\",\"file3.txt\"])"
   ]
  },
  {
   "cell_type": "markdown",
   "metadata": {},
   "source": [
    "# Bonus: `splitextension`\n",
    "\n",
    "Make a function that receives a filename like `mylittlefile.txt` and return a list with `[name_of_the_file, extension_of_the_file]`, like `['mylittlefile', '.txt']`.<br>\n",
    "***\n",
    "Try to make the `copy` so he will write into `filename-copy.txt`"
   ]
  },
  {
   "cell_type": "code",
   "execution_count": null,
   "metadata": {},
   "outputs": [],
   "source": []
  }
 ],
 "metadata": {
  "kernelspec": {
   "display_name": "Python 3",
   "language": "python",
   "name": "python3"
  },
  "language_info": {
   "codemirror_mode": {
    "name": "ipython",
    "version": 3
   },
   "file_extension": ".py",
   "mimetype": "text/x-python",
   "name": "python",
   "nbconvert_exporter": "python",
   "pygments_lexer": "ipython3",
   "version": "3.7.3"
  }
 },
 "nbformat": 4,
 "nbformat_minor": 2
}
