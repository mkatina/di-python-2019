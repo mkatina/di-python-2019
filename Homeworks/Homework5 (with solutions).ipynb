{
 "cells": [
  {
   "cell_type": "markdown",
   "metadata": {},
   "source": [
    "# Exercise\n",
    "### step 1\n",
    "Make a dictionnary called `contacts` and add three of your friends with their phone number<br>\n",
    "Example:<pre><code>\n",
    "    {\"Eyal\":\"0586878399\",\n",
    "    \"John\":\"0542815674\",\n",
    "    \"Mario\":\"0512345678\"}\n",
    "</code></pre>\n",
    "\n",
    "### step 2\n",
    "Add another person\n",
    "\n",
    "### step 3 \n",
    "Write a loop that print every contact with his number\n",
    "\n",
    "### step 4\n",
    "Write a code that searches if a given name exists in the contacts\n",
    "\n",
    "### step 5\n",
    "Write a code that searches if a given number exists in the contacts, if it exist, then print his name.\n",
    "\n",
    "### step 6\n",
    "Given another dictionnary of contacts, add it to your dictionnary\n",
    "\n",
    "### step 7\n",
    "Count how many contacts are in your dictionnary\n",
    "\n",
    "### step 8\n",
    "Print the contacts in alphabetic order with their number"
   ]
  },
  {
   "cell_type": "markdown",
   "metadata": {},
   "source": [
    "## step 1"
   ]
  },
  {
   "cell_type": "code",
   "execution_count": null,
   "metadata": {},
   "outputs": [],
   "source": [
    "contacts = {\"Eyal\":\"0586878399\",\n",
    "            \"John\":\"0542815674\",\n",
    "            \"Mario\":\"0512345678\"}\n",
    "\n",
    "contacts['Luigi'] = \"0586878392\"\n",
    "\n",
    "for contact in contacts.keys():\n",
    "    print('{}\\t--> {}'.format(contact, contacts[contact]))"
   ]
  },
  {
   "cell_type": "markdown",
   "metadata": {},
   "source": [
    "## step 2"
   ]
  },
  {
   "cell_type": "code",
   "execution_count": null,
   "metadata": {
    "scrolled": true
   },
   "outputs": [],
   "source": [
    "searched_name = \"Luigi\"\n",
    "for key in contacts.keys():\n",
    "    if key == searched_name:\n",
    "        print(\"Key exists !\")\n",
    "#### SECOND WAY\n",
    "if searched_name in contacts.keys():\n",
    "    print(\"Key exists !\")"
   ]
  },
  {
   "cell_type": "markdown",
   "metadata": {},
   "source": [
    "## Step 3\n"
   ]
  },
  {
   "cell_type": "markdown",
   "metadata": {},
   "source": [
    "### Step5"
   ]
  },
  {
   "cell_type": "code",
   "execution_count": null,
   "metadata": {},
   "outputs": [],
   "source": [
    "searched_number = \"0586878399\"\n",
    "for contact in contacts.keys():\n",
    "    value = contacts[contact]\n",
    "    if value == searched_number:\n",
    "        print(\"{} has this number ! \".format(contact))"
   ]
  },
  {
   "cell_type": "code",
   "execution_count": null,
   "metadata": {},
   "outputs": [],
   "source": [
    "second_contacts = {\"Pedro\":\"05467384903\",\n",
    "                  \"Bowser\":\"05878493890\",\n",
    "                  \"Peach\":\"05555555555\"}\n",
    "\n",
    "for name in second_contacts.keys():\n",
    "    contacts[name] = second_contacts[name]"
   ]
  },
  {
   "cell_type": "code",
   "execution_count": 21,
   "metadata": {},
   "outputs": [
    {
     "name": "stdout",
     "output_type": "stream",
     "text": [
      "7\n",
      "7\n"
     ]
    }
   ],
   "source": [
    "count = 0\n",
    "for name in contacts.keys():\n",
    "    count += 1\n",
    "print(count)\n",
    "### Second way\n",
    "print(len(contacts))\n"
   ]
  },
  {
   "cell_type": "code",
   "execution_count": 30,
   "metadata": {},
   "outputs": [
    {
     "name": "stdout",
     "output_type": "stream",
     "text": [
      "Bowser \t 05878493890\n",
      "Eyal \t 0586878399\n",
      "John \t 0542815674\n",
      "Luigi \t 0586878392\n",
      "Mario \t 0512345678\n",
      "Peach \t 05555555555\n",
      "Pedro \t 05467384903\n"
     ]
    }
   ],
   "source": [
    "list_of_names = list(contacts.keys())\n",
    "list_of_names.sort()\n",
    "\n",
    "for name in list_of_names:\n",
    "    print(name, '\\t',contacts[name])"
   ]
  },
  {
   "cell_type": "code",
   "execution_count": null,
   "metadata": {},
   "outputs": [],
   "source": []
  }
 ],
 "metadata": {
  "kernelspec": {
   "display_name": "Python 3",
   "language": "python",
   "name": "python3"
  },
  "language_info": {
   "codemirror_mode": {
    "name": "ipython",
    "version": 3
   },
   "file_extension": ".py",
   "mimetype": "text/x-python",
   "name": "python",
   "nbconvert_exporter": "python",
   "pygments_lexer": "ipython3",
   "version": "3.6.5"
  }
 },
 "nbformat": 4,
 "nbformat_minor": 2
}
