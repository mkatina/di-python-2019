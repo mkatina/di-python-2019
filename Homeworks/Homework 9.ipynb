{
 "cells": [
  {
   "cell_type": "markdown",
   "metadata": {},
   "source": [
    "# The airport"
   ]
  },
  {
   "cell_type": "markdown",
   "metadata": {},
   "source": [
    "### An airport manager is coming to you and he wants you to help him to manage his airport"
   ]
  },
  {
   "cell_type": "markdown",
   "metadata": {},
   "source": [
    "He wants a class `Airport`, this class should have those attributes:\n",
    "-  capacity (how many planes can be in the airport)\n",
    "-  current of planes (how many planes are in the aiport now)\n",
    "-  Name\n"
   ]
  },
  {
   "cell_type": "markdown",
   "metadata": {},
   "source": [
    "It also need those methods:\n",
    "-  `plane_in` --> This function is adding a plane to the airport, you need to check if the airport can handle it\n",
    "-  `plane_out` --> This function is flying a plane out of the airport"
   ]
  },
  {
   "cell_type": "markdown",
   "metadata": {},
   "source": [
    "# The restaurant"
   ]
  },
  {
   "cell_type": "markdown",
   "metadata": {},
   "source": [
    "A class `Restaurant`, Every table can receive 5 people, with those attributes:\n",
    "\n",
    "-  `capacity` --> int\n",
    "-  `nb_of_tables` --> int\n",
    "-  `current_clients` --> Dictionnary {1:True, 2:False, 3:True... for every table}\n",
    "-  `opening_hour` --> int\n",
    "-  `closing_hour` --> int\n",
    "\n",
    "And those methods:\n",
    "-  `client_in` --> if you can add them, return true and add them to a table, but you have to check that the restaurant is open, arguments are how many client want to get in and the hour\n",
    "-  `table_out` --> every clients of a table leave, the table is now free, arguments are which table is leaving\n"
   ]
  },
  {
   "cell_type": "code",
   "execution_count": null,
   "metadata": {},
   "outputs": [],
   "source": []
  }
 ],
 "metadata": {
  "kernelspec": {
   "display_name": "Python 3",
   "language": "python",
   "name": "python3"
  },
  "language_info": {
   "codemirror_mode": {
    "name": "ipython",
    "version": 3
   },
   "file_extension": ".py",
   "mimetype": "text/x-python",
   "name": "python",
   "nbconvert_exporter": "python",
   "pygments_lexer": "ipython3",
   "version": "3.6.5"
  }
 },
 "nbformat": 4,
 "nbformat_minor": 2
}
