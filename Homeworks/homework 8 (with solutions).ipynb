{
 "cells": [
  {
   "cell_type": "markdown",
   "metadata": {
    "tags": [
     "Array"
    ]
   },
   "source": [
    "# Candles\n",
    "On the birthday's cake of your little brother, there is one candle for each year of his total age. When he blows out, he's only able to blow out the tallest ones. Your job is to find how many candles he can blow out.<br>\n",
    "The input is an array that represents the heights of the candles<br>\n",
    "Your output should be the number of candles he'll be able to blow out.<br>\n",
    "Example:<br>\n",
    "Input: `[5,4,3,2,5,5]`\n",
    "He can blow only 3 candles (the candles that have a height of 5)<br>\n",
    "Output: `3`\n"
   ]
  },
  {
   "cell_type": "code",
   "execution_count": 1,
   "metadata": {},
   "outputs": [
    {
     "name": "stdout",
     "output_type": "stream",
     "text": [
      "5 is the max number, it appears 3 times\n"
     ]
    }
   ],
   "source": [
    "heights = [5,4,3,2,5,5]\n",
    "\n",
    "# Find the tallest candle\n",
    "maximum = 0\n",
    "for number in heights:\n",
    "    if number > maximum:\n",
    "        maximum = number\n",
    "        \n",
    "# Count how many times is the maximum in the list\n",
    "count = 0\n",
    "for number in heights:\n",
    "    if number == maximum:\n",
    "        count += 1\n",
    "\n",
    "# Print the output\n",
    "print(\"{} is the max number, it appears {} times\".format(maximum, count))"
   ]
  },
  {
   "cell_type": "markdown",
   "metadata": {},
   "source": [
    "# Frame\n",
    "Write a function that takes a list of strings an prints them, one per line, in a rectangular frame. <br>\n",
    "For example the list [\"Hello\", \"World\", \"in\", \"reallylongword\", \"a\", \"frame\"] gets printed as:\n",
    "<pre>\n",
    "******************\n",
    "* Hello          *\n",
    "* World          *\n",
    "* in             *\n",
    "* reallylongword *\n",
    "* a              *\n",
    "* frame          *\n",
    "******************\n",
    "</pre>"
   ]
  },
  {
   "cell_type": "markdown",
   "metadata": {},
   "source": [
    "# What is the output ? \n",
    "Execute that code manually and find the output.<br>\n",
    "What is the purpose of it ?"
   ]
  },
  {
   "cell_type": "code",
   "execution_count": null,
   "metadata": {},
   "outputs": [],
   "source": [
    "def insertion_sort(alist):\n",
    "   for index in range(1,len(alist)):\n",
    "\n",
    "     currentvalue = alist[index]\n",
    "     position = index\n",
    "\n",
    "     while position>0 and alist[position-1]>currentvalue:\n",
    "         alist[position]=alist[position-1]\n",
    "         position = position-1\n",
    "\n",
    "     alist[position]=currentvalue\n",
    "\n",
    "alist = [54,26,93,17,77,31,44,55,20]\n",
    "insertionSort(alist)\n",
    "print(alist)"
   ]
  },
  {
   "cell_type": "markdown",
   "metadata": {},
   "source": [
    "# -- --- .-. ... . / -.-. --- -.. .\n",
    "Write a program that automatically converts English text to Morse code and vice versa"
   ]
  },
  {
   "cell_type": "code",
   "execution_count": 8,
   "metadata": {
    "scrolled": true
   },
   "outputs": [
    {
     "name": "stdout",
     "output_type": "stream",
     "text": [
      ".. / -.-. .- -. / -.-. --- -.. . / .. -. / -- --- .-. ... . \n"
     ]
    }
   ],
   "source": [
    "message = \"I can code in morse\"\n",
    "\n",
    "translation_table = { 'A':'.-', 'B':'-...', \n",
    "                    'C':'-.-.', 'D':'-..', 'E':'.', \n",
    "                    'F':'..-.', 'G':'--.', 'H':'....', \n",
    "                    'I':'..', 'J':'.---', 'K':'-.-', \n",
    "                    'L':'.-..', 'M':'--', 'N':'-.', \n",
    "                    'O':'---', 'P':'.--.', 'Q':'--.-', \n",
    "                    'R':'.-.', 'S':'...', 'T':'-', \n",
    "                    'U':'..-', 'V':'...-', 'W':'.--', \n",
    "                    'X':'-..-', 'Y':'-.--', 'Z':'--..',\n",
    "                    ' ':'/'}\n",
    "encoded_msg = \"\"\n",
    "for letter in message:\n",
    "    upper_letter   = letter.upper()\n",
    "    encoded_letter = translation_table[upper_letter]\n",
    "    encoded_msg   += encoded_letter + ' '\n",
    "\n",
    "print(encoded_msg)"
   ]
  }
 ],
 "metadata": {
  "kernelspec": {
   "display_name": "Python 3",
   "language": "python",
   "name": "python3"
  },
  "language_info": {
   "codemirror_mode": {
    "name": "ipython",
    "version": 3
   },
   "file_extension": ".py",
   "mimetype": "text/x-python",
   "name": "python",
   "nbconvert_exporter": "python",
   "pygments_lexer": "ipython3",
   "version": "3.6.5"
  }
 },
 "nbformat": 4,
 "nbformat_minor": 2
}
