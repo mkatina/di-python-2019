{
 "cells": [
  {
   "cell_type": "markdown",
   "metadata": {},
   "source": [
    "# Exercise\n",
    "### step 1\n",
    "Make a dictionnary called `contacts` and add three of your friends with their phone number<br>\n",
    "Example:<pre><code>\n",
    "    {\"Eyal\":\"0586878399\",\n",
    "    \"John\":\"0542815674\",\n",
    "    \"Mario\":\"0512345678\"}\n",
    "</code></pre>\n",
    "\n",
    "### step 2\n",
    "Add another person\n",
    "\n",
    "### step 3 \n",
    "Write a loop that print every contact with his number\n",
    "\n",
    "### step 4\n",
    "Write a code that searches if a given name exists in the contacts\n",
    "\n",
    "### step 5\n",
    "Write a code that searches if a given number exists in the contacts, if it exist, then print his name.\n",
    "\n",
    "### step 6\n",
    "Given another dictionnary of contacts, add it to your dictionnary\n",
    "\n",
    "### step 7\n",
    "Count how many contacts are in your dictionnary\n",
    "\n",
    "### step 8\n",
    "Print the contacts in alphabetic order with their number"
   ]
  },
  {
   "cell_type": "code",
   "execution_count": null,
   "metadata": {},
   "outputs": [],
   "source": []
  }
 ],
 "metadata": {
  "kernelspec": {
   "display_name": "Python 3",
   "language": "python",
   "name": "python3"
  },
  "language_info": {
   "codemirror_mode": {
    "name": "ipython",
    "version": 3
   },
   "file_extension": ".py",
   "mimetype": "text/x-python",
   "name": "python",
   "nbconvert_exporter": "python",
   "pygments_lexer": "ipython3",
   "version": "3.6.5"
  }
 },
 "nbformat": 4,
 "nbformat_minor": 2
}
