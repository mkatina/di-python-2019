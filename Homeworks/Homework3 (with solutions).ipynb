{
 "cells": [
  {
   "cell_type": "markdown",
   "metadata": {},
   "source": [
    "# Exercise 1 - Crypt\n",
    "Convert a string into password format<br>\n",
    "Example:<br>\n",
    "input : \"mypassword\"<br>\n",
    "output: \"**********\""
   ]
  },
  {
   "cell_type": "code",
   "execution_count": 1,
   "metadata": {},
   "outputs": [
    {
     "name": "stdout",
     "output_type": "stream",
     "text": [
      "mypassword --> **********\n"
     ]
    }
   ],
   "source": [
    "mystring = \"mypassword\"\n",
    "mypwd = \"\"\n",
    "i = 0\n",
    "while i < len(mystring):\n",
    "    mypwd += \"*\"\n",
    "    i += 1\n",
    "print(\"{} --> {}\".format(mystring, mypwd))"
   ]
  },
  {
   "cell_type": "markdown",
   "metadata": {},
   "source": [
    "# Exercise 2 - spaces count\n",
    "Count the number of spaces in a string"
   ]
  },
  {
   "cell_type": "code",
   "execution_count": 2,
   "metadata": {},
   "outputs": [
    {
     "name": "stdout",
     "output_type": "stream",
     "text": [
      "There is 11 spaces in your string\n"
     ]
    }
   ],
   "source": [
    "mystring = \"I am a string i am really happy to be here !\"\n",
    "c = 0\n",
    "index = 0\n",
    "while index < len(mystring):\n",
    "    if mystring[index] == ' ':\n",
    "        c += 1\n",
    "    index += 1\n",
    "print(\"There is {} spaces in your string\".format(c))"
   ]
  },
  {
   "cell_type": "markdown",
   "metadata": {},
   "source": [
    "# Exercise 3 - word count\n",
    "Count the number of words in a string"
   ]
  },
  {
   "cell_type": "code",
   "execution_count": 4,
   "metadata": {},
   "outputs": [
    {
     "name": "stdout",
     "output_type": "stream",
     "text": [
      "there are 5 words\n"
     ]
    }
   ],
   "source": [
    "mystring = \"  I am a string, hello  \"\n",
    "mystring = mystring.strip()\n",
    "\n",
    "nb_of_spaces = 0\n",
    "letter_index = 0\n",
    "\n",
    "while letter_index < len(mystring):\n",
    "    if mystring[letter_index] == \" \":\n",
    "        nb_of_spaces += 1\n",
    "    letter_index += 1\n",
    "\n",
    "nb_of_words = nb_of_spaces + 1\n",
    "print(\"there are {} words\".format(nb_of_words))\n",
    "\n"
   ]
  },
  {
   "cell_type": "markdown",
   "metadata": {},
   "source": [
    "# Bonus - Cipher\n",
    "Encrypt and decrypt a string with caesar cipher "
   ]
  },
  {
   "cell_type": "code",
   "execution_count": 24,
   "metadata": {},
   "outputs": [
    {
     "name": "stdout",
     "output_type": "stream",
     "text": [
      "I am a clear string\n",
      "M EQ E GPIEV WXVMRK\n"
     ]
    }
   ],
   "source": [
    "clear_string = \"I am a clear string\"\n",
    "key = 4\n",
    "alphabet = \"ABCDEFGHIJKLMNOPQRSTUVWXYZ\"\n",
    "\n",
    "encrypted_str = \"\"\n",
    "\n",
    "i = 0\n",
    "while i < len(clear_string):\n",
    "    current_letter = clear_string[i].upper()\n",
    "    if current_letter == \" \" or current_letter == \".\":\n",
    "        encrypted_str += current_letter\n",
    "        i += 1\n",
    "        continue\n",
    "    # ENCRYPT A LETTER\n",
    "    letter_index = alphabet.index(current_letter)\n",
    "    new_index = letter_index + key\n",
    "    if new_index > 25:\n",
    "        new_index -= 27\n",
    "    new_letter = alphabet[new_index]\n",
    "    # END OF ENCRYPTION\n",
    "    encrypted_str += new_letter\n",
    "    i += 1\n",
    "\n",
    "print(clear_string)\n",
    "print(encrypted_str)\n",
    "\n",
    "\n"
   ]
  },
  {
   "cell_type": "code",
   "execution_count": null,
   "metadata": {},
   "outputs": [],
   "source": []
  }
 ],
 "metadata": {
  "kernelspec": {
   "display_name": "Python 3",
   "language": "python",
   "name": "python3"
  },
  "language_info": {
   "codemirror_mode": {
    "name": "ipython",
    "version": 3
   },
   "file_extension": ".py",
   "mimetype": "text/x-python",
   "name": "python",
   "nbconvert_exporter": "python",
   "pygments_lexer": "ipython3",
   "version": "3.6.5"
  }
 },
 "nbformat": 4,
 "nbformat_minor": 2
}
