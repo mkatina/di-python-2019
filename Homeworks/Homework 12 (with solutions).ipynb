{
 "cells": [
  {
   "cell_type": "markdown",
   "metadata": {},
   "source": [
    "# 1) Find the output of this program:"
   ]
  },
  {
   "cell_type": "code",
   "execution_count": 1,
   "metadata": {
    "scrolled": false
   },
   "outputs": [
    {
     "name": "stdout",
     "output_type": "stream",
     "text": [
      "Macabi Team, 5 players\n",
      "0- Roger, 21 years old\n",
      "1- Mario, 19 years old\n",
      "2- Luigi, 20 years old\n",
      "3- Peach, 17 years old\n",
      "4- Alex, 22 years old\n",
      "\n",
      "\n",
      "Hapoel Team, 5 players\n",
      "0- Pedro, 21 years old\n",
      "1- Yoni, 19 years old\n",
      "2- Elie, 20 years old\n",
      "3- Jack, 17 years old\n",
      "4- Vladimir, 22 years old\n",
      "\n",
      "\n"
     ]
    }
   ],
   "source": [
    "class Player:\n",
    "    def __init__(self, name, age):\n",
    "        self.name = name\n",
    "        self.age  = age\n",
    "    \n",
    "    def __repr__(self):\n",
    "        return self.name\n",
    "    \n",
    "class SoccerTeam:\n",
    "    \n",
    "    def __init__(self, name):\n",
    "        self.name    = name.capitalize()\n",
    "        self.players = []\n",
    "    \n",
    "    def add_player(self, player):\n",
    "        self.players.append(player)\n",
    "        \n",
    "    def describe_team(self):\n",
    "        print(\"{} Team, {} players\".format(self.name, len(self.players)))\n",
    "        i = 0\n",
    "        for player in self.players:\n",
    "            print(\"{}- {}, {} years old\".format(i,player, player.age))\n",
    "            i += 1\n",
    "        print(\"\\n\")\n",
    "    \n",
    "    \n",
    "team = SoccerTeam(\"macabi\")\n",
    "team.add_player(Player(\"Roger\", 21))\n",
    "team.add_player(Player(\"Mario\", 19))\n",
    "team.add_player(Player(\"Luigi\", 20))\n",
    "team.add_player(Player(\"Peach\", 17))\n",
    "team.add_player(Player(\"Alex\", 22))\n",
    "\n",
    "team2 = SoccerTeam(\"Hapoel\")\n",
    "team2.add_player(Player(\"Pedro\", 21))\n",
    "team2.add_player(Player(\"Yoni\", 19))\n",
    "team2.add_player(Player(\"Elie\", 20))\n",
    "team2.add_player(Player(\"Jack\", 17))\n",
    "team2.add_player(Player(\"Vladimir\", 22))\n",
    "\n",
    "team.describe_team()\n",
    "team2.describe_team()"
   ]
  },
  {
   "cell_type": "markdown",
   "metadata": {},
   "source": []
  }
 ],
 "metadata": {
  "kernelspec": {
   "display_name": "Python 3",
   "language": "python",
   "name": "python3"
  },
  "language_info": {
   "codemirror_mode": {
    "name": "ipython",
    "version": 3
   },
   "file_extension": ".py",
   "mimetype": "text/x-python",
   "name": "python",
   "nbconvert_exporter": "python",
   "pygments_lexer": "ipython3",
   "version": "3.6.5"
  }
 },
 "nbformat": 4,
 "nbformat_minor": 2
}
