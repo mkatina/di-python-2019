{
 "cells": [
  {
   "cell_type": "markdown",
   "metadata": {},
   "source": [
    "# Dictionnaries"
   ]
  },
  {
   "cell_type": "markdown",
   "metadata": {},
   "source": [
    "## Exercise 1:\n",
    "Difficulty: ~<br><br>\n",
    "Create a dictionnary called <code>my_dict</code> and put your name, your age and your city inside<br>\n",
    "This should look like:\n",
    "<code style=\"display:inline\">{\"name\":\"Eyal\", \"age\":20, \"city\":\"Hertselia\"}</code><br>\n",
    "Then (after the declaration of the dict) add your email<br>\n",
    "At the end, it should look like:\n",
    "<code style=\"display:inline\">{\"name\":\"Eyal\", \"age\":20, \"city\":\"Hertselia\", \"email\":\"eyal.work@chocron.eu\"}</code><br>\n",
    "- All this exercise should be done manually<br>\n",
    "- Try to do it without looking at your class notes<br>\n"
   ]
  },
  {
   "cell_type": "code",
   "execution_count": null,
   "metadata": {},
   "outputs": [],
   "source": [
    "mydict = {\n",
    "    \"name\":\"Eyal\",\n",
    "    \"age\": 20,\n",
    "    \"city\": \"Hertselia\"\n",
    "}\n",
    "mydict[\"email\"] = \"eyal.work@chocron.eu\"\n",
    "\n",
    "print(mydict)"
   ]
  },
  {
   "cell_type": "markdown",
   "metadata": {},
   "source": [
    "## Exercise 2:\n",
    "Difficulty: ~~<br><br>\n",
    "\n",
    "With your dictionnary from exercise 1, make a loop that print \"my ... is ...\" for every key and value in the dictionnary.<br>\n",
    "For example, mine would be:<br>\n",
    "<code style=\"display:block\">my name is Eyal<br>my age is 20<br>my city is Hertselia</code>"
   ]
  },
  {
   "cell_type": "code",
   "execution_count": 2,
   "metadata": {},
   "outputs": [
    {
     "name": "stdout",
     "output_type": "stream",
     "text": [
      "my name is Eyal\n",
      "my age is 20\n",
      "my city is Hertselia\n",
      "my email is eyal.work@chocron.eu\n"
     ]
    }
   ],
   "source": [
    "for key in mydict.keys():\n",
    "    print(\"my {} is {}\".format(key, mydict[key]))"
   ]
  },
  {
   "cell_type": "markdown",
   "metadata": {},
   "source": [
    "## Exercise 3: copy\n",
    "Difficulty : ~~<br>\n",
    "Write a function that receives a dictionnary in input, and return a copy of that dictionnary<br>\n",
    "<strong>Be Careful:</strong> You can't use <code>dict2 = dict1</code> otherwise <code>dict2</code> will just be an alias of <code>dict1</code>"
   ]
  },
  {
   "cell_type": "code",
   "execution_count": null,
   "metadata": {},
   "outputs": [],
   "source": [
    "def copy_dict(mydict):\n",
    "    copy_of_mydict = {}\n",
    "    for key in mydict.keys():\n",
    "        copy_of_mydict[key] = mydict[key]\n",
    "    return copy_of_mydict\n",
    "\n",
    "new_dict = copy_dict(mydict)\n",
    "# new_dict = mydict.copy() #"
   ]
  },
  {
   "cell_type": "markdown",
   "metadata": {},
   "source": [
    "## Exercise 4: has_key\n",
    "Difficulty: ~~ <br>\n",
    "Write a function that receives a dictionnary and an element as arguments, and check if the key exist in your dictionnary"
   ]
  },
  {
   "cell_type": "code",
   "execution_count": null,
   "metadata": {
    "scrolled": true
   },
   "outputs": [],
   "source": [
    "def has_key(mydict, searched_key):\n",
    "    for key in mydict.keys():\n",
    "        if searched_key == key:\n",
    "            return True    \n",
    "    return False\n",
    "\n",
    "mydict = {\"name\":\"Eyal\",\n",
    "         \"age\":20,\n",
    "         \"city\":\"Tel Aviv\"}\n",
    "\n",
    "if has_key(mydict, \"city\"):\n",
    "    print(\"True\")\n",
    "    \n",
    "if \"city\" in mydict.keys():\n",
    "    print(\"True\")"
   ]
  },
  {
   "cell_type": "markdown",
   "metadata": {},
   "source": [
    "## Exercise 5: fromkeys\n",
    "Difficulty: ~~~ <br>\n",
    "Write a function that receives a dictionnary, and return a dictionnary with the sames keys, but all values are set to None<br><br>\n",
    "<small>None is a python keyword that just mean Nothing, we use it when we want to define a variable without assigning a value to it</small><br>\n",
    "Example:"
   ]
  },
  {
   "cell_type": "code",
   "execution_count": 20,
   "metadata": {},
   "outputs": [],
   "source": [
    "none_value = False\n",
    "if none_value:\n",
    "    print(\"True\")"
   ]
  },
  {
   "cell_type": "code",
   "execution_count": 47,
   "metadata": {},
   "outputs": [],
   "source": [
    "my_dict = {\"Name\": \"Eyal\",\n",
    "          \"Age\":20,\n",
    "          \"Email\": 'eyal.work@chocron.eu'}\n",
    "\n",
    "# my_function(my_dict) will output:\n",
    "my_new_dict = {\"Name\": None,\n",
    "              \"Age\": None,\n",
    "              \"Email\": None}"
   ]
  },
  {
   "cell_type": "code",
   "execution_count": null,
   "metadata": {},
   "outputs": [],
   "source": [
    "def from_keys(mydict):\n",
    "    none_dict = {}\n",
    "    for key in mydict.keys(): \n",
    "        none_dict[key] = None\n",
    "    return none_dict\n",
    "\n",
    "none_dict = from_keys(my_dict)\n",
    "print(none_dict)\n",
    "\n",
    "none_dict = dict.fromkeys(my_dict.keys())\n",
    "print(none_dict)\n",
    "\n",
    "none_dict = dict.fromkeys([\"mykey1\", \"mykey2\", \"mykey3\", \"and...\"], \"myvalue\")\n",
    "print(none_dict)"
   ]
  },
  {
   "cell_type": "markdown",
   "metadata": {},
   "source": [
    "## Exercise 6: compare\n",
    "Difficulty: ~~~ <br>\n",
    "Write a function that receives two dicts in argument, and print the differences that exist between them<br>\n",
    "\n",
    "Example:<br>\n"
   ]
  },
  {
   "cell_type": "code",
   "execution_count": 33,
   "metadata": {},
   "outputs": [],
   "source": [
    "my_dict = {\"Name\": \"Eyal\",\n",
    "          \"Age\":20,\n",
    "          \"Email\": 'eyal.work@chocron.eu'}\n",
    "\n",
    "my_dict_2 = {\"Name\": \"Eyal\",\n",
    "            \"Age\": 18,\n",
    "            \"Email\": 'eyal@gmail.com'}\n",
    "\n",
    "###### Example of output:\n",
    "# Their names are both Eyal\n",
    "# Their ages are different (20 and 18)\n",
    "# Their emails are different (eyal.work@chocron.eu and eyal@gmail.com)\n",
    "#"
   ]
  },
  {
   "cell_type": "code",
   "execution_count": null,
   "metadata": {
    "scrolled": true
   },
   "outputs": [],
   "source": [
    "def compare(my_dict, my_dict_2):\n",
    "    for key in my_dict.keys():\n",
    "        if my_dict[key] == my_dict_2[key]:\n",
    "            print(\"They have the same\",key)\n",
    "        else:\n",
    "            print(\"Their {} are differents\".format(key))\n",
    "            \n",
    "compare(my_dict, my_dict_2)"
   ]
  },
  {
   "cell_type": "markdown",
   "metadata": {},
   "source": [
    "# Exceptions"
   ]
  },
  {
   "cell_type": "markdown",
   "metadata": {},
   "source": [
    "## Exercise 1:\n",
    "Difficulty: ~\n",
    "\n",
    "Ask for the user to input a number, as many times as he wants, continue to ask him until he input \"STOP\", and then print the sum of the numbers he gave to you, your program should never crash."
   ]
  },
  {
   "cell_type": "code",
   "execution_count": 39,
   "metadata": {},
   "outputs": [
    {
     "name": "stdout",
     "output_type": "stream",
     "text": [
      "Input a number\n",
      "4\n",
      "Input a number\n",
      "5\n",
      "Input a number\n",
      "2\n",
      "Input a number\n",
      "weouj\n",
      "This is not a number\n",
      "Input a number\n",
      "2\n",
      "Input a number\n",
      "3\n",
      "Input a number\n",
      "stop\n",
      "The sum is: 16\n"
     ]
    }
   ],
   "source": [
    "my_sum = 0\n",
    "while True:\n",
    "    user_nb = input(\"Input a number\\n\")\n",
    "    if user_nb == \"stop\":\n",
    "        break\n",
    "    else:\n",
    "        try:\n",
    "            user_nb = int(user_nb)\n",
    "            my_sum += user_nb\n",
    "        except:\n",
    "            print(\"This is not a number\")\n",
    "        \n",
    "        \n",
    "print(\"The sum is:\",my_sum)"
   ]
  },
  {
   "cell_type": "markdown",
   "metadata": {},
   "source": [
    "### "
   ]
  }
 ],
 "metadata": {
  "kernelspec": {
   "display_name": "Python 3",
   "language": "python",
   "name": "python3"
  },
  "language_info": {
   "codemirror_mode": {
    "name": "ipython",
    "version": 3
   },
   "file_extension": ".py",
   "mimetype": "text/x-python",
   "name": "python",
   "nbconvert_exporter": "python",
   "pygments_lexer": "ipython3",
   "version": "3.6.5"
  }
 },
 "nbformat": 4,
 "nbformat_minor": 2
}
