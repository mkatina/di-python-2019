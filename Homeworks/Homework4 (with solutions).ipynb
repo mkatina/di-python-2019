{
 "cells": [
  {
   "cell_type": "markdown",
   "metadata": {},
   "source": [
    "# Exercise 1\n",
    "Given a list, print it in reverse way"
   ]
  },
  {
   "cell_type": "code",
   "execution_count": null,
   "metadata": {
    "scrolled": true
   },
   "outputs": [],
   "source": [
    "mylist = [1,2,3,4,5,6]\n",
    "i = len(mylist) - 1\n",
    "\n",
    "while i >= 0:\n",
    "    print(mylist[i])\n",
    "    i -= 1\n",
    "    \n",
    "# 2nd way\n",
    "i = 1\n",
    "while i <= len(mylist):\n",
    "    print(mylist[-i])\n",
    "    i += 1"
   ]
  },
  {
   "cell_type": "markdown",
   "metadata": {},
   "source": [
    "# Exercise 2\n",
    "Store every element of a list into a string"
   ]
  },
  {
   "cell_type": "code",
   "execution_count": null,
   "metadata": {},
   "outputs": [],
   "source": [
    "mystring = \"\"\n",
    "mylist = ['hey',2,'two','too',3,'tree','three']\n",
    "\n",
    "i = 0\n",
    "while i < len(mylist):\n",
    "    mystring += str(mylist[i])+\" \"\n",
    "    i += 1\n",
    "\n",
    "print(mystring)"
   ]
  },
  {
   "cell_type": "markdown",
   "metadata": {},
   "source": [
    "# Exercise 3\n",
    "Given a list of numbers `[5,12,4,2,39,1,2,3,15,123,59]`, count the number of elements that are bigger than 10"
   ]
  },
  {
   "cell_type": "code",
   "execution_count": null,
   "metadata": {},
   "outputs": [],
   "source": [
    "mylist = [5,12,4,2,39,1,2,3,15,123,59]\n",
    "count  = 0\n",
    "\n",
    "i = 0 \n",
    "while i < len(mylist):\n",
    "    if mylist[i] > 10:\n",
    "        count += 1\n",
    "    i += 1\n",
    "    \n",
    "print(\"There are {} numbers bigger than 10 in the list\".format(count))"
   ]
  }
 ],
 "metadata": {
  "kernelspec": {
   "display_name": "Python 3",
   "language": "python",
   "name": "python3"
  },
  "language_info": {
   "codemirror_mode": {
    "name": "ipython",
    "version": 3
   },
   "file_extension": ".py",
   "mimetype": "text/x-python",
   "name": "python",
   "nbconvert_exporter": "python",
   "pygments_lexer": "ipython3",
   "version": "3.6.5"
  }
 },
 "nbformat": 4,
 "nbformat_minor": 2
}
