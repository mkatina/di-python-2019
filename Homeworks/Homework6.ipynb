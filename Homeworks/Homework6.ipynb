{
 "cells": [
  {
   "cell_type": "markdown",
   "metadata": {},
   "source": [
    "# For loop"
   ]
  },
  {
   "cell_type": "markdown",
   "metadata": {},
   "source": [
    "## Exercise 1: argmax\n",
    "\n",
    "Given a list of integers and using a for loop, return the maximum value in the list"
   ]
  },
  {
   "cell_type": "code",
   "execution_count": 1,
   "metadata": {},
   "outputs": [
    {
     "name": "stdout",
     "output_type": "stream",
     "text": [
      "362457\n"
     ]
    }
   ],
   "source": [
    "my_list = [3,2,5346,7,2457,243,362457,2456,]\n",
    "maximum_value = 0\n",
    "\n",
    "for element in my_list:\n",
    "    if element > maximum_value:\n",
    "        maximum_value = element\n",
    "\n",
    "print(maximum_value)"
   ]
  },
  {
   "cell_type": "markdown",
   "metadata": {},
   "source": [
    "## Exercise 2: copy\n",
    "\n",
    "Copy all the element in one list to another one"
   ]
  },
  {
   "cell_type": "code",
   "execution_count": null,
   "metadata": {},
   "outputs": [],
   "source": [
    "my_list = [3,2,5346,7,2457,243,362457,2456,]\n",
    "my_list_2 = []\n",
    "\n",
    "for element in my_list:\n",
    "    my_list_2.append(element)\n",
    "\n",
    "print(my_list_2)"
   ]
  },
  {
   "cell_type": "code",
   "execution_count": 3,
   "metadata": {},
   "outputs": [],
   "source": [
    "my_list_2 = my_list.copy()"
   ]
  },
  {
   "cell_type": "markdown",
   "metadata": {},
   "source": [
    "## Exercise 3: enumerate\n",
    "Given a list and using a for loop, print every element of the list with his index in the list<br/>|\n",
    "Example: <pre>\n",
    "my_list = [\"this\", \"is\", \"a\", \"list\"]\n",
    "</pre>\n",
    "output:<pre> \n",
    "0-\"this\"\n",
    "1-\"is\"\n",
    "2-\"a\"\n",
    "3-\"list\"\n",
    "</pre>"
   ]
  },
  {
   "cell_type": "code",
   "execution_count": null,
   "metadata": {
    "scrolled": false
   },
   "outputs": [],
   "source": [
    "ix = 0\n",
    "for element in my_list:\n",
    "    print(ix,\": \",element)\n",
    "    ix+=1"
   ]
  },
  {
   "cell_type": "markdown",
   "metadata": {},
   "source": [
    "# Functions"
   ]
  },
  {
   "cell_type": "markdown",
   "metadata": {},
   "source": [
    "## Exercise 1: count\n",
    "\n",
    "Write a function that receive two arguments : my_list and my_variable<br>\n",
    "This function need to return the number of occurences of my_variable in my_list\n",
    "\n",
    "Example:\n",
    "<pre>\n",
    "my_function([1,2,3,5,5,5], 5) --> \"The number 5 appears 3 times in the list\"\n",
    "</pre>\n"
   ]
  },
  {
   "cell_type": "code",
   "execution_count": null,
   "metadata": {},
   "outputs": [],
   "source": [
    "my_list = [1,1,1,2,3,5,4,1,8]\n",
    "\n",
    "def list_count(my_list, variable_to_count):\n",
    "    c = 0\n",
    "    for element in my_list:\n",
    "        if element == variable_to_count:\n",
    "            c += 1\n",
    "    \n",
    "    return c"
   ]
  },
  {
   "cell_type": "markdown",
   "metadata": {},
   "source": [
    "## Exercise 2: join\n",
    "\n",
    "Write a function that receive a list of strings.<br>\n",
    "This function needs to return a string that concatenate every strings in the list separated by a space<br>\n",
    "Example:\n",
    "<pre>\n",
    "my_function(['this', 'is', 'a', 'string']) --> \"this is a string\"\n",
    "</pre>"
   ]
  },
  {
   "cell_type": "code",
   "execution_count": null,
   "metadata": {},
   "outputs": [],
   "source": [
    "my_list = [\"this\", \"is\", 'a', 'list']\n",
    "\n",
    "def join_list(my_list, sep=' '):\n",
    "    my_string = \"\"\n",
    "    for element in my_list:\n",
    "        my_string += sep+str(element)\n",
    "    \n",
    "    print(my_string)\n",
    "    \n",
    "join_list(my_list)"
   ]
  },
  {
   "cell_type": "markdown",
   "metadata": {},
   "source": [
    "## Exercise 3: is upper\n",
    "\n",
    "Write a function that receive a string in argument and returns if all the characters are uppercase or not\n",
    "\n",
    "Example:\n",
    "<pre>\n",
    "my_function(\"THIS IS A STRING\") --> True\n",
    "</pre>"
   ]
  },
  {
   "cell_type": "code",
   "execution_count": 18,
   "metadata": {},
   "outputs": [],
   "source": [
    "def is_uppercase(my_string):\n",
    "    return my_string.uppercase() == my_string\n",
    "        "
   ]
  },
  {
   "cell_type": "code",
   "execution_count": 24,
   "metadata": {},
   "outputs": [
    {
     "name": "stdout",
     "output_type": "stream",
     "text": [
      "my name is Eyal my age is 3.24625\n"
     ]
    }
   ],
   "source": [
    "age = 3.24625\n",
    "name = 'Eyal'\n",
    "print(\"my name is {} my age is {}\".format(name, age))"
   ]
  },
  {
   "cell_type": "code",
   "execution_count": null,
   "metadata": {},
   "outputs": [],
   "source": []
  }
 ],
 "metadata": {
  "kernelspec": {
   "display_name": "Python 3",
   "language": "python",
   "name": "python3"
  },
  "language_info": {
   "codemirror_mode": {
    "name": "ipython",
    "version": 3
   },
   "file_extension": ".py",
   "mimetype": "text/x-python",
   "name": "python",
   "nbconvert_exporter": "python",
   "pygments_lexer": "ipython3",
   "version": "3.6.5"
  }
 },
 "nbformat": 4,
 "nbformat_minor": 2
}
