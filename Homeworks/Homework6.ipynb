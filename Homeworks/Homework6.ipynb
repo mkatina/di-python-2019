{
 "cells": [
  {
   "cell_type": "markdown",
   "metadata": {},
   "source": [
    "# For loop"
   ]
  },
  {
   "cell_type": "markdown",
   "metadata": {},
   "source": [
    "## Exercise 1: argmax\n",
    "\n",
    "Given a list of integers and using a for loop, return the maximum value in the list"
   ]
  },
  {
   "cell_type": "code",
   "execution_count": 10,
   "metadata": {},
   "outputs": [
    {
     "name": "stdout",
     "output_type": "stream",
     "text": [
      "34\n"
     ]
    }
   ],
   "source": [
    "mylist = [3,4,1,2,34,5,24,1,23,25,6]\n",
    "\n",
    "def argmax(mylist):\n",
    "    max_nb = mylist[0]\n",
    "    for number in mylist:\n",
    "        if number > max_nb:\n",
    "            max_nb = number\n",
    "            \n",
    "    return max_nb\n",
    "\n",
    "maximum = argmax(mylist)\n",
    "print(maximum)"
   ]
  },
  {
   "cell_type": "code",
   "execution_count": null,
   "metadata": {
    "scrolled": true
   },
   "outputs": [],
   "source": [
    "max(mylist)"
   ]
  },
  {
   "cell_type": "markdown",
   "metadata": {},
   "source": [
    "## Exercise 2: copy\n",
    "\n",
    "Copy all the element in one list to another one"
   ]
  },
  {
   "cell_type": "code",
   "execution_count": 6,
   "metadata": {},
   "outputs": [
    {
     "name": "stdout",
     "output_type": "stream",
     "text": [
      "[5, 3, 1, 'hey', 'String']\n"
     ]
    }
   ],
   "source": [
    "mylist  = [5,3,1,\"hey\", \"String\"]\n",
    "mylist2 = []\n",
    "\n",
    "for element in mylist:\n",
    "    mylist2.append(element)\n",
    "\n",
    "print(mylist2)"
   ]
  },
  {
   "cell_type": "code",
   "execution_count": null,
   "metadata": {},
   "outputs": [],
   "source": [
    "mylist  = [5,3,1,\"hey\", \"String\"]\n",
    "mylist2 = mylist.copy()"
   ]
  },
  {
   "cell_type": "markdown",
   "metadata": {},
   "source": [
    "## Exercise 3: enumerate\n",
    "Given a list and using a for loop, print every element of the list with his index in the list<br/>\n",
    "Example: <pre>\n",
    "my_list = [\"this\", \"is\", \"a\", \"list\"]\n",
    "</pre>\n",
    "output:<pre> \n",
    "0-\"this\"\n",
    "1-\"is\"\n",
    "2-\"a\"\n",
    "3-\"list\"\n",
    "</pre>"
   ]
  },
  {
   "cell_type": "code",
   "execution_count": null,
   "metadata": {
    "scrolled": true
   },
   "outputs": [],
   "source": [
    "mylist = [\"Hey\", \"Its\", 5,\"Me\", 75,\"Eyal\", 99]\n",
    "index  = 0\n",
    "for element in mylist:\n",
    "    print(\"{} --> {}\".format(index,element))\n",
    "    index += 1"
   ]
  },
  {
   "cell_type": "code",
   "execution_count": null,
   "metadata": {},
   "outputs": [],
   "source": [
    "mylist = [\"Hey\", \"Its\", 5,\"Me\", 75,\"Eyal\", 99]\n",
    "\n",
    "for index, element in enumerate(mylist):\n",
    "    print(index, element)"
   ]
  },
  {
   "cell_type": "markdown",
   "metadata": {},
   "source": [
    "# Functions"
   ]
  },
  {
   "cell_type": "markdown",
   "metadata": {},
   "source": [
    "## Exercise 1: count\n",
    "\n",
    "Write a function that receive two arguments : my_list and my_variable<br>\n",
    "This function need to return the number of occurences of my_variable in my_list\n",
    "\n",
    "Example:\n",
    "<pre>\n",
    "my_function([1,2,3,5,5,5], 5) --> \"The number 5 appears 3 times in the list\"\n",
    "</pre>\n"
   ]
  },
  {
   "cell_type": "code",
   "execution_count": 19,
   "metadata": {},
   "outputs": [
    {
     "name": "stdout",
     "output_type": "stream",
     "text": [
      "4\n"
     ]
    }
   ],
   "source": [
    "def my_function(my_list, my_variable):\n",
    "    count = 0\n",
    "    for element in my_list:\n",
    "        if element == my_variable:\n",
    "            count += 1\n",
    "    return count\n",
    "\n",
    "hm_2 = my_function([4,3,1,2,23,3,2,2,2,3,5,], 2)\n",
    "print(hm_2)"
   ]
  },
  {
   "cell_type": "code",
   "execution_count": 21,
   "metadata": {},
   "outputs": [
    {
     "data": {
      "text/plain": [
       "3"
      ]
     },
     "execution_count": 21,
     "metadata": {},
     "output_type": "execute_result"
    }
   ],
   "source": [
    "mylist = [\"Lets\", \"Try \", \"It\", \"And\", \"You\", \"will\", \"see\", \"see\", \"see\"]\n",
    "mylist.count(\"see\")"
   ]
  },
  {
   "cell_type": "markdown",
   "metadata": {},
   "source": [
    "## Exercise 2: join\n",
    "\n",
    "Write a function that receive a list of strings.<br>\n",
    "This function needs to return a string that concatenate every strings in the list separated by a space<br>\n",
    "Example:\n",
    "<pre>\n",
    "my_function(['this', 'is', 'a', 'string']) --> \"this is a string\"\n",
    "</pre>"
   ]
  },
  {
   "cell_type": "code",
   "execution_count": 36,
   "metadata": {},
   "outputs": [
    {
     "name": "stdout",
     "output_type": "stream",
     "text": [
      "Lets Try It And You will see \n"
     ]
    }
   ],
   "source": [
    "def chocolate(mylist):\n",
    "    joined_string = \"\" \n",
    "    for word in mylist:\n",
    "        joined_string += word\n",
    "        joined_string += \" \"\n",
    "    return joined_string\n",
    "\n",
    "chocolate_list = [\"Lets\", \"Try\", \"It\", \"And\", \"You\", \"will\", \"see\"]\n",
    "result         = chocolate(chocolate_list)\n",
    "print(result)"
   ]
  },
  {
   "cell_type": "code",
   "execution_count": 35,
   "metadata": {},
   "outputs": [
    {
     "data": {
      "text/plain": [
       "'Lets Try It And You will see'"
      ]
     },
     "execution_count": 35,
     "metadata": {},
     "output_type": "execute_result"
    }
   ],
   "source": [
    "mylist = [\"Lets\", \"Try\", \"It\", \"And\", \"You\", \"will\", \"see\"]\n",
    "\"\"\" \"\"\".join(mylist)"
   ]
  },
  {
   "cell_type": "markdown",
   "metadata": {},
   "source": [
    "## Exercise 3: is upper\n",
    "\n",
    "Write a function that receive a string in argument and returns if all the characters are uppercase or not\n",
    "\n",
    "Example:\n",
    "<pre>\n",
    "my_function(\"THIS IS A STRING\") --> True\n",
    "</pre>"
   ]
  },
  {
   "cell_type": "code",
   "execution_count": 41,
   "metadata": {},
   "outputs": [
    {
     "name": "stdout",
     "output_type": "stream",
     "text": [
      "True\n"
     ]
    }
   ],
   "source": [
    "def chocolate_isupper(my_string):\n",
    "    return my_string == my_string.upper()\n",
    "\n",
    "chocolate_string = \"HELLO WORLD \"\n",
    "result = chocolate_isupper(chocolate_string)\n",
    "print(result)\n"
   ]
  },
  {
   "cell_type": "code",
   "execution_count": 50,
   "metadata": {
    "scrolled": false
   },
   "outputs": [
    {
     "data": {
      "text/plain": [
       "True"
      ]
     },
     "execution_count": 50,
     "metadata": {},
     "output_type": "execute_result"
    }
   ],
   "source": [
    "chocolate_string = \"HELLO WORLD\"\n",
    "chocolate_string.isupper()"
   ]
  },
  {
   "cell_type": "markdown",
   "metadata": {},
   "source": [
    "## Exercise 4: Count upper and lower\n",
    "\n",
    "In a string, count how many letters are upper and how many are lower."
   ]
  },
  {
   "cell_type": "code",
   "execution_count": 52,
   "metadata": {},
   "outputs": [
    {
     "name": "stdout",
     "output_type": "stream",
     "text": [
      "There are 7 lower letters, 6 uppers letters and 16 characters in total\n"
     ]
    }
   ],
   "source": [
    "def count_upper_and_lower(my_string):\n",
    "    alphabet      = \"abcdefghijklmnopqrstuvwxyrz\" # A is not in alphabet\n",
    "    upper_counter = 0\n",
    "    lower_counter = 0\n",
    "    for letter in my_string:\n",
    "        # Check if it's a letter\n",
    "        if letter.lower() in alphabet:\n",
    "            # Check if it's upper or lower\n",
    "            if letter.upper() == letter:\n",
    "                # Upper letter\n",
    "                upper_counter += 1\n",
    "            else:\n",
    "                # Lower letter\n",
    "                lower_counter += 1\n",
    "    return [upper_counter, lower_counter]\n",
    "\n",
    "my_string = \"ThiS iS A StRing\"\n",
    "result = count_upper_and_lower(my_string)\n",
    "upper_counter = result[0]\n",
    "lower_counter = result[1]\n",
    "\n",
    "print(\"There are {} lower letters, {} uppers letters and {} characters in total\".format(lower_counter, \n",
    "                                                                                        upper_counter, \n",
    "                                                                                        len(my_string)))"
   ]
  },
  {
   "cell_type": "code",
   "execution_count": null,
   "metadata": {},
   "outputs": [],
   "source": []
  }
 ],
 "metadata": {
  "kernelspec": {
   "display_name": "Python 3",
   "language": "python",
   "name": "python3"
  },
  "language_info": {
   "codemirror_mode": {
    "name": "ipython",
    "version": 3
   },
   "file_extension": ".py",
   "mimetype": "text/x-python",
   "name": "python",
   "nbconvert_exporter": "python",
   "pygments_lexer": "ipython3",
   "version": "3.6.5"
  }
 },
 "nbformat": 4,
 "nbformat_minor": 2
}
