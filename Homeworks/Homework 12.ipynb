{
 "cells": [
  {
   "cell_type": "markdown",
   "metadata": {},
   "source": [
    "# 1) Find the output of this program:"
   ]
  },
  {
   "cell_type": "code",
   "execution_count": null,
   "metadata": {
    "scrolled": true
   },
   "outputs": [],
   "source": [
    "class Player:\n",
    "    def __init__(self, name, age):\n",
    "        self.name = name\n",
    "        self.age  = age\n",
    "    \n",
    "    def __repr__(self):\n",
    "        return self.name\n",
    "    \n",
    "class SoccerTeam:\n",
    "    \n",
    "    def __init__(self, name):\n",
    "        self.name    = name.capitalize()\n",
    "        self.players = []\n",
    "    \n",
    "    def add_player(self, player):\n",
    "        self.players.append(player)\n",
    "        \n",
    "    def describe_team(self):\n",
    "        print(\"{} Team, {} players\".format(self.name, len(self.players)))\n",
    "        i = 0\n",
    "        for player in self.players:\n",
    "            print(\"{}- {}\".format(i,player))\n",
    "            i += 1\n",
    "        print(\"\\n\")\n",
    "    \n",
    "    \n",
    "team = SoccerTeam(\"macabi\")\n",
    "team.add_player(Player(\"Roger\", 21))\n",
    "team.add_player(Player(\"Mario\", 19))\n",
    "team.add_player(Player(\"Luigi\", 20))\n",
    "team.add_player(Player(\"Peach\", 17))\n",
    "team.add_player(Player(\"Alex\", 22))\n",
    "\n",
    "team2 = SoccerTeam(\"Hapoel\")\n",
    "team2.add_player(Player(\"Pedro\", 21))\n",
    "team2.add_player(Player(\"Yoni\", 19))\n",
    "team2.add_player(Player(\"Elie\", 20))\n",
    "team2.add_player(Player(\"Jack\", 17))\n",
    "team2.add_player(Player(\"Vladimir\", 22))\n",
    "\n",
    "team.describe_team()\n",
    "team2.describe_team()"
   ]
  },
  {
   "cell_type": "markdown",
   "metadata": {},
   "source": [
    "# 2) Create game and players\n",
    "### a) Create a `Game` class\n",
    "\n",
    "This class should be a parent class for almost every game on earth.<br>\n",
    "We need those attributes:<br>\n",
    "-  `name` (string: name of the game)\n",
    "-  `list_of_players` (list: list of players objects)\n",
    "-  `scoreboard`  (dict: every player - number of times he won)\n",
    "<br>\n",
    "And those functions:<br>\n",
    "-  `play` (For now the function is only saying `playing the game...`)\n",
    "\n",
    "### b) Create a `Player` class\n",
    "This class should be a parent class for every players.<br>\n",
    "Attributes:<br>\n",
    "-  `name` (string: name)\n",
    "-  `current_game` (`Game` object: the game he is currently playing, else `None`)\n",
    "\n",
    "Methods:<br>\n",
    "-  `\n"
   ]
  }
 ],
 "metadata": {
  "kernelspec": {
   "display_name": "Python 3",
   "language": "python",
   "name": "python3"
  },
  "language_info": {
   "codemirror_mode": {
    "name": "ipython",
    "version": 3
   },
   "file_extension": ".py",
   "mimetype": "text/x-python",
   "name": "python",
   "nbconvert_exporter": "python",
   "pygments_lexer": "ipython3",
   "version": "3.6.5"
  }
 },
 "nbformat": 4,
 "nbformat_minor": 2
}
