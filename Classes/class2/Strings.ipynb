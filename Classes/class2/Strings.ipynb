{
 "cells": [
  {
   "cell_type": "markdown",
   "metadata": {},
   "source": [
    "# Strings \n"
   ]
  },
  {
   "cell_type": "markdown",
   "metadata": {},
   "source": [
    "## Format methods\n",
    "-  lower() --> lower every letters\n",
    "-  upper() --> upper every letters\n",
    "-  title() --> capitalize first letter of each word\n",
    "-  capitalize() --> capitalize the first letter of the string\n",
    "-  format(var1, var2, var3) --> Replace every {} in the string by the variables inside the brackets (by order)"
   ]
  },
  {
   "cell_type": "code",
   "execution_count": 9,
   "metadata": {},
   "outputs": [
    {
     "name": "stdout",
     "output_type": "stream",
     "text": [
      "mystring --> HELLO WORLD !\n",
      "mystring.lower() --> hello world !\n",
      "mystring.upper() --> HELLO WORLD !\n",
      "mystring.title() --> Hello World !\n",
      "mystring.capialize() --> Hello world !\n",
      "My name is eyal and my age is 70\n"
     ]
    }
   ],
   "source": [
    "mystring = \"HELLO WORLD !\"\n",
    "\n",
    "print(\"mystring -->\",mystring)\n",
    "print(\"mystring.lower() -->\",mystring.lower())\n",
    "print(\"mystring.upper() -->\",mystring.upper())\n",
    "print(\"mystring.title() -->\",mystring.title())\n",
    "print(\"mystring.capialize() -->\",mystring.capitalize())\n",
    "\n",
    "name = \"eyal\"\n",
    "age = 70\n",
    "mystring = \"My name is {} and my age is {}\".format(name, age)\n",
    "print(mystring)"
   ]
  },
  {
   "cell_type": "markdown",
   "metadata": {},
   "source": [
    "## Get string info\n",
    "-  len(string) --> return the length of a string (integer)\n"
   ]
  },
  {
   "cell_type": "code",
   "execution_count": 11,
   "metadata": {},
   "outputs": [
    {
     "name": "stdout",
     "output_type": "stream",
     "text": [
      "10\n"
     ]
    }
   ],
   "source": [
    "print(len(mystring))"
   ]
  },
  {
   "cell_type": "markdown",
   "metadata": {},
   "source": [
    "## Indexing a string\n",
    "-  index a variable by using square brackets `nameofthevariable[index]`\n",
    "-  String indexes are numbers, they start from 0\n",
    "-  Each index is a letter in the string"
   ]
  },
  {
   "cell_type": "markdown",
   "metadata": {},
   "source": [
    "mystring = \"helloworld\"\n",
    "print(mystring[0])\n"
   ]
  },
  {
   "cell_type": "markdown",
   "metadata": {},
   "source": [
    "## String methods"
   ]
  },
  {
   "cell_type": "markdown",
   "metadata": {},
   "source": [
    "### print"
   ]
  },
  {
   "cell_type": "code",
   "execution_count": null,
   "metadata": {},
   "outputs": [],
   "source": [
    "mystring = \"helloworld\"\n",
    "\n",
    "i = 0\n",
    "while i < len(mystring):\n",
    "    print(mystring[i])\n",
    "    i += 1"
   ]
  },
  {
   "cell_type": "markdown",
   "metadata": {},
   "source": [
    "### Copy"
   ]
  },
  {
   "cell_type": "code",
   "execution_count": 15,
   "metadata": {},
   "outputs": [
    {
     "name": "stdout",
     "output_type": "stream",
     "text": [
      "helloworld\n"
     ]
    }
   ],
   "source": [
    "mystring = \"helloworld\"\n",
    "mystring2 = \"\"\n",
    "\n",
    "i = 0\n",
    "while i < len(mystring):\n",
    "    mystring2 += mystring[i]\n",
    "    i += 1\n",
    "print(mystring2)"
   ]
  },
  {
   "cell_type": "markdown",
   "metadata": {},
   "source": [
    "### replace\n"
   ]
  },
  {
   "cell_type": "code",
   "execution_count": 16,
   "metadata": {
    "scrolled": true
   },
   "outputs": [
    {
     "name": "stdout",
     "output_type": "stream",
     "text": [
      "hello world\n"
     ]
    }
   ],
   "source": [
    "mystring = \"hexxo worxd\"\n",
    "mystring2 = \"\"\n",
    "\n",
    "i = 0\n",
    "while i < len(mystring):\n",
    "    letter = mystring[i]\n",
    "    if letter == 'x':\n",
    "        mystring2 += 'l'\n",
    "    else:\n",
    "        mystring2 += letter\n",
    "    i += 1\n",
    "\n",
    "mystring = mystring2\n",
    "print(mystring)"
   ]
  },
  {
   "cell_type": "markdown",
   "metadata": {},
   "source": [
    "-  replace() method --> string.replace(LETTER_TO_REPLACE, LETTER_TO_ADD)"
   ]
  },
  {
   "cell_type": "code",
   "execution_count": 17,
   "metadata": {},
   "outputs": [
    {
     "name": "stdout",
     "output_type": "stream",
     "text": [
      "hello world\n"
     ]
    }
   ],
   "source": [
    "mystring = \"hexxo worxd\"\n",
    "mystring2 = mystring.replace('x', 'l')\n",
    "print(mystring2)"
   ]
  },
  {
   "cell_type": "markdown",
   "metadata": {},
   "source": [
    "## Reverse a string"
   ]
  },
  {
   "cell_type": "code",
   "execution_count": 3,
   "metadata": {},
   "outputs": [
    {
     "name": "stdout",
     "output_type": "stream",
     "text": [
      "! dlrow olleH\n"
     ]
    }
   ],
   "source": [
    "mystring = \"Hello world !\"\n",
    "mystring2 = \"\"\n",
    "\n",
    "i = len(mystring)-1\n",
    "while i >= 0:\n",
    "    mystring2 += mystring[i]\n",
    "    i -= 1\n",
    "    \n",
    "print(mystring2)"
   ]
  },
  {
   "cell_type": "markdown",
   "metadata": {},
   "source": [
    "## Access a group of letters\n",
    "-  Slice a string --> mystring[begin:end]"
   ]
  },
  {
   "cell_type": "code",
   "execution_count": 16,
   "metadata": {
    "scrolled": true
   },
   "outputs": [
    {
     "name": "stdout",
     "output_type": "stream",
     "text": [
      "my slice is <Hello>\n"
     ]
    }
   ],
   "source": [
    "mystring = \"Hello world\"\n",
    "mystring2 = mystring[:5]\n",
    "print(\"my slice is <{}>\".format(mystring2))"
   ]
  },
  {
   "cell_type": "markdown",
   "metadata": {},
   "source": [
    "### Strip"
   ]
  },
  {
   "cell_type": "code",
   "execution_count": 23,
   "metadata": {},
   "outputs": [
    {
     "name": "stdout",
     "output_type": "stream",
     "text": [
      "i am a string\n"
     ]
    }
   ],
   "source": [
    "mystring = \"    i am a string   \"\n",
    "mystring2 = \"\"\n",
    "i = 0\n",
    "while i < len(mystring):\n",
    "    if mystring[i] != ' ': # We saw a letter\n",
    "        mystring2 = mystring[i:]\n",
    "        break\n",
    "    i += 1\n",
    "\n",
    "i = len(mystring2) - 1\n",
    "while i >= 0:\n",
    "    if mystring[i] != ' ': # We saw a letter\n",
    "        mystring2 = mystring[:i+1]\n",
    "        break\n",
    "    i -= 1\n",
    "\n",
    "print(mystring2)\n"
   ]
  },
  {
   "cell_type": "code",
   "execution_count": 25,
   "metadata": {},
   "outputs": [
    {
     "name": "stdout",
     "output_type": "stream",
     "text": [
      "I am   a  string\n"
     ]
    }
   ],
   "source": [
    "mystring = \" I am   a  string   \"\n",
    "print(mystring.strip())"
   ]
  },
  {
   "cell_type": "markdown",
   "metadata": {},
   "source": [
    "## String starts with"
   ]
  },
  {
   "cell_type": "code",
   "execution_count": 31,
   "metadata": {},
   "outputs": [
    {
     "name": "stdout",
     "output_type": "stream",
     "text": [
      "hello world starts with hello\n"
     ]
    }
   ],
   "source": [
    "mystring = \"hello world\"\n",
    "beginning = \"hello\"\n",
    "\n",
    "# first_letters = mystring[0:len(beginning)]\n",
    "# if first_letters == beginning:\n",
    "#     print(\"{} starts with {}\".format(mystring, beginning))\n",
    "# else:\n",
    "#     print(\"{} do not start with {}\".format(mystring, beginning))\n",
    "\n",
    "i = 0\n",
    "success = True\n",
    "while i < len(beginning):\n",
    "    if beginning[i] != mystring[i]:\n",
    "        success = False\n",
    "    i += 1\n",
    "if success == True:\n",
    "    print(\"{} starts with {}\".format(mystring, beginning))\n",
    "else:\n",
    "    print(\"{} do not start with {}\".format(mystring, beginning))\n",
    "\n",
    "    "
   ]
  },
  {
   "cell_type": "code",
   "execution_count": 35,
   "metadata": {},
   "outputs": [
    {
     "data": {
      "text/plain": [
       "True"
      ]
     },
     "execution_count": 35,
     "metadata": {},
     "output_type": "execute_result"
    }
   ],
   "source": [
    "mystring = \"hello world\"\n",
    "mystring.startswith(\"hello\")\n",
    "mystring.endswith(\"rld\")"
   ]
  },
  {
   "cell_type": "markdown",
   "metadata": {},
   "source": [
    "# Resume\n",
    "-  Index a string: mystring[index]\n",
    "-  Slice a string: mystring[from:to]\n",
    "-  Replace a letter in a string: mystring.replace(TO_BE_REPLACED, NEW_LETTER)\n",
    "-  Remove bad whitespaces: mystring.strip()\n",
    "-  Check if a string start with another strings: mystring.startswith(STRING_TO_CHECK)\n",
    "-  Run over every letter of a string:\n",
    "<pre><code>\n",
    "mystring = \"hello world\"\n",
    "i = 0\n",
    "while i < len(mystring):\n",
    "        letter = mystring[i]\n",
    "        i += 1\n",
    "</code></pre>\n",
    "-  Run over every letter of a string in reverse:\n",
    "<pre><code>\n",
    "mystring = \"hello world\"\n",
    "i = len(mystring)-1\n",
    "while i >= 0:\n",
    "        letter = mystring[i]\n",
    "        i -= 1\n",
    "</code></pre>"
   ]
  },
  {
   "cell_type": "code",
   "execution_count": null,
   "metadata": {},
   "outputs": [],
   "source": []
  }
 ],
 "metadata": {
  "kernelspec": {
   "display_name": "Python 3",
   "language": "python",
   "name": "python3"
  },
  "language_info": {
   "codemirror_mode": {
    "name": "ipython",
    "version": 3
   },
   "file_extension": ".py",
   "mimetype": "text/x-python",
   "name": "python",
   "nbconvert_exporter": "python",
   "pygments_lexer": "ipython3",
   "version": "3.6.5"
  }
 },
 "nbformat": 4,
 "nbformat_minor": 2
}
