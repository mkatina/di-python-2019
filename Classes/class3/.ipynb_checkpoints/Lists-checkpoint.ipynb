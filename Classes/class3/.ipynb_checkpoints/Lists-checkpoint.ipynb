{
 "cells": [
  {
   "cell_type": "markdown",
   "metadata": {},
   "source": [
    "# Lists\n",
    "****\n",
    "### Defining a list --> Square brackets\n",
    "`mylist = [4,2,10]`<br>\n",
    "*Please don't call you list `list`*\n",
    "****\n",
    "### Access an element with his index\n",
    "`mylist[1]` is 2\n",
    "****\n",
    "### Get the length of the list\n",
    "`len(mylist)`\n"
   ]
  },
  {
   "cell_type": "markdown",
   "metadata": {},
   "source": [
    "## Looping over a list\n",
    "With a while loop"
   ]
  },
  {
   "cell_type": "code",
   "execution_count": null,
   "metadata": {},
   "outputs": [],
   "source": [
    "mylist = [5,10,15]\n",
    "i = 0 \n",
    "while i < len(mylist):\n",
    "    print(mylist[i])\n",
    "    i += 1"
   ]
  },
  {
   "cell_type": "markdown",
   "metadata": {},
   "source": [
    "## Slicing a list\n"
   ]
  },
  {
   "cell_type": "code",
   "execution_count": 1,
   "metadata": {},
   "outputs": [
    {
     "name": "stdout",
     "output_type": "stream",
     "text": [
      "[3, 4, 5]\n",
      "[1, 2, 3, 4, 5]\n",
      "[6, 7, 8, 9, 10]\n"
     ]
    }
   ],
   "source": [
    "mylist = [1,2,3,4,5,6,7,8,9,10]\n",
    "sliced = mylist[2:5] # 5 IS NOT INCLUDED\n",
    "print(sliced)\n",
    "\n",
    "print(mylist[:5])\n",
    "print(mylist[5:])\n"
   ]
  },
  {
   "cell_type": "markdown",
   "metadata": {},
   "source": [
    "## Modifying an element"
   ]
  },
  {
   "cell_type": "code",
   "execution_count": 6,
   "metadata": {},
   "outputs": [
    {
     "name": "stdout",
     "output_type": "stream",
     "text": [
      "[1, 2, 3, 10, 'hey', 6, 7]\n"
     ]
    }
   ],
   "source": [
    "arr = [1,2,3,4,8,6,7]\n",
    "arr[3] = 10\n",
    "my_age = 19\n",
    "arr[4] = \"hey\"\n",
    "print(arr)"
   ]
  },
  {
   "cell_type": "markdown",
   "metadata": {},
   "source": [
    "## Adding and deleting elements"
   ]
  },
  {
   "cell_type": "code",
   "execution_count": 10,
   "metadata": {},
   "outputs": [
    {
     "name": "stdout",
     "output_type": "stream",
     "text": [
      "[1, 2, 3, 5]\n",
      "[1, 2, 3, 5, 'HEY']\n"
     ]
    }
   ],
   "source": [
    "arr = [1,2,3]\n",
    "arr.append(5)\n",
    "print(arr)\n",
    "arr.append('HEY')\n",
    "print(arr)"
   ]
  },
  {
   "cell_type": "markdown",
   "metadata": {},
   "source": [
    "## Adding two lists together"
   ]
  },
  {
   "cell_type": "code",
   "execution_count": 14,
   "metadata": {},
   "outputs": [
    {
     "name": "stdout",
     "output_type": "stream",
     "text": [
      "[3, 2, 1, 40, 50, 60]\n",
      "[3, 2, 1]\n"
     ]
    }
   ],
   "source": [
    "arr1 = [3,2,1]\n",
    "arr2 = [40,50,60]\n",
    "arr3 = arr1.copy()\n",
    "i = 0\n",
    "while i < len(arr2):\n",
    "    arr3.append(arr2[i])\n",
    "    i += 1\n",
    "print(arr3)\n",
    "print(arr1)"
   ]
  },
  {
   "cell_type": "markdown",
   "metadata": {},
   "source": [
    "## Sorting a list"
   ]
  },
  {
   "cell_type": "code",
   "execution_count": 17,
   "metadata": {},
   "outputs": [
    {
     "name": "stdout",
     "output_type": "stream",
     "text": [
      "[1, 2, 3, 5, 7, 4, 2, 34, 6]\n",
      "[1, 2, 2, 3, 4, 5, 6, 7, 34]\n"
     ]
    }
   ],
   "source": [
    "arr = [1,2,3,5,7,4,2,34,6,]\n",
    "arr2 = sorted(arr)\n",
    "print(arr)\n",
    "print(arr2)"
   ]
  },
  {
   "cell_type": "markdown",
   "metadata": {},
   "source": [
    "## Copying a list"
   ]
  },
  {
   "cell_type": "code",
   "execution_count": 20,
   "metadata": {},
   "outputs": [
    {
     "name": "stdout",
     "output_type": "stream",
     "text": [
      "6\n"
     ]
    }
   ],
   "source": [
    "arr = [1,2,3,6,5,4]\n",
    "arr2 = arr.copy()\n",
    "print(len(arr2))"
   ]
  },
  {
   "cell_type": "markdown",
   "metadata": {},
   "source": [
    "## Maximum and minimum"
   ]
  },
  {
   "cell_type": "markdown",
   "metadata": {},
   "source": [
    "## Sum"
   ]
  },
  {
   "cell_type": "code",
   "execution_count": null,
   "metadata": {},
   "outputs": [],
   "source": [
    "arr = [3,5,2,234,5,2,1]\n",
    "sum_of_nbs = 0\n",
    "i = 0\n",
    "while i < len(arr):\n",
    "    sum_of_nbs += arr[i]\n",
    "    i += 1"
   ]
  },
  {
   "cell_type": "markdown",
   "metadata": {},
   "source": [
    "## in keyword"
   ]
  },
  {
   "cell_type": "code",
   "execution_count": 25,
   "metadata": {},
   "outputs": [],
   "source": [
    "arr = [3,6,2,234,46,1]\n",
    "nb = 234\n",
    "\n",
    "if nb in arr:\n",
    "    print(\"Yes\")\n"
   ]
  },
  {
   "cell_type": "markdown",
   "metadata": {},
   "source": [
    "***\n",
    "# Exercises"
   ]
  },
  {
   "cell_type": "markdown",
   "metadata": {},
   "source": [
    "Print all the elements on odd positions in a list.\n"
   ]
  },
  {
   "cell_type": "code",
   "execution_count": 26,
   "metadata": {},
   "outputs": [
    {
     "name": "stdout",
     "output_type": "stream",
     "text": [
      "3\n",
      "234\n",
      "641\n",
      "415\n"
     ]
    }
   ],
   "source": [
    "arr = [2,3,51,234,16,641,571547,415,134]\n",
    "i = 0\n",
    "while i < len(arr):\n",
    "    if i % 2 != 0:\n",
    "        print(arr[i])\n",
    "    i += 1"
   ]
  },
  {
   "cell_type": "code",
   "execution_count": 29,
   "metadata": {},
   "outputs": [
    {
     "name": "stdout",
     "output_type": "stream",
     "text": [
      "4\n",
      "6\n",
      "4\n",
      "456\n",
      "888\n",
      "888\n"
     ]
    }
   ],
   "source": [
    "arr = [4,6,4,456,888]\n",
    "for element in arr:\n",
    "    print(element)\n",
    "\n",
    "print(element)"
   ]
  },
  {
   "cell_type": "code",
   "execution_count": null,
   "metadata": {},
   "outputs": [],
   "source": []
  }
 ],
 "metadata": {
  "kernelspec": {
   "display_name": "Python 3",
   "language": "python",
   "name": "python3"
  },
  "language_info": {
   "codemirror_mode": {
    "name": "ipython",
    "version": 3
   },
   "file_extension": ".py",
   "mimetype": "text/x-python",
   "name": "python",
   "nbconvert_exporter": "python",
   "pygments_lexer": "ipython3",
   "version": "3.6.5"
  }
 },
 "nbformat": 4,
 "nbformat_minor": 2
}
