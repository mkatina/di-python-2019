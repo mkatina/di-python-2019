{
 "cells": [
  {
   "cell_type": "markdown",
   "metadata": {},
   "source": [
    "# Exceptions"
   ]
  },
  {
   "cell_type": "code",
   "execution_count": null,
   "metadata": {},
   "outputs": [],
   "source": [
    "def whats_your_age():\n",
    "    age = input(\"What is your age?\\n>>> \")\n",
    "    print(\"You are {} years old\".format(age))\n",
    "    age = int(age)\n",
    "    age += 1\n",
    "    print(\"The next year, you will be {} years old\".format(age))\n",
    "    \n",
    "whats_your_age()"
   ]
  },
  {
   "cell_type": "markdown",
   "metadata": {},
   "source": [
    "## Handling an exception"
   ]
  },
  {
   "cell_type": "markdown",
   "metadata": {},
   "source": [
    "### The try-catch block"
   ]
  },
  {
   "cell_type": "code",
   "execution_count": null,
   "metadata": {},
   "outputs": [],
   "source": [
    "def whats_your_age():\n",
    "    age = input(\"What is your age?\\n>>> \")\n",
    "\n",
    "    \n",
    "    try:\n",
    "        age = int(age)\n",
    "    except ValueError:\n",
    "        age = 0\n",
    "    \n",
    "    print('my_new_variable:',my_new_variable)\n",
    "    print(\"You are {} years old\".format(age))\n",
    "    age += 1\n",
    "    print(\"The next year, you will be {} years old\".format(age))\n",
    "    \n",
    "whats_your_age()"
   ]
  },
  {
   "cell_type": "markdown",
   "metadata": {},
   "source": [
    "### The else statement"
   ]
  },
  {
   "cell_type": "code",
   "execution_count": null,
   "metadata": {},
   "outputs": [],
   "source": [
    "def whats_your_age():\n",
    "    age = input(\"What is your age?\\n>>> \")\n",
    "\n",
    "    \n",
    "    try:\n",
    "        age = int(age)\n",
    "    except ValueError:\n",
    "        age = 0\n",
    "    else:\n",
    "        age = 10\n",
    "    \n",
    "    print(\"You are {} years old\".format(age))\n",
    "    age += 1\n",
    "    print(\"The next year, you will be {} years old\".format(age))\n",
    "    \n",
    "whats_your_age()"
   ]
  },
  {
   "cell_type": "markdown",
   "metadata": {},
   "source": [
    "### The finally statement"
   ]
  },
  {
   "cell_type": "code",
   "execution_count": null,
   "metadata": {},
   "outputs": [],
   "source": [
    "def whats_your_age():\n",
    "    age = input(\"What is your age?\\n>>> \")\n",
    "\n",
    "    \n",
    "    try:\n",
    "        age = int(age)\n",
    "    except ValueError:\n",
    "        age = 0\n",
    "    else:\n",
    "        age = 10\n",
    "    finally:\n",
    "        age += 1\n",
    "        \n",
    "    print(\"You are {} years old\".format(age))\n",
    "    age += 1\n",
    "    print(\"The next year, you will be {} years old\".format(age))\n",
    "    \n",
    "whats_your_age()"
   ]
  },
  {
   "cell_type": "markdown",
   "metadata": {},
   "source": [
    "## Raising an exception"
   ]
  },
  {
   "cell_type": "code",
   "execution_count": null,
   "metadata": {},
   "outputs": [],
   "source": [
    "try:\n",
    "    assert 1 == 4\n",
    "except AssertionError:\n",
    "    print(\"Those are not equals\")"
   ]
  },
  {
   "cell_type": "markdown",
   "metadata": {},
   "source": [
    "****"
   ]
  },
  {
   "cell_type": "markdown",
   "metadata": {},
   "source": [
    "# Exercises:"
   ]
  },
  {
   "cell_type": "markdown",
   "metadata": {},
   "source": [
    "# 1 : User input checking\n",
    "\n",
    "Write a function that ask two persons for their ages, and then returns who is older.\n",
    "Don't let them input something that is not an integer."
   ]
  }
 ],
 "metadata": {
  "kernelspec": {
   "display_name": "Python 3",
   "language": "python",
   "name": "python3"
  },
  "language_info": {
   "codemirror_mode": {
    "name": "ipython",
    "version": 3
   },
   "file_extension": ".py",
   "mimetype": "text/x-python",
   "name": "python",
   "nbconvert_exporter": "python",
   "pygments_lexer": "ipython3",
   "version": "3.6.5"
  }
 },
 "nbformat": 4,
 "nbformat_minor": 2
}
