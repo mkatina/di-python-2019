{
 "cells": [
  {
   "cell_type": "markdown",
   "metadata": {},
   "source": [
    "## What is the output of"
   ]
  },
  {
   "cell_type": "code",
   "execution_count": null,
   "metadata": {
    "scrolled": true
   },
   "outputs": [],
   "source": [
    "lim = 6\n",
    "for i in range(lim):\n",
    "    print(i*\"#\")"
   ]
  },
  {
   "cell_type": "code",
   "execution_count": null,
   "metadata": {
    "scrolled": true
   },
   "outputs": [],
   "source": [
    "lim = 6\n",
    "for i in range(lim):\n",
    "    print(\" \"*(lim-i)+\"#\"*i)"
   ]
  },
  {
   "cell_type": "code",
   "execution_count": null,
   "metadata": {},
   "outputs": [],
   "source": [
    "mylist = [1,2,3,4,5,6,7,8,9]\n",
    "my_new_list = []\n",
    "\n",
    "for elem in mylist:\n",
    "    if elem < 5:\n",
    "        my_new_list.append(elem)"
   ]
  },
  {
   "cell_type": "code",
   "execution_count": 8,
   "metadata": {},
   "outputs": [],
   "source": [
    "mylist = [1,2,3,4,5,6,7,8,9]\n",
    "my_new_list = []\n",
    "\n",
    "for elem in mylist:\n",
    "    if elem < 5 or elem > 8:\n",
    "        my_new_list.append(elem)"
   ]
  },
  {
   "cell_type": "code",
   "execution_count": null,
   "metadata": {},
   "outputs": [],
   "source": [
    "def remdup(mylist):\n",
    "    my_new_list = []\n",
    "    for elem in mylist:\n",
    "        if elem not in my_new_list: # if (elem in mylist) == False\n",
    "            my_new_list.append(elem)\n",
    "    return my_new_list\n",
    "\n",
    "print(remdup([5,2,3,1,4,5,3,2]))"
   ]
  },
  {
   "cell_type": "code",
   "execution_count": 11,
   "metadata": {},
   "outputs": [],
   "source": [
    "mydict = {\"Hello\":\"World\", \"Tel\":\"Aviv\", \"Ilove\":\"Python\"}\n",
    "mylist = []\n",
    "\n",
    "for key in mydict.keys():\n",
    "    mystring = key+mydict[key]\n",
    "    mylist.append(mystring)"
   ]
  },
  {
   "cell_type": "code",
   "execution_count": null,
   "metadata": {},
   "outputs": [],
   "source": [
    "nameList = ['Harsh', 'Pratik', 'Bob', 'Dhruv'] \n",
    "  \n",
    "print nameList[1][-1] "
   ]
  },
  {
   "cell_type": "code",
   "execution_count": null,
   "metadata": {},
   "outputs": [],
   "source": [
    "def sep(mylist):\n",
    "    strings = []\n",
    "    ints    = []\n",
    "    \n",
    "    for elem in mylist:\n",
    "        if type(elem) == str:\n",
    "            strings.append(elem)\n",
    "        elif type(elem) == int:\n",
    "            ints.append(elem)\n",
    "            \n",
    "    for elem in strings:\n",
    "        ints.append(elem)\n",
    "    \n",
    "    return ints\n",
    "\n",
    "print(sep([1,\"hey\",3,5,\"there\",10,\"howareyou\"]))\n",
    "    "
   ]
  },
  {
   "cell_type": "code",
   "execution_count": 14,
   "metadata": {},
   "outputs": [],
   "source": [
    "def rev(mylist):\n",
    "    new = []\n",
    "    for i in range(len(mylist), 0, -1):\n",
    "        new.append(mylist[i])\n",
    "    return new\n",
    "\n",
    "rev([1,2,3,4,5])"
   ]
  },
  {
   "cell_type": "code",
   "execution_count": null,
   "metadata": {},
   "outputs": [],
   "source": [
    "def bs(mylist):\n",
    "    for prev in range(len(mylist)-1, 0, -1):\n",
    "        for i in range(prev):\n",
    "            if mylist[i] > mylist[i+1]:\n",
    "                tmp         = mylist[i]\n",
    "                mylist[i]   = mylist[i+1]\n",
    "                mylist[i+1] = tmp \n",
    "    return mylist\n",
    "print(bubble_sort([2,3,1,5,4,6]))"
   ]
  },
  {
   "cell_type": "code",
   "execution_count": null,
   "metadata": {},
   "outputs": [],
   "source": [
    "def insertion_s(input_list):\n",
    "    for i in range(1, len(input_list)):\n",
    "        j = i-1\n",
    "        next_element = input_list[i]\n",
    "        while (input_list[j] > next_element) and (j >= 0):\n",
    "            input_list[j+1] = input_list[j]\n",
    "            j=j-1\n",
    "        input_list[j+1] = next_element\n",
    "\n",
    "l = [19,2,31,45,30,11,121,27]\n",
    "insertion_s(l)\n",
    "print(l)"
   ]
  },
  {
   "cell_type": "markdown",
   "metadata": {},
   "source": [
    "## Bit harder...."
   ]
  },
  {
   "cell_type": "code",
   "execution_count": 3,
   "metadata": {},
   "outputs": [
    {
     "name": "stdout",
     "output_type": "stream",
     "text": [
      "[2, 11, 19, 27, 30, 31, 45, 121]\n"
     ]
    }
   ],
   "source": [
    "def shell_s(input_list):\n",
    "    \n",
    "    gap = len(input_list) // 2\n",
    "    while gap > 0:\n",
    "\n",
    "        for i in range(gap, len(input_list)):\n",
    "            temp = input_list[i]\n",
    "            j = i\n",
    "\n",
    "            while j >= gap and input_list[j - gap] > temp:\n",
    "                input_list[j] = input_list[j - gap]\n",
    "                j = j-gap\n",
    "            input_list[j] = temp\n",
    "\n",
    "        gap = gap//2\n",
    "\n",
    "l = [19,2,31,45,30,11,121,27]\n",
    "\n",
    "shell_s(l)\n",
    "print(l)"
   ]
  },
  {
   "cell_type": "code",
   "execution_count": null,
   "metadata": {},
   "outputs": [],
   "source": []
  }
 ],
 "metadata": {
  "kernelspec": {
   "display_name": "Python 3",
   "language": "python",
   "name": "python3"
  },
  "language_info": {
   "codemirror_mode": {
    "name": "ipython",
    "version": 3
   },
   "file_extension": ".py",
   "mimetype": "text/x-python",
   "name": "python",
   "nbconvert_exporter": "python",
   "pygments_lexer": "ipython3",
   "version": "3.6.5"
  }
 },
 "nbformat": 4,
 "nbformat_minor": 2
}
