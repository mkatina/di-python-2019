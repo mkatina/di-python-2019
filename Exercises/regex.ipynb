{
 "cells": [
  {
   "cell_type": "code",
   "execution_count": 63,
   "metadata": {},
   "outputs": [
    {
     "name": "stdout",
     "output_type": "stream",
     "text": [
      "['rwr.vfs.tre.tgf']\n"
     ]
    }
   ],
   "source": [
    "import re\n",
    "\n",
    "file_content = open(\"file.txt\", 'r').read()\n",
    "\n",
    "regex_pattern = r\"^(?:.{3}\\.){3}.{3}$\"\t# Do not delete 'r'.\n",
    "\n",
    "matches = re.findall(regex_pattern, \"rwr.vfs.tre.tgf\")\n",
    "\n",
    "print((matches))\n"
   ]
  },
  {
   "cell_type": "code",
   "execution_count": 47,
   "metadata": {},
   "outputs": [
    {
     "name": "stdout",
     "output_type": "stream",
     "text": [
      "<html>\n",
      "<head>\n",
      "  <title>re</title>\n",
      "  <link rel=\"stylesheet\" type=\"text/css\" href=\"../style.css\">\n",
      "</head>\n",
      "<body>\n",
      "<center>\n",
      "<img src=\"bodyguard.jpg\"/><br>\n",
      "<font color=\"#ffd000\">\n",
      "One small letter, surrounded by <b>EXACTLY</b> three big bodyguards on \n",
      "each\n"
     ]
    }
   ],
   "source": [
    "print(file_content[:250])"
   ]
  },
  {
   "cell_type": "code",
   "execution_count": null,
   "metadata": {},
   "outputs": [],
   "source": []
  }
 ],
 "metadata": {
  "kernelspec": {
   "display_name": "Python 3",
   "language": "python",
   "name": "python3"
  },
  "language_info": {
   "codemirror_mode": {
    "name": "ipython",
    "version": 3
   },
   "file_extension": ".py",
   "mimetype": "text/x-python",
   "name": "python",
   "nbconvert_exporter": "python",
   "pygments_lexer": "ipython3",
   "version": "3.7.3"
  }
 },
 "nbformat": 4,
 "nbformat_minor": 2
}
